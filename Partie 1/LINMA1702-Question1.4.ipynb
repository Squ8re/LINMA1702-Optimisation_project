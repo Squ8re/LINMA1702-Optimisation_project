{
 "cells": [
  {
   "cell_type": "markdown",
   "metadata": {},
   "source": [
    "Amadéo David (44761700) - Marine Van Renterghem (31621700) - Sylvie Van Schendel (44841700)"
   ]
  },
  {
   "cell_type": "markdown",
   "metadata": {},
   "source": [
    "# LINMA1702 Optimisation d'un réseau de distribution d'eau"
   ]
  },
  {
   "cell_type": "markdown",
   "metadata": {},
   "source": [
    "## I. Analyse d'un réseau existant\n"
   ]
  },
  {
   "cell_type": "markdown",
   "metadata": {},
   "source": [
    "Soit h le vecteur contenant les hauteurs en chaque point, f le vecteur contenant les débits circulant dans le"
   ]
  },
  {
   "cell_type": "code",
   "execution_count": 6,
   "metadata": {},
   "outputs": [],
   "source": [
    "from scipy.optimize import linprog # import du solveur d'optimisation linéaire à utiliser\n",
    "import matplotlib.pyplot as plt # pour graphiques éventuels\n",
    "import numpy as np"
   ]
  },
  {
   "cell_type": "code",
   "execution_count": 17,
   "metadata": {},
   "outputs": [],
   "source": [
    "#Fonction retournant [f,xC,xA] avec f la valeur de la fonction objectif maximale \n",
    "#xC un vecteur des valeurs optimales des débits aux points de consommation\n",
    "#xA un vecteur des valeurs optimales des débits aux points d'approvisionnement\n",
    "#Soit Pf le prix facturé\n",
    "#Soit C le cout\n",
    "#Soit DCmin et DCmax les valeurs minimales et maximales du débit aux points de consommation\n",
    "#Soit DAmax les valeurs maximales du débit extractibles aux sources\n",
    "def Analyse(C,Pf,Dcmin,Dcmax,Damax): \n",
    "    c=-1*np.concatenate(C,Pf) #On traite un problème de maximisation\n",
    "    A1=np.eye(len(Dcmin)+len(Damax))\n",
    "    A2=np.zeros(len(Dcmin),len(Dcmin)+len(Damax))\n",
    "    A2[0:len(Dcmin)][0:len(Dcmin)]=np.eye(len(Dcmin))\n",
    "    A=np.concatenate(A1,-1*A2)\n",
    "    A3=np.ones((1,len(Dcmin)+len(Damax)))\n",
    "    A3[0,len(Dcmin):(len(Dcmin)+len(Damax))]*=-1\n",
    "    A=np.concatenate(A,A3)\n",
    "    b=np.concatenate(np.concatenate(Dcmax,Damax),np.concatenate(-1*Dcmin,[0]))\n",
    "    res=linprog(c,A,B)\n",
    "    return [res.fun, res.x[0:len(Dcmin)],res.x[len(Dcmin),len(Dcmin)+len(Damax)]]"
   ]
  },
  {
   "cell_type": "code",
   "execution_count": 18,
   "metadata": {},
   "outputs": [],
   "source": [
    "def readFile(fileName): \n",
    "    with open(fileName,\"r\") as f :\n",
    "        nPoints = int(f.readline().split()[0])\n",
    "        nConduites=int(f.readline().split()[0])\n",
    "        f.readline()\n",
    "        f.readline()\n",
    "        xyz   = np.array(list(list(float(w) for w in f.readline().split()[:]) for i in range(nPoints)))\n",
    "        f.readline()\n",
    "        f.readline()\n",
    "        A = np.array(list(list(float(w) for w in f.readline().split()[:]) for i in range(nPoints)))\n",
    "        alpha=10**6\n",
    "        R=1\n",
    "        Pa=[2, 3, 13, 32, 49]\n",
    "        Damax=[5000, 10000, 5000, 3000, 15000]\n",
    "        C= [0.2, 0.2, 0.3, 0.3, 0.1]\n",
    "        Pc=[1, 4, 8, 9, 10, 14, 16, 17, 18, 24, 28, 33, 36, 34, 42, 47, 55, 64, 67, 76]\n",
    "        Dcmin=[500, 500, 500, 500, 500, 500, 500, 500, 500, 500, 500, 500, 500, 500, 500, 500, 500, 500, 500, 500]\n",
    "        Dcmax=[4000, 2000, 2000, 2000, 2000, 3000, 2000, 2000, 2000, 2000, 5000, 2000, 2000, 2000, 2000, 2000, 2000, 2000, 3000, 2000]\n",
    "        Pf=0.9\n",
    "        Pi=[5, 6, 7, 11, 12, 15, 19, 20, 21, 22, 23, 25, 26, 27, 29, 30, 31, 35, 37, 38, 39, 40, 41, 43, 44, 45, 46, 48, 50, 51, 52, 53, 54, 56, 57, 58, 59, 60, 61, 62, 63, 65, 66, 68, 69, 70, 71, 72, 73, 74, 75]\n",
    "        X = xyz[:,0]\n",
    "        Y = xyz[:,1]\n",
    "        Z = xyz[:,2]\n",
    "        \n",
    "    return [nPoints,nConduites,X,Y,Z,A,R,Pa,Damax,C,Pc,Dcmin,Dcmax,Pf,Pi,alpha]\n",
    "    "
   ]
  },
  {
   "cell_type": "code",
   "execution_count": 19,
   "metadata": {},
   "outputs": [
    {
     "ename": "TypeError",
     "evalue": "only integer scalar arrays can be converted to a scalar index",
     "output_type": "error",
     "traceback": [
      "\u001b[1;31m---------------------------------------------------------------------------\u001b[0m",
      "\u001b[1;31mTypeError\u001b[0m                                 Traceback (most recent call last)",
      "\u001b[1;32m<ipython-input-19-11ef2474b848>\u001b[0m in \u001b[0;36m<module>\u001b[1;34m()\u001b[0m\n\u001b[0;32m      1\u001b[0m \u001b[1;33m[\u001b[0m\u001b[0mnPoints\u001b[0m\u001b[1;33m,\u001b[0m\u001b[0mnConduites\u001b[0m\u001b[1;33m,\u001b[0m\u001b[0mX\u001b[0m\u001b[1;33m,\u001b[0m\u001b[0mY\u001b[0m\u001b[1;33m,\u001b[0m\u001b[0mZ\u001b[0m\u001b[1;33m,\u001b[0m\u001b[0mA\u001b[0m\u001b[1;33m,\u001b[0m\u001b[0mR\u001b[0m\u001b[1;33m,\u001b[0m\u001b[0mPa\u001b[0m\u001b[1;33m,\u001b[0m\u001b[0mDamax\u001b[0m\u001b[1;33m,\u001b[0m\u001b[0mC\u001b[0m\u001b[1;33m,\u001b[0m\u001b[0mPc\u001b[0m\u001b[1;33m,\u001b[0m\u001b[0mDcmin\u001b[0m\u001b[1;33m,\u001b[0m\u001b[0mDcmax\u001b[0m\u001b[1;33m,\u001b[0m\u001b[0mPf\u001b[0m\u001b[1;33m,\u001b[0m\u001b[0mPi\u001b[0m\u001b[1;33m,\u001b[0m\u001b[0malpha\u001b[0m\u001b[1;33m]\u001b[0m\u001b[1;33m=\u001b[0m\u001b[0mreadFile\u001b[0m\u001b[1;33m(\u001b[0m\u001b[1;34m\"Data-partie1.txt\"\u001b[0m\u001b[1;33m)\u001b[0m\u001b[1;33m\u001b[0m\u001b[0m\n\u001b[1;32m----> 2\u001b[1;33m \u001b[0mprint\u001b[0m\u001b[1;33m(\u001b[0m\u001b[0mAnalyse\u001b[0m\u001b[1;33m(\u001b[0m\u001b[0mC\u001b[0m\u001b[1;33m,\u001b[0m\u001b[0mPf\u001b[0m\u001b[1;33m*\u001b[0m\u001b[0mnp\u001b[0m\u001b[1;33m.\u001b[0m\u001b[0mones\u001b[0m\u001b[1;33m(\u001b[0m\u001b[0mlen\u001b[0m\u001b[1;33m(\u001b[0m\u001b[0mDcmin\u001b[0m\u001b[1;33m)\u001b[0m\u001b[1;33m)\u001b[0m\u001b[1;33m,\u001b[0m\u001b[0mDcmin\u001b[0m\u001b[1;33m,\u001b[0m\u001b[0mDcmax\u001b[0m\u001b[1;33m,\u001b[0m\u001b[0mDamax\u001b[0m\u001b[1;33m)\u001b[0m\u001b[1;33m)\u001b[0m\u001b[1;33m\u001b[0m\u001b[0m\n\u001b[0m",
      "\u001b[1;32m<ipython-input-17-6b8991353a33>\u001b[0m in \u001b[0;36mAnalyse\u001b[1;34m(C, Pf, Dcmin, Dcmax, Damax)\u001b[0m\n\u001b[0;32m      7\u001b[0m \u001b[1;31m#Soit DAmax les valeurs maximales du débit extractibles aux sources\u001b[0m\u001b[1;33m\u001b[0m\u001b[1;33m\u001b[0m\u001b[0m\n\u001b[0;32m      8\u001b[0m \u001b[1;32mdef\u001b[0m \u001b[0mAnalyse\u001b[0m\u001b[1;33m(\u001b[0m\u001b[0mC\u001b[0m\u001b[1;33m,\u001b[0m\u001b[0mPf\u001b[0m\u001b[1;33m,\u001b[0m\u001b[0mDcmin\u001b[0m\u001b[1;33m,\u001b[0m\u001b[0mDcmax\u001b[0m\u001b[1;33m,\u001b[0m\u001b[0mDamax\u001b[0m\u001b[1;33m)\u001b[0m\u001b[1;33m:\u001b[0m\u001b[1;33m\u001b[0m\u001b[0m\n\u001b[1;32m----> 9\u001b[1;33m     \u001b[0mc\u001b[0m\u001b[1;33m=\u001b[0m\u001b[1;33m-\u001b[0m\u001b[1;36m1\u001b[0m\u001b[1;33m*\u001b[0m\u001b[0mnp\u001b[0m\u001b[1;33m.\u001b[0m\u001b[0mconcatenate\u001b[0m\u001b[1;33m(\u001b[0m\u001b[0mC\u001b[0m\u001b[1;33m,\u001b[0m\u001b[0mPf\u001b[0m\u001b[1;33m)\u001b[0m \u001b[1;31m#On traite un problème de maximisation\u001b[0m\u001b[1;33m\u001b[0m\u001b[0m\n\u001b[0m\u001b[0;32m     10\u001b[0m     \u001b[0mA1\u001b[0m\u001b[1;33m=\u001b[0m\u001b[0mnp\u001b[0m\u001b[1;33m.\u001b[0m\u001b[0meye\u001b[0m\u001b[1;33m(\u001b[0m\u001b[0mlen\u001b[0m\u001b[1;33m(\u001b[0m\u001b[0mDcmin\u001b[0m\u001b[1;33m)\u001b[0m\u001b[1;33m+\u001b[0m\u001b[0mlen\u001b[0m\u001b[1;33m(\u001b[0m\u001b[0mDamax\u001b[0m\u001b[1;33m)\u001b[0m\u001b[1;33m)\u001b[0m\u001b[1;33m\u001b[0m\u001b[0m\n\u001b[0;32m     11\u001b[0m     \u001b[0mA2\u001b[0m\u001b[1;33m=\u001b[0m\u001b[0mnp\u001b[0m\u001b[1;33m.\u001b[0m\u001b[0mzeros\u001b[0m\u001b[1;33m(\u001b[0m\u001b[0mlen\u001b[0m\u001b[1;33m(\u001b[0m\u001b[0mDcmin\u001b[0m\u001b[1;33m)\u001b[0m\u001b[1;33m,\u001b[0m\u001b[0mlen\u001b[0m\u001b[1;33m(\u001b[0m\u001b[0mDcmin\u001b[0m\u001b[1;33m)\u001b[0m\u001b[1;33m+\u001b[0m\u001b[0mlen\u001b[0m\u001b[1;33m(\u001b[0m\u001b[0mDamax\u001b[0m\u001b[1;33m)\u001b[0m\u001b[1;33m)\u001b[0m\u001b[1;33m\u001b[0m\u001b[0m\n",
      "\u001b[1;31mTypeError\u001b[0m: only integer scalar arrays can be converted to a scalar index"
     ]
    }
   ],
   "source": [
    "[nPoints,nConduites,X,Y,Z,A,R,Pa,Damax,C,Pc,Dcmin,Dcmax,Pf,Pi,alpha]=readFile(\"Data-partie1.txt\")\n",
    "print(Analyse(C,Pf*np.ones(len(Dcmin)),Dcmin,Dcmax,Damax))"
   ]
  },
  {
   "cell_type": "markdown",
   "metadata": {},
   "source": [
    "# II. Améliorations du réseau"
   ]
  },
  {
   "cell_type": "markdown",
   "metadata": {},
   "source": [
    "# III. Conception d'un réseau optimal"
   ]
  }
 ],
 "metadata": {
  "kernelspec": {
   "display_name": "Python 3",
   "language": "python",
   "name": "python3"
  },
  "language_info": {
   "codemirror_mode": {
    "name": "ipython",
    "version": 3
   },
   "file_extension": ".py",
   "mimetype": "text/x-python",
   "name": "python",
   "nbconvert_exporter": "python",
   "pygments_lexer": "ipython3",
   "version": "3.6.5"
  }
 },
 "nbformat": 4,
 "nbformat_minor": 2
}
