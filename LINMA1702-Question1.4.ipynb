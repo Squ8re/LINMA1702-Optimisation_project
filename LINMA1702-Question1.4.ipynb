{
 "cells": [
  {
   "cell_type": "code",
   "execution_count": 1,
   "metadata": {},
   "outputs": [],
   "source": [
    "from scipy.optimize import linprog # import du solveur d'optimisation linéaire à utiliser\n",
    "import matplotlib.pyplot as plt # pour graphiques éventuels\n",
    "import numpy as np"
   ]
  },
  {
   "cell_type": "code",
   "execution_count": 2,
   "metadata": {},
   "outputs": [],
   "source": [
    "#Fonction retournant [f,xC,xA] avec f la valeur de la fonction objectif maximale \n",
    "#xC un vecteur des valeurs optimales des débits aux points de consommation\n",
    "#xA un vecteur des valeurs optimales des débits aux points d'approvisionnement\n",
    "#Soit Pf le prix facturé\n",
    "#Soit C le cout\n",
    "#Soit DCmin et DCmax les valeurs minimales et maximales du débit aux points de consommation\n",
    "#Soit DAmax les valeurs maximales du débit extractibles aux sources\n",
    "def Analyse(C,Pf,Dcmin,Dcmax,Damax): \n",
    "    c=-1*np.concatenate(C,Pf) #On traite un problème de maximisation\n",
    "    A1=np.eye(len(Dcmin)+len(Damax))\n",
    "    A2=np.zeros(len(Dcmin),len(Dcmin)+len(Damax))\n",
    "    A2[0:len(Dcmin)][0:len(Dcmin)]=np.eye(len(Dcmin))\n",
    "    A=np.concatenate(A1,-1*A2)\n",
    "    A3=np.ones((1,len(Dcmin)+len(Damax)))\n",
    "    A3[0,len(Dcmin):len(Dcmin)+len(Damax)]*=-1\n",
    "    A=np.concatenate(A,A3)\n",
    "    b=np.concatenate(np.concatenate(Dcmax,Damax),np.concatenate(-1*Dcmin,[0]))\n",
    "    res=linprog(c,A,B)\n",
    "    return [res.fun, res.x[0:len(Dcmin)],res.x[len(Dcmin),len(Dcmin)+len(Damax)]]"
   ]
  },
  {
   "cell_type": "code",
   "execution_count": null,
   "metadata": {},
   "outputs": [],
   "source": []
  }
 ],
 "metadata": {
  "kernelspec": {
   "display_name": "Python 3",
   "language": "python",
   "name": "python3"
  },
  "language_info": {
   "codemirror_mode": {
    "name": "ipython",
    "version": 3
   },
   "file_extension": ".py",
   "mimetype": "text/x-python",
   "name": "python",
   "nbconvert_exporter": "python",
   "pygments_lexer": "ipython3",
   "version": "3.6.5"
  }
 },
 "nbformat": 4,
 "nbformat_minor": 2
}
