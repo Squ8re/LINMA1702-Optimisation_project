{
 "cells": [
  {
   "cell_type": "markdown",
   "metadata": {},
   "source": [
    "Amadéo David (44761700) - Marine Van Renterghem (31621700) - Sylvie Van Schendel (44841700)"
   ]
  },
  {
   "cell_type": "markdown",
   "metadata": {},
   "source": [
    "# LINMA1702 Optimisation d'un réseau de distribution d'eau"
   ]
  },
  {
   "cell_type": "markdown",
   "metadata": {},
   "source": [
    "## I. Analyse d'un réseau existant"
   ]
  },
  {
   "cell_type": "markdown",
   "metadata": {},
   "source": [
    "### I.1 Que représentent les expressions $A^Th$ et $Af$ ?"
   ]
  },
  {
   "cell_type": "markdown",
   "metadata": {},
   "source": [
    "Soit h le vecteur contenant les hauteurs en chaque point, f le vecteur contenant les débits circulant dans les conduites et A la matrice d'incidence.\n",
    "\n",
    "L'expression $A^Th$ est le vecteur contenant le dénivelé de chaque conduite.\n",
    "\n",
    "L'expression $Af$ est le vecteur contenant les débits nets en chaque point."
   ]
  },
  {
   "cell_type": "markdown",
   "metadata": {},
   "source": [
    "### I.2 Profil de consommation\n",
    "Soit le profil de consommation $D_c$ le vecteur regroupant les débits fournis en chaque point de consommation, $D_a$ le vecteur contenant les débits extraits en chaque point d'approvisionnement et $D_i$ le vecteur contenant les débits fournis et extraits en chaque point intermédiaire.\n",
    "\n",
    "On peut modéliser l'ensemble des profils de consommation réalisables à l'aide des contraintes linéaires suivantes : \n",
    "\n",
    "$$D_a \\leq D_{amax}$$\n",
    "$$D_i = 0$$\n",
    "\n",
    "avec $D_{amax}$ le vecteur regroupant les débits maximaux en chaque point d'approvisionnement. \n",
    "\n",
    "Soit le débit circulant dans une conduite défini par : $\\frac{ \\alpha R^2\\Delta h}{L} \\theta$ \n",
    "avec $\\alpha$ une constante de proportionnalité, $\\Delta h$ la différence de hauteur entre les extrémités de la conduite, R le rayon de la conduite, L la longueur de la conduite et $\\theta$ un paramètre ajustable entre 0 et 1.\n",
    "\n",
    "Soit $A_{PA}$ la matrice d'incidence évaluée aux points d'approvisionnement et $A_{PI}$ la matrice d'incidence évaluée aux points intermédiaires, les contraintes linéaires s'écrivent alors : \n",
    "\n",
    "$$ A_{PA} \\frac{\\alpha R^2 \\Delta h}{L} \\theta \\leq D_{amax}$$\n",
    "$$ A_{PI} \\frac{\\alpha R^2 \\Delta h}{L} \\theta = 0$$\n",
    "$$ 0 \\leq \\theta \\leq 1 $$\n",
    "\n",
    "Démontrons que cet ensemble est un polyèdre. \n",
    "\n",
    "\n",
    "Un **polyèdre** de $\\mathbb{R}^n$ est un sous-ensemble de $\\mathbb{R}^n$ qui peut être écrit comme une intersection d'un nombre fini de demi-espaces de $\\mathbb{R}^n$. \n",
    "$\\mathcal{P}=\\{ x\\in \\mathbb{R}^n \\ |\\ a_i^T x \\geq b_i \\ i=1,...,m \\}$  et en notation matricielle : $\\mathcal{P}=\\{ x\\ |\\ A x \\geq b\\}$. \n",
    "\n",
    "Un **demi-espace (fermé)** de $\\mathbb{R}^n$ est un sous-ensemble de $\\mathbb{R}^n$ qui peut être écrit comme $\\{ x\\in \\mathbb{R}^n \\ |\\ a^T x \\geq b\\}$ pour certains $b\\in \\mathbb{R} $ et $a\\in \\mathbb{R}^n \\ (a \\neq 0)$.\n",
    "C'est donc l'ensemble des points qui se trouvent d'un côté donné d'un hyperplan.\n",
    "\n",
    "A partir de ces deux définitions, on peut donc dire que notre profil de consommation est un polyèdre de $\\mathbb{R}^{m+n+p}$ avec m le nombre de points d'approvisionnement, n le nombre de points de consommation et p le nombres de points intermédiaires.\n",
    "En effet, cet ensemble est bien l'intersection de 5 demi-espaces de $\\mathbb{R}^{m+n+p}$ : \n",
    "\n",
    "$$-A_{PA} \\frac{\\alpha R^2 \\Delta h}{L} \\theta \\geq - D_{amax}$$\n",
    "$$ A_{PI} \\frac{\\alpha R^2 \\Delta h}{L} \\theta \\geq 0$$\n",
    "$$- A_{PI} \\frac{\\alpha R^2 \\Delta h}{L} \\theta \\geq 0$$\n",
    "$$ \\theta \\geq 0$$\n",
    "$$ -\\theta \\geq -1$$\n",
    "\n",
    "Pour déterminer si un profil donné est réalisable par le réseau ou non, il faudra donc vérifier, pour chaque indice du vecteur $\\theta$, que les 5 inégalités soient bien vérifiées."
   ]
  },
  {
   "cell_type": "markdown",
   "metadata": {},
   "source": [
    "### I.3 Maximisation du bénéfice réalisé par le réseau"
   ]
  },
  {
   "cell_type": "markdown",
   "metadata": {},
   "source": [
    "Soit $D_{cmin}$ et $D_{cmax}$ des vecteurs contenant les valeurs minimales et maximales du débit en chaque point de consommation, C le vecteur contenant le coût d'extraction  pour chaque point d'approvisionnement (proportionnel au débit extrait), $P_f$ le vecteur contenant le prix facturé pour chaque point de consommation (proportionnel au débit réellement fourni et consommé) et $A_{PC}$ la matrice d'incidence évaluée aux points de consommation.\n",
    "\n",
    "Formulons la maximisation du bénéfice réalisé par le réseau comme un problème d'optimisation linéaire continu :\n",
    "\n",
    "\\begin{align*}\n",
    "\t\\max_{D_a \\in \\mathbb{R}^m, D_c \\in \\mathbb{R}^n et D_i \\in \\mathbb{R}^p} P_f^T D_c - C^T D_a\\\\\n",
    "\tD_c\\geq D_{cmin}\\\\\n",
    "\t-D_c\\geq -D_{cmax}\\\\\n",
    "    -D_a\\geq -D_{amax}\\\\\n",
    "\tD_i \\geq 0 \\\\\n",
    "    -D_i \\geq 0 \\\\\n",
    "\\end{align*}\n",
    "\n",
    "où m est le nombre de points d'approvisionnement, n le nombre de points de consommation et p le nombres de points intermédiaires.\n",
    "\n",
    "Sachant que $D_a$ est de dimension m, que $D_c$ est de dimension n et que $D_i$ est de dimension p, les dimensions du problème sont les suivantes :\n",
    "\n",
    "- m + n + p variables\n",
    "- m + 2n + 2p contraintes\n",
    "\n",
    "Sachant que le débit circulant dans une conduite est défini par : $\\alpha \\theta \\frac{R^2\\Delta h}{L}$\n",
    "\n",
    "notre problème peut s'écrire :\n",
    "\n",
    "\\begin{align*}\n",
    "\t\\max_{\\theta \\in \\mathbb{R}^{nConduites}} P_f^T A_{PC}\\frac{\\alpha R^2\\Delta h}{L} \\theta + C^T A_{PA}\\frac{\\alpha R^2\\Delta h}{L} \\theta\\\\\n",
    "\tA_{PC}\\frac{\\alpha R^2\\Delta h}{L} \\theta\\geq D_{cmin}\\\\\n",
    "\t-A_{PC}\\frac{\\alpha R^2\\Delta h}{L} \\theta\\geq -D_{cmax}\\\\\n",
    "    -A_{PA}\\frac{\\alpha R^2\\Delta h}{L} \\theta\\geq -D_{amax}\\\\\n",
    "\tA_{PI}\\frac{\\alpha R^2\\Delta h}{L} \\theta \\geq 0 \\\\\n",
    "    -A_{PI}\\frac{\\alpha R^2\\Delta h}{L} \\theta \\geq 0 \\\\\n",
    "    \\theta \\geq 0 \\\\ \n",
    "    -\\theta \\geq -1 \\\\\n",
    "\\end{align*}\n",
    "\n",
    "avec $\\theta$ le paramètre ajustant le débit dans chaque conduite.\n",
    "\n",
    "Sachant que $\\theta$ est de dimension nConduites, les dimensions du problème sont les suivantes :\n",
    "\n",
    "- nConduites variables\n",
    "- m + 2n + 2p + 2nConduites contraintes\n",
    "\n",
    "Les contraintes supplémentaires viennent du fait que le paramètre $\\theta$ doit être compris entre 0 et 1."
   ]
  },
  {
   "cell_type": "markdown",
   "metadata": {},
   "source": [
    "### I.4 Résolution numérique du problème I.3 avec les données fournies"
   ]
  },
  {
   "cell_type": "markdown",
   "metadata": {},
   "source": [
    "Le programme numérique utilisé requiert l'importation de différents packages de python. Voici leur utilité :\n",
    "- scipy.optimize permet d'utiliser la fonction \"linprog\" qui est nécessaire à la résolution d'optimisations linéaires;\n",
    "- matplotlib.pyplot permet de créer des graphes;\n",
    "- numpy permet de gérer des tableaux multidimensionnels ainsi que d'effectuer plus rapidement des calculs sur ceux-ci."
   ]
  },
  {
   "cell_type": "code",
   "execution_count": 46,
   "metadata": {},
   "outputs": [],
   "source": [
    "from scipy.optimize import linprog # import du solveur d'optimisation linéaire à utiliser\n",
    "import matplotlib.pyplot as plt # pour graphiques éventuels\n",
    "import numpy as np"
   ]
  },
  {
   "cell_type": "markdown",
   "metadata": {},
   "source": [
    "Afin d'améliorer la flexibilité du programme, nous avons voulu ajouter la possibilité de lire et d'extraire les données stockées dans un fichier au format \".txt\" formaté de la même manière que les exemples qui nous ont été fournis sur Moodle.\n",
    "\n",
    "Nous avons donc dû ajouter une fonction à notre programme. \n",
    "Appelée simplement \"readFile\" et prenant en paramètre le nom du fichier à lire, celle-ci renvoie un tuple contenant l'ensemble des données nécessaires aux calculs d'optimisation du problème."
   ]
  },
  {
   "cell_type": "code",
   "execution_count": 47,
   "metadata": {},
   "outputs": [],
   "source": [
    "def readFile(file_name):\n",
    "    \"\"\"\n",
    "    Cette fonction lit un fichier formatté au type utilise dans les exemples du\n",
    "    projet\n",
    "    @pre                : Le fichier file_name est organise de la meme maniere\n",
    "                          que les exemples donnes sur Moodle.\n",
    "    \n",
    "    @param file_name    : contient un String avec le nom du fichier a lire.\n",
    "    \n",
    "    @return n_points    : Contient un 'int' avec le nombre de points\n",
    "    @return n_conduites : Contient un 'int' avec le nombre de conduites\n",
    "    @return X           : Contient un 'numpy.array' avec les abscisses des points.\n",
    "    @return Y           : Contient un 'numpy.array' avec les ordonnees des points.\n",
    "    @return Z           : Contient un 'numpy.array' avec la hauteur des points.\n",
    "    @return A           : Contient un 'numpy.array' avec la matrice d'incidence\n",
    "                          des conduites.\n",
    "    @return alpha       : Contient un 'float' avecla valeur de alpha.\n",
    "    @return R           : Contient un 'float' avec le rayon des conduites.\n",
    "    @return pa          : Contient un 'numpy.array' avec les points\n",
    "                          d'approvisionnement.\n",
    "    @return da_max      : Contient un 'numpy.array' avec les debits maximaux\n",
    "                          extractibles.\n",
    "    @return C           : Contient un 'numpy.array' avec les couts d'extraction.\n",
    "    @return pc          : Contient un 'numpy.array' avec les points de\n",
    "                          consommation.\n",
    "    @return dc_min      : Contient un 'numpy.array' avec les debits minimaux\n",
    "                          consommables.\n",
    "    @return dc_max      : Contient un 'numpy.array' avec les debits maximaux\n",
    "                          consommables.\n",
    "    @return Pf          : Contient un 'float' avec le prix facture.\n",
    "    @return pi          : Contient un 'numpy.array' avec les points\n",
    "                          intermediaires.\n",
    "    @return unit        : Contient un 'String' avec l'unite des coordonnes des\n",
    "                          points.\n",
    "    \"\"\"\n",
    "    with open(file_name,'r') as f:\n",
    "        n_points    = (int)(f.readline().split()[0])\n",
    "        n_conduites = (int)(f.readline().split()[0])\n",
    "        f.readline()\n",
    "        unit        = (f.readline().split(\" = \")[1])\n",
    "        \n",
    "        coord       = np.array(list(list(float(w) for w in f.readline().split()[:]) for i in range(n_points)))\n",
    "        X           = coord[:,0]\n",
    "        Y           = coord[:,1]\n",
    "        Z           = coord[:,2]\n",
    "        \n",
    "        f.readline()\n",
    "        f.readline()\n",
    "        A           = np.array(list(list(float(w) for w in f.readline().split()[:]) for i in range(n_points)))\n",
    "        f.readline()\n",
    "        \n",
    "        UL_alpha    = f.readline().split(\" = \")[1]\n",
    "        UL_alpha    = UL_alpha.split()[0]\n",
    "        UL2_alpha   = np.array(UL_alpha.split(\"^\"))\n",
    "        if(len(UL2_alpha) == 1):\n",
    "            alpha   = (float)(UL2_alpha)\n",
    "        else:\n",
    "            alpha   = (float)(UL2_alpha[0]) ** (float)(UL2_alpha[1])\n",
    "        \n",
    "        R           = (float)(f.readline().split()[4])\n",
    "        f.readline()\n",
    "        \n",
    "        UL_pa       = f.readline().split(\" = [\")[1]\n",
    "        UL_pa       = UL_pa.split(\"]\")[0]\n",
    "        pa          = np.array(list(int(w) for w in UL_pa.split()[:]))\n",
    "        \n",
    "        UL_da_max   = f.readline().split(\" = [\")[1]\n",
    "        UL_da_max   = UL_da_max.split(\"]\")[0]\n",
    "        da_max      = np.array(list(float(w) for w in UL_da_max.split()[:]))\n",
    "        \n",
    "        UL_C        = f.readline().split(\" = [\")[1]\n",
    "        UL_C        = UL_C.split(\"]\")[0]\n",
    "        C           = np.array(list(float(w) for w in UL_C.split()[:]))\n",
    "        \n",
    "        f.readline()\n",
    "        \n",
    "        UL_pc       = f.readline().split(\" = [\")[1]\n",
    "        UL_pc       = UL_pc.split(\"]\")[0]\n",
    "        pc          = np.array(list(int(w) for w in UL_pc.split()[:]))\n",
    "        \n",
    "        UL_dc_min   = f.readline().split(\" = [\")[1]\n",
    "        UL_dc_min   = UL_dc_min.split(\"]\")[0]\n",
    "        dc_min      = np.array(list(float(w) for w in UL_dc_min.split()[:]))\n",
    "        \n",
    "        UL_dc_max   = f.readline().split(\" = [\")[1]\n",
    "        UL_dc_max   = UL_dc_max.split(\"]\")[0]\n",
    "        dc_max      = np.array(list(float(w) for w in UL_dc_max.split()[:]))\n",
    "        \n",
    "        Pf          = (float)(f.readline().split()[3])\n",
    "        \n",
    "        f.readline()\n",
    "        \n",
    "        UL_pi       = f.readline().split(\"[\")[1]\n",
    "        UL_pi       = UL_pi.split(\"]\")[0]\n",
    "        pi          = np.array(list(float(w) for w in UL_pi.split()[:]))\n",
    "        \n",
    "    return (n_points, n_conduites, X, Y, Z, A, alpha, R, pa, da_max, C, pc, dc_min, dc_max, Pf, pi, unit)"
   ]
  },
  {
   "cell_type": "markdown",
   "metadata": {},
   "source": [
    "Notre programme de résolution à proprement parlé est défini dans la fonction \"Analyse\" ci-dessous et prends en argument, dans l'ordre, \n",
    "- les coûts d'extraction;\n",
    "- le prix facturé aux consommateurs;\n",
    "- les minima des débits consommables;\n",
    "- les maxima des débits consommables;\n",
    "- les maxima des débits extractibles.\n",
    "\n",
    "Cette fonction renvoie, dans l'ordre,\n",
    "- le bénéfice du réseau;\n",
    "- les débits de consommation;\n",
    "- PAS COMPRIS ?!?"
   ]
  },
  {
   "cell_type": "code",
   "execution_count": 48,
   "metadata": {},
   "outputs": [],
   "source": [
    "#Fonction retournant [f,xC,xA] avec f la valeur de la fonction objectif maximale \n",
    "#xC un vecteur des valeurs optimales des débits aux points de consommation\n",
    "#xA un vecteur des valeurs optimales des débits aux points d'approvisionnement\n",
    "#Soit Pf le prix facturé\n",
    "#Soit C le cout\n",
    "#Soit DCmin et DCmax les valeurs minimales et maximales du débit aux points de consommation\n",
    "#Soit DAmax les valeurs maximales du débit extractibles aux sources\n",
    "def Analyse(nPoints,nConduites,X,Y,Z,A,R,Pa,Damax,C,Pc,Dcmin,Dcmax,Pf,Pi,alpha):\n",
    "   \n",
    "    h = abs(A.T@Z)      # le denivele de chaque conduite entre le pt de depart et d'arrivee.\n",
    "    x=abs(A.T@X)        # la difference de x de chaque conduite entre le pt de depart et d'arrivee.\n",
    "    y=abs(A.T@Y)        # la difference de y de chaque conduite entre le pt de depart et d'arrivee.\n",
    "    L=np.sqrt(h*h+x*x+y*y)       \n",
    "    \n",
    "    A1     = np.concatenate((A[np.array(Pc)-1], -1*A[np.array(Pa)-1]))   # Suppression des points intermediaires\n",
    "    #DebMax = alpha*R*R*h/L*A1 # Debit max, juste sur les points pas intermédiaires                                                                   # intermediaires\n",
    "    \n",
    "    A2     = A[Pc-1]                                           # Uniquement les points de consommation.\n",
    "    DebMin = -1*A2 # Debit min\n",
    "    \n",
    "    Contraintes = A1@(alpha*R*R*h/L)\n",
    "    #b = np.concatenate((b, Contraintes))\n",
    "    b= Contraintes\n",
    "    Eye=np.eye(len(Dcmin)+len(Damax))\n",
    "    Aub=np.concatenate((Eye,np.zeros((len(Eye),len(Pi)))),axis=1)\n",
    "    \n",
    "    #b      = np.concatenate((np.concatenate((Dcmax,np.array(Damax))),np.concatenate((-1*np.array(Dcmin),[0]))))\n",
    "    b      = np.concatenate((np.concatenate((Dcmax, Damax)), -1*Dcmin))\n",
    "    \n",
    "    bounds = np.concatenate((np.zeros((nConduites,1)),np.ones((nConduites,1))),axis=1)*alpha*R*R*h/L # limites (vecteur de (0,1) sur le\n",
    "                                                                                                     # nombre de conduites)\n",
    "    res    = linprog(c, A_ub = Aub, b_ub = b,A_eq=Aeq, b_eq=beq,bounds=bounds,options={'tol': 1e-8})\n",
    "    DebC   = (A2)@res.x\n",
    "    A4     = A[Pa-1]\n",
    "    DebA   = (A4)@res.x\n",
    "    Prix   = Pf.T@DebC\n",
    "    Couts  = C.T@DebA\n",
    "    print(\"This is res\")\n",
    "    print(res)\n",
    "    return (-1*res.fun,DebC,DebA,Prix,Couts)#modifier le return"
   ]
  },
  {
   "cell_type": "markdown",
   "metadata": {},
   "source": [
    "En utilisant les données du fichier disponible sur Moodle, le programme créé permet de résoudre le problème donné.\n",
    "En voici une démonstration."
   ]
  },
  {
   "cell_type": "code",
   "execution_count": 49,
   "metadata": {
    "scrolled": false
   },
   "outputs": [
    {
     "ename": "IndexError",
     "evalue": "arrays used as indices must be of integer (or boolean) type",
     "output_type": "error",
     "traceback": [
      "\u001b[0;31m---------------------------------------------------------------------------\u001b[0m",
      "\u001b[0;31mIndexError\u001b[0m                                Traceback (most recent call last)",
      "\u001b[0;32m<ipython-input-49-14818cfeaf3a>\u001b[0m in \u001b[0;36m<module>\u001b[0;34m()\u001b[0m\n\u001b[1;32m      1\u001b[0m \u001b[0;34m(\u001b[0m\u001b[0mnPoints\u001b[0m\u001b[0;34m,\u001b[0m\u001b[0mnConduites\u001b[0m\u001b[0;34m,\u001b[0m\u001b[0mX\u001b[0m\u001b[0;34m,\u001b[0m\u001b[0mY\u001b[0m\u001b[0;34m,\u001b[0m\u001b[0mZ\u001b[0m\u001b[0;34m,\u001b[0m\u001b[0mA\u001b[0m\u001b[0;34m,\u001b[0m\u001b[0malpha\u001b[0m\u001b[0;34m,\u001b[0m\u001b[0mR\u001b[0m\u001b[0;34m,\u001b[0m\u001b[0mPa\u001b[0m\u001b[0;34m,\u001b[0m\u001b[0mDamax\u001b[0m\u001b[0;34m,\u001b[0m\u001b[0mC\u001b[0m\u001b[0;34m,\u001b[0m\u001b[0mPc\u001b[0m\u001b[0;34m,\u001b[0m\u001b[0mDcmin\u001b[0m\u001b[0;34m,\u001b[0m\u001b[0mDcmax\u001b[0m\u001b[0;34m,\u001b[0m\u001b[0mPf\u001b[0m\u001b[0;34m,\u001b[0m\u001b[0mPi\u001b[0m\u001b[0;34m,\u001b[0m \u001b[0munit\u001b[0m\u001b[0;34m)\u001b[0m\u001b[0;34m=\u001b[0m\u001b[0mreadFile\u001b[0m\u001b[0;34m(\u001b[0m\u001b[0;34m\"Mini-exemple-avec-solution/Data-mini-exemple-avec-solution.txt\"\u001b[0m\u001b[0;34m)\u001b[0m\u001b[0;34m\u001b[0m\u001b[0m\n\u001b[0;32m----> 2\u001b[0;31m \u001b[0mprint\u001b[0m\u001b[0;34m(\u001b[0m\u001b[0mAnalyse\u001b[0m\u001b[0;34m(\u001b[0m\u001b[0mnPoints\u001b[0m\u001b[0;34m,\u001b[0m\u001b[0mnConduites\u001b[0m\u001b[0;34m,\u001b[0m\u001b[0mX\u001b[0m\u001b[0;34m,\u001b[0m\u001b[0mY\u001b[0m\u001b[0;34m,\u001b[0m\u001b[0mZ\u001b[0m\u001b[0;34m,\u001b[0m\u001b[0mA\u001b[0m\u001b[0;34m,\u001b[0m\u001b[0malpha\u001b[0m\u001b[0;34m,\u001b[0m\u001b[0mR\u001b[0m\u001b[0;34m,\u001b[0m\u001b[0mPa\u001b[0m\u001b[0;34m,\u001b[0m\u001b[0mDamax\u001b[0m\u001b[0;34m,\u001b[0m\u001b[0mC\u001b[0m\u001b[0;34m,\u001b[0m\u001b[0mPc\u001b[0m\u001b[0;34m,\u001b[0m\u001b[0mDcmin\u001b[0m\u001b[0;34m,\u001b[0m\u001b[0mDcmax\u001b[0m\u001b[0;34m,\u001b[0m\u001b[0mPf\u001b[0m\u001b[0;34m*\u001b[0m\u001b[0mnp\u001b[0m\u001b[0;34m.\u001b[0m\u001b[0mones\u001b[0m\u001b[0;34m(\u001b[0m\u001b[0mlen\u001b[0m\u001b[0;34m(\u001b[0m\u001b[0mDcmax\u001b[0m\u001b[0;34m)\u001b[0m\u001b[0;34m)\u001b[0m\u001b[0;34m,\u001b[0m\u001b[0mPi\u001b[0m\u001b[0;34m)\u001b[0m\u001b[0;34m)\u001b[0m\u001b[0;34m\u001b[0m\u001b[0m\n\u001b[0m",
      "\u001b[0;32m<ipython-input-48-5458d0366ea9>\u001b[0m in \u001b[0;36mAnalyse\u001b[0;34m(nPoints, nConduites, X, Y, Z, A, R, Pa, Damax, C, Pc, Dcmin, Dcmax, Pf, Pi, alpha)\u001b[0m\n\u001b[1;32m     13\u001b[0m     \u001b[0mL\u001b[0m\u001b[0;34m=\u001b[0m\u001b[0mnp\u001b[0m\u001b[0;34m.\u001b[0m\u001b[0msqrt\u001b[0m\u001b[0;34m(\u001b[0m\u001b[0mh\u001b[0m\u001b[0;34m*\u001b[0m\u001b[0mh\u001b[0m\u001b[0;34m+\u001b[0m\u001b[0mx\u001b[0m\u001b[0;34m*\u001b[0m\u001b[0mx\u001b[0m\u001b[0;34m+\u001b[0m\u001b[0my\u001b[0m\u001b[0;34m*\u001b[0m\u001b[0my\u001b[0m\u001b[0;34m)\u001b[0m\u001b[0;34m\u001b[0m\u001b[0m\n\u001b[1;32m     14\u001b[0m \u001b[0;34m\u001b[0m\u001b[0m\n\u001b[0;32m---> 15\u001b[0;31m     \u001b[0mA1\u001b[0m     \u001b[0;34m=\u001b[0m \u001b[0mnp\u001b[0m\u001b[0;34m.\u001b[0m\u001b[0mconcatenate\u001b[0m\u001b[0;34m(\u001b[0m\u001b[0;34m(\u001b[0m\u001b[0mA\u001b[0m\u001b[0;34m[\u001b[0m\u001b[0mnp\u001b[0m\u001b[0;34m.\u001b[0m\u001b[0marray\u001b[0m\u001b[0;34m(\u001b[0m\u001b[0mPc\u001b[0m\u001b[0;34m)\u001b[0m\u001b[0;34m-\u001b[0m\u001b[0;36m1\u001b[0m\u001b[0;34m]\u001b[0m\u001b[0;34m,\u001b[0m \u001b[0;34m-\u001b[0m\u001b[0;36m1\u001b[0m\u001b[0;34m*\u001b[0m\u001b[0mA\u001b[0m\u001b[0;34m[\u001b[0m\u001b[0mnp\u001b[0m\u001b[0;34m.\u001b[0m\u001b[0marray\u001b[0m\u001b[0;34m(\u001b[0m\u001b[0mPa\u001b[0m\u001b[0;34m)\u001b[0m\u001b[0;34m-\u001b[0m\u001b[0;36m1\u001b[0m\u001b[0;34m]\u001b[0m\u001b[0;34m)\u001b[0m\u001b[0;34m)\u001b[0m   \u001b[0;31m# Suppression des points intermediaires\u001b[0m\u001b[0;34m\u001b[0m\u001b[0m\n\u001b[0m\u001b[1;32m     16\u001b[0m     \u001b[0;31m#DebMax = alpha*R*R*h/L*A1 # Debit max, juste sur les points pas intermédiaires                                                                   # intermediaires\u001b[0m\u001b[0;34m\u001b[0m\u001b[0;34m\u001b[0m\u001b[0m\n\u001b[1;32m     17\u001b[0m \u001b[0;34m\u001b[0m\u001b[0m\n",
      "\u001b[0;31mIndexError\u001b[0m: arrays used as indices must be of integer (or boolean) type"
     ]
    }
   ],
   "source": [
    "(nPoints,nConduites,X,Y,Z,A,alpha,R,Pa,Damax,C,Pc,Dcmin,Dcmax,Pf,Pi, unit)=readFile(\"Mini-exemple-avec-solution/Data-mini-exemple-avec-solution.txt\")\n",
    "print(Analyse(nPoints,nConduites,X,Y,Z,A,alpha,R,Pa,Damax,C,Pc,Dcmin,Dcmax,Pf*np.ones(len(Dcmax)),Pi))"
   ]
  },
  {
   "cell_type": "markdown",
   "metadata": {},
   "source": [
    "# II. Améliorations du réseau"
   ]
  },
  {
   "cell_type": "markdown",
   "metadata": {},
   "source": [
    "### II.1 Maximisation du bénéfice réalisé par le réseau lorsque les points de consommation peuvent dépasser leur demande maximale initiale, avec diminution du prix"
   ]
  },
  {
   "cell_type": "markdown",
   "metadata": {},
   "source": [
    "Soit $D_{ctrop}$ un vecteur qui regroupe la partie supplémentaire (jusqu'à +25%) des débits fournis en chacun des points de consommation.\n",
    "\n",
    "Formulons, de façon linéaire, la maximisation du bénéfice réalisé par le réseau lorsque les points de consommation peuvent dépasser leur demande maximale jusqu'à +25%, avec une diminution du prix de 50% sur la partie qui dépasse la demande maximale : \n",
    "\n",
    "\\begin{align*}\n",
    "\t\\max_{D_a \\in \\mathbb{R}^m, D_c \\in \\mathbb{R}^n et D_i \\in \\mathbb{R}^p} P_f^T D_c + \\frac{P_f^T}{2} D_{ctrop} - C^T D_a\\\\\n",
    "\tD_c\\geq D_{cmin}\\\\\n",
    "\t-D_c\\geq -D_{cmax}\\\\\n",
    "    -D_a\\geq -D_{amax}\\\\\n",
    "    D_i \\geq 0\\\\\n",
    "    -D_i \\geq 0\\\\\n",
    "    D_{ctrop} \\geq 0\\\\\n",
    "    -D_{ctrop}\\geq -0.25 D_{cmax}\\\\\n",
    "\\end{align*}\n",
    "\n",
    "Afin de résoudre ce problème numériquement, nous avons transformé toutes les variables en terme de $\\theta$. Nous avons ensuite dédoublé ce $\\theta$ pour pouvoir exprimer $D_c$ et $D_{ctrop}$. \n",
    "\n",
    "Le modèle peut, en effet, être réecrit comme suit :\n",
    "\n",
    "\\begin{align*}\n",
    "\t\\max_{\\theta_{1,2} \\in \\mathbb{R}^{nConduites}} P_f^T A_{PC}\\frac{\\alpha R^2\\Delta h}{L} \\theta_1 + \\frac{P_f^T}{2} A_{PC}\\frac{\\alpha R^2\\Delta h}{L} \\theta_2 - C^T A_{PA}\\frac{\\alpha R^2\\Delta h}{L} \\theta_1\\\\\n",
    "\tA_{PC}\\frac{\\alpha R^2\\Delta h}{L} \\theta_1\\geq D_{cmin}\\\\\n",
    "\t-A_{PC}\\frac{\\alpha R^2\\Delta h}{L} \\theta_1\\geq -D_{cmax}\\\\\n",
    "    -A_{PA}\\frac{\\alpha R^2\\Delta h}{L} \\theta_1\\geq -D_{amax}\\\\\n",
    "    A_{PI}\\frac{\\alpha R^2\\Delta h}{L} \\theta_1 \\geq 0\\\\\n",
    "    -A_{PI}\\frac{\\alpha R^2\\Delta h}{L} \\theta_1 \\geq 0\\\\\n",
    "    A_{PC}\\frac{\\alpha R^2\\Delta h}{L} \\theta_2 \\geq 0\\\\\n",
    "    -A_{PC}\\frac{\\alpha R^2\\Delta h}{L} \\theta_2\\geq -0.25 D_{cmax}\\\\\n",
    "    \\theta_1 + \\theta_2 \\geq 0\\\\\n",
    "    -(\\theta_1 + \\theta_2) \\geq -1\\\\\n",
    "\\end{align*}"
   ]
  },
  {
   "cell_type": "markdown",
   "metadata": {},
   "source": [
    "### II.2  Maximisation du bénéfice réalisé par le réseau lorsque les points de consommation peuvent dépasser leur demande maximale initiale, avec augmentation du prix, est-ce possible ?"
   ]
  },
  {
   "cell_type": "markdown",
   "metadata": {},
   "source": [
    "Si nous voulions formuler ce même problème d'optimisation mais avec une augmentation de 50% du prix au lieu d'une diminution, le modèle serait le même qu'au II.1 mais avec un facteur 3/2 davant $D_{ctrop}$ au lieu de 1/2.\n",
    "\n",
    "Le problème étant linéaire, le programme aura tendance à d'abord remplir le vecteur $D_{ctrop}$ (précédé d'un facteur 3/2) avant de remplir $D_c$. $D_{ctrop}$ représentant le surplus d'eau consommé, cette situation est impossible.\n",
    "\n",
    "Pour résoudre correctement ce problème, nous devrions donc ajouter des contraintes non-linéaires."
   ]
  },
  {
   "cell_type": "markdown",
   "metadata": {},
   "source": [
    "### II.3 Résolution numérique du problème II.1 avec les données fournies"
   ]
  },
  {
   "cell_type": "code",
   "execution_count": null,
   "metadata": {},
   "outputs": [],
   "source": []
  },
  {
   "cell_type": "markdown",
   "metadata": {},
   "source": [
    "### II.4 Quels sont les points d’approvisionnement pour lesquels il pourrait a priori être rentable d’installer un château d’eau, en considérant que la construction doit être amortie après dix ans au maximum ?"
   ]
  },
  {
   "cell_type": "markdown",
   "metadata": {},
   "source": [
    "Si la somme des débits maximaux des conduites (lorsque $\\theta=1$) quittant un point d'approvisionnement est inférieure au débit maximal que peut délivrer ce point d'approvisionnement, alors il est rentable d'installer un château d'eau. En effet, installer un château d'eau permet d'augmenter le dénivelé des conduites et donc d'aumenter les débits de ces conduites. Ainsi, le débit maximal que peut délivrer le point d'approvisionnement pourra être entièrement réparti.\n",
    "\n",
    "De plus, sachant que la construction des châteaux d'eau doit être amortie après 10 ans au maximum et que les prix et coûts mentionnés se rapportent à une heure de fonctionnement, il faudra imposer que le bénéfice (prix*débitsConso + (prix/2)*débitsConsoSupp - couts*débitsApprov) multiplié par 10*365*24 soit supérieur au coûts de construction de la totalité des châteaux d'eau."
   ]
  },
  {
   "cell_type": "markdown",
   "metadata": {},
   "source": [
    "### II.5 Résolution numérique du problème II.4 avec les données fournies"
   ]
  },
  {
   "cell_type": "markdown",
   "metadata": {},
   "source": []
  },
  {
   "cell_type": "markdown",
   "metadata": {},
   "source": [
    "# III. Conception d'un réseau optimal"
   ]
  }
 ],
 "metadata": {
  "kernelspec": {
   "display_name": "Python 3",
   "language": "python",
   "name": "python3"
  },
  "language_info": {
   "codemirror_mode": {
    "name": "ipython",
    "version": 3
   },
   "file_extension": ".py",
   "mimetype": "text/x-python",
   "name": "python",
   "nbconvert_exporter": "python",
   "pygments_lexer": "ipython3",
   "version": "3.6.5"
  }
 },
 "nbformat": 4,
 "nbformat_minor": 2
}
