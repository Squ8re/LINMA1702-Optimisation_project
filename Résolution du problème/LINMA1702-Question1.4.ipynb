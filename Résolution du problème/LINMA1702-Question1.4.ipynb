{
 "cells": [
  {
   "cell_type": "markdown",
   "metadata": {},
   "source": [
    "Amadéo David (44761700) - Marine Van Renterghem (31621700) - Sylvie Van Schendel (44841700)"
   ]
  },
  {
   "cell_type": "markdown",
   "metadata": {},
   "source": [
    "# LINMA1702 Optimisation d'un réseau de distribution d'eau"
   ]
  },
  {
   "cell_type": "markdown",
   "metadata": {},
   "source": [
    "## I. Analyse d'un réseau existant"
   ]
  },
  {
   "cell_type": "markdown",
   "metadata": {},
   "source": [
    "### I.1 Que représentent les expressions $A^Th$ et $Af$ ?"
   ]
  },
  {
   "cell_type": "markdown",
   "metadata": {},
   "source": [
    "Soient h le vecteur contenant les hauteurs en chaque point, f le vecteur contenant les débits circulant dans les conduites et A la matrice d'incidence.\n",
    "\n",
    "L'expression $A^Th$ est le vecteur contenant le dénivelé de chaque conduite.\n",
    "\n",
    "L'expression $Af$ est le vecteur contenant les débits nets en chaque point."
   ]
  },
  {
   "cell_type": "markdown",
   "metadata": {},
   "source": [
    "### I.2 Profil de consommation\n",
    "Soient le profil de consommation $D_c$ le vecteur regroupant les débits fournis en chaque point de consommation, $D_a$ le vecteur contenant les débits extraits en chaque point d'approvisionnement et $D_i$ le vecteur contenant les débits fournis et extraits en chaque point intermédiaire.\n",
    "\n",
    "On peut modéliser l'ensemble des profils de consommation réalisables à l'aide des contraintes linéaires suivantes : \n",
    "\n",
    "$$D_a \\leq D_{amax}$$\n",
    "$$D_i = 0$$\n",
    "\n",
    "avec $D_{amax}$ le vecteur regroupant les débits maximaux en chaque point d'approvisionnement. \n",
    "\n",
    "Soit le débit circulant dans une conduite défini par : $\\frac{ \\alpha R^2\\Delta h}{L} \\theta$ \n",
    "avec $\\alpha$ une constante de proportionnalité, $\\Delta h$ la différence de hauteur entre les extrémités de la conduite, R le rayon de la conduite, L la longueur de la conduite et $\\theta$ un paramètre ajustable entre 0 et 1.\n",
    "\n",
    "Soient $A_{PA}$ la matrice d'incidence évaluée aux points d'approvisionnement et $A_{PI}$ la matrice d'incidence évaluée aux points intermédiaires, les contraintes linéaires s'écrivent alors : \n",
    "\n",
    "$$ A_{PA} \\frac{\\alpha R^2 \\Delta h}{L} \\theta \\leq D_{amax}$$\n",
    "$$ A_{PI} \\frac{\\alpha R^2 \\Delta h}{L} \\theta = 0$$\n",
    "$$ 0 \\leq \\theta \\leq 1 $$\n",
    "\n",
    "Démontrons que cet ensemble est un polyèdre. \n",
    "\n",
    "\n",
    "Un **polyèdre** de $\\mathbb{R}^n$ est un sous-ensemble de $\\mathbb{R}^n$ qui peut être écrit comme une intersection d'un nombre fini de demi-espaces de $\\mathbb{R}^n$. \n",
    "$\\mathcal{P}=\\{ x\\in \\mathbb{R}^n \\ |\\ a_i^T x \\geq b_i \\ i=1,...,m \\}$  et en notation matricielle : $\\mathcal{P}=\\{ x\\ |\\ A x \\geq b\\}$. \n",
    "\n",
    "Un **demi-espace (fermé)** de $\\mathbb{R}^n$ est un sous-ensemble de $\\mathbb{R}^n$ qui peut être écrit comme $\\{ x\\in \\mathbb{R}^n \\ |\\ a^T x \\geq b\\}$ pour certains $b\\in \\mathbb{R} $ et $a\\in \\mathbb{R}^n \\ (a \\neq 0)$.\n",
    "C'est donc l'ensemble des points qui se trouvent d'un côté donné d'un hyperplan.\n",
    "\n",
    "A partir de ces deux définitions, on peut donc dire que notre profil de consommation est un polyèdre de $\\mathbb{R}^{m+n+p}$ avec m le nombre de points d'approvisionnement, n le nombre de points de consommation et p le nombres de points intermédiaires.\n",
    "En effet, cet ensemble est bien l'intersection de 5 demi-espaces de $\\mathbb{R}^{m+n+p}$ : \n",
    "\n",
    "$$-A_{PA} \\frac{\\alpha R^2 \\Delta h}{L} \\theta \\geq - D_{amax}$$\n",
    "$$ A_{PI} \\frac{\\alpha R^2 \\Delta h}{L} \\theta \\geq 0$$\n",
    "$$- A_{PI} \\frac{\\alpha R^2 \\Delta h}{L} \\theta \\geq 0$$\n",
    "$$ \\theta \\geq 0$$\n",
    "$$ -\\theta \\geq -1$$\n",
    "\n",
    "Pour déterminer si un profil donné est réalisable par le réseau ou non, il faudra donc vérifier, pour chaque indice du vecteur $\\theta$, que les 5 inégalités soient bien vérifiées."
   ]
  },
  {
   "cell_type": "markdown",
   "metadata": {},
   "source": [
    "### I.3 Maximisation du bénéfice réalisé par le réseau"
   ]
  },
  {
   "cell_type": "markdown",
   "metadata": {},
   "source": [
    "Soient $D_{cmin}$ et $D_{cmax}$ des vecteurs contenant les valeurs minimales et maximales du débit en chaque point de consommation, C le vecteur contenant le coût d'extraction  pour chaque point d'approvisionnement (proportionnel au débit extrait), $P_f$ le vecteur contenant le prix facturé pour chaque point de consommation (proportionnel au débit réellement fourni et consommé) et $A_{PC}$ la matrice d'incidence évaluée aux points de consommation.\n",
    "\n",
    "Formulons la maximisation du bénéfice réalisé par le réseau comme un problème d'optimisation linéaire continu :\n",
    "\n",
    "\\begin{align*}\n",
    "\t\\max_{D_a \\in \\mathbb{R}^m, D_c \\in \\mathbb{R}^n et D_i \\in \\mathbb{R}^p} P_f^T D_c - C^T D_a\\\\\n",
    "\tD_c\\geq D_{cmin}\\\\\n",
    "\tD_c\\leq D_{cmax}\\\\\n",
    "    D_a\\leq D_{amax}\\\\\n",
    "\tD_i = 0 \\\\\n",
    "\\end{align*}\n",
    "\n",
    "où m est le nombre de points d'approvisionnement, n le nombre de points de consommation et p le nombres de points intermédiaires.\n",
    "\n",
    "Sachant que $D_a$ est de dimension m, que $D_c$ est de dimension n et que $D_i$ est de dimension p, les dimensions du problème sont les suivantes :\n",
    "\n",
    "- m + n + p variables\n",
    "- m + 2n + 2p contraintes\n",
    "\n",
    "Sachant que le débit circulant dans une conduite est défini par : $\\alpha \\theta \\frac{R^2\\Delta h}{L}$\n",
    "\n",
    "notre problème peut s'écrire :\n",
    "\n",
    "\\begin{align*}\n",
    "\t\\max_{\\theta \\in \\mathbb{R}^{nConduites}} P_f^T A_{PC}\\frac{\\alpha R^2\\Delta h}{L} \\theta + C^T A_{PA}\\frac{\\alpha R^2\\Delta h}{L} \\theta\\\\\n",
    "\tA_{PC}\\frac{\\alpha R^2\\Delta h}{L} \\theta\\geq D_{cmin}\\\\\n",
    "\tA_{PC}\\frac{\\alpha R^2\\Delta h}{L} \\theta\\leq D_{cmax}\\\\\n",
    "    A_{PA}\\frac{\\alpha R^2\\Delta h}{L} \\theta\\leq D_{amax}\\\\\n",
    "\tA_{PI}\\frac{\\alpha R^2\\Delta h}{L} \\theta = 0 \\\\\n",
    "    \\theta \\geq 0 \\\\ \n",
    "    \\theta \\leq 1 \\\\\n",
    "\\end{align*}\n",
    "\n",
    "avec $\\theta$ le paramètre ajustant le débit dans chaque conduite.\n",
    "\n",
    "Sachant que $\\theta$ est de dimension nConduites, les dimensions du problème sont les suivantes :\n",
    "\n",
    "- nConduites variables\n",
    "- m + 2n + 2p + 2nConduites contraintes\n",
    "\n",
    "Les contraintes supplémentaires viennent du fait que le paramètre $\\theta$ doit être compris entre 0 et 1."
   ]
  },
  {
   "cell_type": "markdown",
   "metadata": {},
   "source": [
    "### I.4 Résolution numérique du problème I.3 avec les données fournies"
   ]
  },
  {
   "cell_type": "markdown",
   "metadata": {},
   "source": [
    "Voici le code permettant de résoudre le problème I.3 numériquement, ainsi que deux fonctions lisant les deux fichiers de données fournis :"
   ]
  },
  {
   "cell_type": "code",
   "execution_count": 32,
   "metadata": {},
   "outputs": [],
   "source": [
    "from scipy.optimize import linprog  # Import du solveur d'optimisation linéaire à utiliser\n",
    "import matplotlib.pyplot as plt     # Import pour des graphiques éventuels\n",
    "import numpy as np"
   ]
  },
  {
   "cell_type": "code",
   "execution_count": 33,
   "metadata": {},
   "outputs": [],
   "source": [
    "def readFile(file_name):\n",
    "    \"\"\"\n",
    "    Cette fonction lit un fichier formate au type de fichiers utilises dans les exemples du\n",
    "    projet.\n",
    "    @pre                : Le fichier file_name est organise de la meme maniere\n",
    "                          que les exemples donnes sur Moodle.\n",
    "    \n",
    "    @param file_name    : Contient un String avec le nom du fichier a lire.\n",
    "    \n",
    "    @return n_points    : Contient un 'int' avec le nombre de points.\n",
    "    @return n_conduites : Contient un 'int' avec le nombre de conduites.\n",
    "    @return X           : Contient un 'numpy.array' avec les abscisses des points.\n",
    "    @return Y           : Contient un 'numpy.array' avec les ordonnees des points.\n",
    "    @return Z           : Contient un 'numpy.array' avec la hauteur des points.\n",
    "    @return A           : Contient un 'numpy.array' avec la matrice d'incidence\n",
    "                          des conduites.\n",
    "    @return alpha       : Contient un 'float' avec la valeur de alpha.\n",
    "    @return R           : Contient un 'float' avec le rayon des conduites.\n",
    "    @return pa          : Contient un 'numpy.array' avec les points\n",
    "                          d'approvisionnement.\n",
    "    @return da_max      : Contient un 'numpy.array' avec les debits maximaux\n",
    "                          extractibles.\n",
    "    @return C           : Contient un 'numpy.array' avec les couts d'extraction.\n",
    "    @return pc          : Contient un 'numpy.array' avec les points de\n",
    "                          consommation.\n",
    "    @return dc_min      : Contient un 'numpy.array' avec les debits minimaux\n",
    "                          consommables.\n",
    "    @return dc_max      : Contient un 'numpy.array' avec les debits maximaux\n",
    "                          consommables.\n",
    "    @return Pf          : Contient un 'float' avec le prix facture.\n",
    "    @return pi          : Contient un 'numpy.array' avec les points\n",
    "                          intermediaires.\n",
    "    @return unit        : Contient un 'String' avec l'unite des coordonnes des\n",
    "                          points.\n",
    "    \"\"\"\n",
    "    with open(file_name,'r') as f:\n",
    "        n_points    = (int)(f.readline().split()[0])\n",
    "        n_conduites = (int)(f.readline().split()[0])\n",
    "        f.readline()\n",
    "        unit        = (f.readline().split(\" = \")[1])\n",
    "        \n",
    "        coord       = np.array(list(list(float(w) for w in f.readline().split()[:]) for i in range(n_points)))\n",
    "        X           = coord[:,0]\n",
    "        Y           = coord[:,1]\n",
    "        Z           = coord[:,2]\n",
    "        \n",
    "        f.readline()\n",
    "        f.readline()\n",
    "        A           = np.array(list(list(float(w) for w in f.readline().split()[:]) for i in range(n_points)))\n",
    "        f.readline()\n",
    "        \n",
    "        UL_alpha    = f.readline().split(\" = \")[1]\n",
    "        UL_alpha    = UL_alpha.split()[0]\n",
    "        UL2_alpha   = np.array(UL_alpha.split(\"^\"))\n",
    "        if(len(UL2_alpha) == 1):\n",
    "            alpha   = (float)(UL2_alpha)\n",
    "        else:\n",
    "            alpha   = (float)(UL2_alpha[0]) ** (float)(UL2_alpha[1])\n",
    "        \n",
    "        R           = (float)(f.readline().split()[4])\n",
    "        f.readline()\n",
    "        \n",
    "        UL_pa       = f.readline().split(\" = [\")[1]\n",
    "        UL_pa       = UL_pa.split(\"]\")[0]\n",
    "        pa          = np.array(list(int(w) for w in UL_pa.split()[:]))\n",
    "        \n",
    "        UL_da_max   = f.readline().split(\" = [\")[1]\n",
    "        UL_da_max   = UL_da_max.split(\"]\")[0]\n",
    "        da_max      = np.array(list(float(w) for w in UL_da_max.split()[:]))\n",
    "        \n",
    "        UL_C        = f.readline().split(\" = [\")[1]\n",
    "        UL_C        = UL_C.split(\"]\")[0]\n",
    "        C           = np.array(list(float(w) for w in UL_C.split()[:]))\n",
    "        \n",
    "        f.readline()\n",
    "        \n",
    "        UL_pc       = f.readline().split(\" = [\")[1]\n",
    "        UL_pc       = UL_pc.split(\"]\")[0]\n",
    "        pc          = np.array(list(int(w) for w in UL_pc.split()[:]))\n",
    "        \n",
    "        UL_dc_min   = f.readline().split(\" = [\")[1]\n",
    "        UL_dc_min   = UL_dc_min.split(\"]\")[0]\n",
    "        dc_min      = np.array(list(float(w) for w in UL_dc_min.split()[:]))\n",
    "        \n",
    "        UL_dc_max   = f.readline().split(\" = [\")[1]\n",
    "        UL_dc_max   = UL_dc_max.split(\"]\")[0]\n",
    "        dc_max      = np.array(list(float(w) for w in UL_dc_max.split()[:]))\n",
    "        \n",
    "        Pf          = (float)(f.readline().split()[3])\n",
    "        \n",
    "        f.readline()\n",
    "        \n",
    "        UL_pi       = f.readline().split(\"[\")[1]\n",
    "        UL_pi       = UL_pi.split(\"]\")[0]\n",
    "        pi          = np.array(list(int(w) for w in UL_pi.split()[:]))\n",
    "        \n",
    "    return (n_points, n_conduites, X, Y, Z, A, alpha, R, pa, da_max, C, pc, dc_min, dc_max, Pf, pi, unit)"
   ]
  },
  {
   "cell_type": "code",
   "execution_count": 34,
   "metadata": {},
   "outputs": [],
   "source": [
    "def readSecondFile(filename):\n",
    "    \"\"\"\n",
    "    Cette fonction permet de recuperer les donnees stockees dans le fichier 'partie2'\n",
    "    @pre : filename est un String pointant vers un fichier.\n",
    "    @pre : le fichier 'filename' est formate correctement.\n",
    "    @pre : le cout de construction d'un chateau d'eau est exprime en millions.\n",
    "    \n",
    "    @return Cchateau contient le cout de construction d'un chateau d'eau (€/m).\n",
    "    @return Hmax     contient la hauteur max. d'un chateau d'eau (metre).\n",
    "    @return Btot     contient le budget total de construction des chateaux.\n",
    "    @return Ccc      contient le cout de construction d'une conduite.\n",
    "    \"\"\"\n",
    "    with open(filename,'r') as f:\n",
    "        f.readline()\n",
    "        f.readline()\n",
    "        Cchateau = (float)(f.readline().split()[7])*1000000\n",
    "        \n",
    "        UL_Hmax  = (f.readline().split()[6]).split(\",\")\n",
    "        if(len(UL_Hmax)==2):\n",
    "            Hmax = (float)(UL_Hmax[0]) + (float)(UL_Hmax[1])/(10**(len(UL_Hmax[1])))\n",
    "        else:\n",
    "            Hmax = (float)(UL_Hmax)\n",
    "        Btot     = (float)(f.readline().split()[7])*1000000\n",
    "        f.readline()\n",
    "        Ccc      = (float)(f.readline().split()[6])\n",
    "    return (Cchateau, Hmax, Btot, Ccc)"
   ]
  },
  {
   "cell_type": "code",
   "execution_count": 35,
   "metadata": {},
   "outputs": [],
   "source": [
    "def Analyse(nPoints,nConduites,X,Y,Z,A,R,Pa,Damax,C,Pc,Dcmin,Dcmax,Pf,Pi,alpha):\n",
    "    \"\"\"\n",
    "    Cette fonction maximise le benefice realise par le reseau fourni.\n",
    "    \n",
    "    @param nPoints        : Contient un 'int' avec le nombre de points.\n",
    "    @param nConduites     : Contient un 'int' avec le nombre de conduites.\n",
    "    @param X              : Contient un 'numpy.array' avec les abscisses des points.\n",
    "    @param Y              : Contient un 'numpy.array' avec les ordonnees des points.\n",
    "    @param Z              : Contient un 'numpy.array' avec la hauteur des points.\n",
    "    @param A              : Contient un 'numpy.array' avec la matrice d'incidence des conduites.\n",
    "    @param R              : Contient un 'float' avec le rayon des conduites.\n",
    "    @param Pa             : Contient un 'numpy.array' avec les points d'approvisionnement.\n",
    "    @param Damax          : Contient un 'numpy.array' avec les debits maximaux extractibles.\n",
    "    @param C              : Contient un 'numpy.array' avec les couts d'extraction.\n",
    "    @param Pc             : Contient un 'numpy.array' avec les points de consommation.\n",
    "    @param Dcmin          : Contient un 'numpy.array' avec les debits minimaux consommables.\n",
    "    @param Dcmax          : Contient un 'numpy.array' avec les debits maximaux consommables.\n",
    "    @param Pf             : Contient un 'float' avec le prix facture.\n",
    "    @param Pi             : Contient un 'numpy.array' avec les points intermediaires.\n",
    "    @param alpha          : Contient un 'float' avec la valeur de alpha.\n",
    "    \n",
    "    @return (-1)*res.fun  : Contient un 'float' avec la valeur maximale du benefice realise par le reseau fourni.\n",
    "    @return DebC          : Contient un 'numpy.array' avec les debits optimaux extraits aux points de consommation.\n",
    "    @return DebA          : Contient un 'numpy.array' avec les debits optimaux fournis par les points d'approvisionnement.\n",
    "    \"\"\"\n",
    "    \n",
    "    h = abs(A.T@Z)            # Denivele de chaque conduite entre le point de depart et d'arrivee.\n",
    "    x = abs(A.T@X)            # Difference de x de chaque conduite entre le point de depart et d'arrivee.\n",
    "    y = abs(A.T@Y)            # Difference de y de chaque conduite entre le point de depart et d'arrivee.\n",
    "    L = np.sqrt(h*h+x*x+y*y)  # Longueur de chaque conduite  \n",
    "    \n",
    "    A1     = np.concatenate((A[np.array(Pc)-1],-1* A[np.array(Pa)-1]))   # Tous les debits doivent etre positifs.\n",
    "    A3     = np.concatenate((A[np.array(Pc)-1], A[np.array(Pa)-1]))      # On laisse les debits aux points d'approvisionnement \n",
    "                                                                         # negatifs.\n",
    "    DebMax = alpha*R*R*h/L*A1    # Debit max, juste sur les points pas intermediaires.\n",
    "    \n",
    "    A2     = A[Pc-1]             # Uniquement les points de consommation.\n",
    "    DebMin = -1*alpha*R*R*h/L*A2 # Debit min\n",
    "    \n",
    "    Aub    = np.concatenate((DebMax,DebMin))\n",
    "    Argent = np.concatenate((Pf,C))\n",
    "    Eye    = np.eye(len(Argent))*Argent\n",
    "    c      = -1*np.matmul(Argent,A3)*(alpha*R*R*h/L)    \n",
    "   \n",
    "    A5     = A[np.array(Pi)-1]  # On ne prend que les points intermediaires.\n",
    "    Aeq    = A5*alpha*R*R*h/L   # Points intemediaires ont un débit resultant nul.\n",
    "    beq    = np.zeros(len(Pi))\n",
    "    b      = np.concatenate((np.concatenate((Dcmax, Damax)), -1*Dcmin))\n",
    "    \n",
    "    bounds = np.concatenate((np.zeros((nConduites,1)),np.ones((nConduites,1))),axis=1) # Limites (vecteur de (0,1) sur le nombre de conduites)\n",
    "    res    = linprog(c, A_ub = Aub, b_ub = b,A_eq=Aeq, b_eq=beq,bounds=bounds,options={'tol': 1e-8})\n",
    "    DebC   = (A2*alpha*R*R*h/L)@res.x\n",
    "    A4     = A[Pa-1]\n",
    "    DebA   = -1*(A4*alpha*R*R*h/L)@res.x\n",
    "    Prix   = Pf.T@DebC\n",
    "    Couts  = C.T@DebA\n",
    "    \n",
    "    return (-1*res.fun,DebC,DebA)"
   ]
  },
  {
   "cell_type": "code",
   "execution_count": 36,
   "metadata": {},
   "outputs": [
    {
     "ename": "TypeError",
     "evalue": "readFile() missing 1 required positional argument: 'file_name'",
     "output_type": "error",
     "traceback": [
      "\u001b[1;31m---------------------------------------------------------------------------\u001b[0m",
      "\u001b[1;31mTypeError\u001b[0m                                 Traceback (most recent call last)",
      "\u001b[1;32m<ipython-input-36-add92bbf27f2>\u001b[0m in \u001b[0;36m<module>\u001b[1;34m()\u001b[0m\n\u001b[1;32m----> 1\u001b[1;33m \u001b[1;33m(\u001b[0m\u001b[0mnPoints\u001b[0m\u001b[1;33m,\u001b[0m\u001b[0mnConduites\u001b[0m\u001b[1;33m,\u001b[0m\u001b[0mX\u001b[0m\u001b[1;33m,\u001b[0m\u001b[0mY\u001b[0m\u001b[1;33m,\u001b[0m\u001b[0mZ\u001b[0m\u001b[1;33m,\u001b[0m\u001b[0mA\u001b[0m\u001b[1;33m,\u001b[0m \u001b[0malpha\u001b[0m\u001b[1;33m,\u001b[0m\u001b[0mR\u001b[0m\u001b[1;33m,\u001b[0m\u001b[0mPa\u001b[0m\u001b[1;33m,\u001b[0m\u001b[0mDamax\u001b[0m\u001b[1;33m,\u001b[0m\u001b[0mC\u001b[0m\u001b[1;33m,\u001b[0m\u001b[0mPc\u001b[0m\u001b[1;33m,\u001b[0m\u001b[0mDcmin\u001b[0m\u001b[1;33m,\u001b[0m\u001b[0mDcmax\u001b[0m\u001b[1;33m,\u001b[0m\u001b[0mPf\u001b[0m\u001b[1;33m,\u001b[0m\u001b[0mPi\u001b[0m\u001b[1;33m,\u001b[0m \u001b[0munit\u001b[0m\u001b[1;33m)\u001b[0m\u001b[1;33m=\u001b[0m\u001b[0mreadFile\u001b[0m\u001b[1;33m(\u001b[0m\u001b[1;33m)\u001b[0m\u001b[1;33m\u001b[0m\u001b[0m\n\u001b[0m\u001b[0;32m      2\u001b[0m \u001b[0mprint\u001b[0m\u001b[1;33m(\u001b[0m\u001b[0mAnalyse\u001b[0m\u001b[1;33m(\u001b[0m\u001b[0mnPoints\u001b[0m\u001b[1;33m,\u001b[0m\u001b[0mnConduites\u001b[0m\u001b[1;33m,\u001b[0m\u001b[0mX\u001b[0m\u001b[1;33m,\u001b[0m\u001b[0mY\u001b[0m\u001b[1;33m,\u001b[0m\u001b[0mZ\u001b[0m\u001b[1;33m,\u001b[0m\u001b[0mA\u001b[0m\u001b[1;33m,\u001b[0m\u001b[0mR\u001b[0m\u001b[1;33m,\u001b[0m\u001b[0mPa\u001b[0m\u001b[1;33m,\u001b[0m\u001b[0mDamax\u001b[0m\u001b[1;33m,\u001b[0m\u001b[0mC\u001b[0m\u001b[1;33m,\u001b[0m\u001b[0mPc\u001b[0m\u001b[1;33m,\u001b[0m\u001b[0mDcmin\u001b[0m\u001b[1;33m,\u001b[0m\u001b[0mDcmax\u001b[0m\u001b[1;33m,\u001b[0m\u001b[0mPf\u001b[0m\u001b[1;33m*\u001b[0m\u001b[0mnp\u001b[0m\u001b[1;33m.\u001b[0m\u001b[0mones\u001b[0m\u001b[1;33m(\u001b[0m\u001b[0mlen\u001b[0m\u001b[1;33m(\u001b[0m\u001b[0mDcmin\u001b[0m\u001b[1;33m)\u001b[0m\u001b[1;33m)\u001b[0m\u001b[1;33m,\u001b[0m\u001b[0mPi\u001b[0m\u001b[1;33m,\u001b[0m\u001b[0malpha\u001b[0m\u001b[1;33m)\u001b[0m\u001b[1;33m)\u001b[0m\u001b[1;33m\u001b[0m\u001b[0m\n",
      "\u001b[1;31mTypeError\u001b[0m: readFile() missing 1 required positional argument: 'file_name'"
     ]
    }
   ],
   "source": [
    "(nPoints,nConduites,X,Y,Z,A, alpha,R,Pa,Damax,C,Pc,Dcmin,Dcmax,Pf,Pi, unit)=readFile(\"Données/Data-partie1.txt\")\n",
    "print(Analyse(nPoints,nConduites,X,Y,Z,A,R,Pa,Damax,C,Pc,Dcmin,Dcmax,Pf*np.ones(len(Dcmin)),Pi,alpha))"
   ]
  },
  {
   "cell_type": "markdown",
   "metadata": {},
   "source": [
    "# II. Améliorations du réseau"
   ]
  },
  {
   "cell_type": "markdown",
   "metadata": {},
   "source": [
    "### II.1 Maximisation du bénéfice réalisé par le réseau lorsque les points de consommation peuvent dépasser leur demande maximale initiale, avec diminution du prix"
   ]
  },
  {
   "cell_type": "markdown",
   "metadata": {},
   "source": [
    "Soit $D_{ctrop}$ un vecteur qui regroupe la partie supplémentaire (jusqu'à +25%) des débits fournis en chacun des points de consommation.\n",
    "\n",
    "Formulons, de façon linéaire, la maximisation du bénéfice réalisé par le réseau lorsque les points de consommation peuvent dépasser leur demande maximale jusqu'à +25%, avec une diminution du prix de 50% sur la partie qui dépasse la demande maximale : \n",
    "\n",
    "\\begin{align*}\n",
    "\t\\max_{D_a \\in \\mathbb{R}^m, D_c \\in \\mathbb{R}^n et D_i \\in \\mathbb{R}^p} P_f^T D_c + \\frac{P_f^T}{2} D_{ctrop} - C^T D_a\\\\\n",
    "\tD_c\\geq D_{cmin}\\\\\n",
    "\tD_c\\leq D_{cmax}\\\\\n",
    "    D_a\\leq D_{amax}\\\\\n",
    "    D_i = 0\\\\\n",
    "    D_{ctrop} \\geq 0\\\\\n",
    "    D_{ctrop}\\leq 0.25 D_{cmax}\\\\\n",
    "    1\\geq \\theta \\geq 0\n",
    "\\end{align*}\n",
    "\n",
    "Afin de résoudre ce problème numériquement, nous avons transformé toutes les variables en terme de $\\theta$. Nous avons ensuite dédoublé ce $\\theta$ pour pouvoir exprimer $D_c$ et $D_{ctrop}$. \n",
    "\n",
    "Le modèle peut, en effet, être réecrit comme suit :\n",
    "\n",
    "\\begin{align*}\n",
    "\t\\max_{\\theta_{1,2} \\in \\mathbb{R}^{nConduites}} P_f^T A_{PC}\\frac{\\alpha R^2\\Delta h}{L} \\theta_1 + \\frac{P_f^T}{2} A_{PC}\\frac{\\alpha R^2\\Delta h}{L} \\theta_2 - C^T A_{PA}\\frac{\\alpha R^2\\Delta h}{L} (\\theta_1+\\theta_2)\\\\\n",
    "\tA_{PC}\\frac{\\alpha R^2\\Delta h}{L} \\theta_1\\geq D_{cmin}\\\\\n",
    "\tA_{PC}\\frac{\\alpha R^2\\Delta h}{L} \\theta_1\\leq D_{cmax}\\\\\n",
    "    A_{PA}\\frac{\\alpha R^2\\Delta h}{L} (\\theta_1+\\theta_2)\\leq D_{amax}\\\\\n",
    "    A_{PI}\\frac{\\alpha R^2\\Delta h}{L} (\\theta_1+\\theta_2) = 0\\\\\n",
    "    A_{PC}\\frac{\\alpha R^2\\Delta h}{L} \\theta_2\\leq 0.25 D_{cmax}\\\\\n",
    "    \\theta_1 + \\theta_2 \\leq 1\\\\\n",
    "    \\theta_1 \\geq 0\\\\\n",
    "    \\theta_2 \\geq 0\\\\\n",
    "\\end{align*}"
   ]
  },
  {
   "cell_type": "markdown",
   "metadata": {},
   "source": [
    "### II.2  Maximisation du bénéfice réalisé par le réseau lorsque les points de consommation peuvent dépasser leur demande maximale initiale, avec augmentation du prix, est-ce possible ?"
   ]
  },
  {
   "cell_type": "markdown",
   "metadata": {},
   "source": [
    "Si nous voulions formuler ce même problème d'optimisation mais avec une augmentation de 50% du prix au lieu d'une diminution, le modèle serait le même qu'au II.1 mais avec un facteur 3/2 davant $D_{ctrop}$ au lieu de 1/2.\n",
    "\n",
    "Le problème étant linéaire, le programme aura tendance à d'abord remplir le vecteur $D_{ctrop}$ (précédé d'un facteur 3/2) avant de remplir $D_c$. $D_{ctrop}$ représentant le surplus d'eau consommé, cette situation est impossible.\n",
    "\n",
    "Pour résoudre correctement ce problème, nous devrions donc ajouter des contraintes non-linéaires."
   ]
  },
  {
   "cell_type": "markdown",
   "metadata": {},
   "source": [
    "### II.3 Résolution numérique du problème II.1 avec les données fournies"
   ]
  },
  {
   "cell_type": "markdown",
   "metadata": {},
   "source": [
    "Voici le code permettant de résoudre le problème II.1 numériquement :"
   ]
  },
  {
   "cell_type": "code",
   "execution_count": null,
   "metadata": {},
   "outputs": [],
   "source": [
    "def Ameliorations(nPoints,nConduites,X,Y,Z,A,alpha,R,Pa,Damax,C,Pc,Dcmin,Dcmax,Pf,Pi): \n",
    "    \"\"\"\n",
    "    Cette fonction maximise le benefice realise par le reseau fourni lorsque les points de consommation peuvent depasser\n",
    "    leur demande maximale initiale, avec diminution du prix.\n",
    "    \n",
    "    @param nPoints        : Contient un 'int' avec le nombre de points.\n",
    "    @param nConduites     : Contient un 'int' avec le nombre de conduites.\n",
    "    @param X              : Contient un 'numpy.array' avec les abscisses des points.\n",
    "    @param Y              : Contient un 'numpy.array' avec les ordonnees des points.\n",
    "    @param Z              : Contient un 'numpy.array' avec la hauteur des points.\n",
    "    @param A              : Contient un 'numpy.array' avec la matrice d'incidence des conduites.\n",
    "    @param alpha          : Contient un 'float' avec la valeur de alpha.\n",
    "    @param R              : Contient un 'float' avec le rayon des conduites.\n",
    "    @param Pa             : Contient un 'numpy.array' avec les points d'approvisionnement.\n",
    "    @param Damax          : Contient un 'numpy.array' avec les debits maximaux extractibles.\n",
    "    @param C              : Contient un 'numpy.array' avec les couts d'extraction.\n",
    "    @param Pc             : Contient un 'numpy.array' avec les points de consommation.\n",
    "    @param Dcmin          : Contient un 'numpy.array' avec les debits minimaux consommables.\n",
    "    @param Dcmax          : Contient un 'numpy.array' avec les debits maximaux consommables.\n",
    "    @param Pf             : Contient un 'float' avec le prix facture.\n",
    "    @param Pi             : Contient un 'numpy.array' avec les points intermediaires.\n",
    "    \n",
    "    @return (-1)*res.fun  : Contient un 'float' avec la valeur maximale du benefice realise par le reseau fourni.\n",
    "    @return DebitC        : Contient un 'numpy.array' avec les debits optimaux extraits aux points de consommation.\n",
    "    @return DebitA        : Contient un 'numpy.array' avec les debits optimaux fournis par les points d'approvisionnement.\n",
    "    \"\"\"\n",
    "    \n",
    "    h = abs(A.T@Z)           # Denivele de chaque conduite entre le point de depart et d'arrivee.\n",
    "    x = abs(A.T@X)           # Difference de x de chaque conduite entre le point de depart et d'arrivee.\n",
    "    y = abs(A.T@Y)           # Difference de y de chaque conduite entre le point de depart et d'arrivee.\n",
    "    L = np.sqrt(h*h+x*x+y*y)\n",
    "    \n",
    "    Ac = A[Pc-1] # On prend les lignes de la matrice d'incidence relatives aux points de consommation\n",
    "    Aa = A[Pa-1] # On prend les lignes de la matrice d'incidence relatives aux points d'approvisionnement\n",
    "    Ai = A[Pi-1] # On prend les lignes de la matrice d'incidence relatives aux points intermediaires\n",
    "    \n",
    "    debit = alpha*R*R*h/L # Formule de debit max (theta = 1)\n",
    "    \n",
    "    Argent= np.concatenate([Pf,C,Pf/2])\n",
    "    \n",
    "    grandA= np.concatenate([np.concatenate([Ac,Aa,np.zeros((len(Pc),nConduites))],axis=0)*debit,np.concatenate([np.zeros((len(Pc),nConduites)),Aa,Ac],axis=0)*debit],axis=1)\n",
    "    \n",
    "    c     = -1*np.matmul(Argent,grandA)                              # Fonction objectif\n",
    "    \n",
    "    A1    = np.concatenate([Ac*debit,np.zeros(np.shape(Ac))],axis=1) # Dc < Dcmax et -Dc < -Dcmin\n",
    "    \n",
    "    Atrop = np.concatenate([np.zeros(np.shape(Ac)),Ac*debit],axis=1) # Dctrop < 0,25*Dcmax\n",
    "    \n",
    "    Aapp  = np.concatenate([-1*Aa*debit,-1*Aa*debit],axis=1)         # Da < Damax\n",
    "    \n",
    "    theta = np.concatenate([np.eye(nConduites),np.eye(nConduites)],axis=1)        # theta1 + theta2 < 1\n",
    "    Aub   = np.concatenate([A1,-1*A1,Atrop,Aapp,theta,-1*Atrop])                           # Concatenate de la grande matrice Aub\n",
    "    b     = np.concatenate([Dcmax,-1*Dcmin,0.25*Dcmax,Damax,np.ones(nConduites),np.zeros(len(Pc))]) # Concatenate du grand vecteur de contraintes\n",
    "    \n",
    "    Aeq   = np.concatenate([Ai*debit,Ai*debit],axis=1) # Di = 0\n",
    "    beq   = np.zeros(len(Pi))                          # Di = 0\n",
    "    Bounds= (0,1)                                      # theta > 0\n",
    "    \n",
    "    res   = linprog(c, A_ub = Aub, b_ub = b,A_eq=Aeq, b_eq=beq,bounds=Bounds,options={'tol': 1e-12})#Resolution\n",
    "\n",
    "    theta = res.x[0:nConduites]+res.x[nConduites:2*nConduites]\n",
    "\n",
    "    DebitCok  = (Ac*debit)@res.x[0:nConduites]\n",
    "    DebitCtrop= (Ac*debit)@res.x[nConduites:2*nConduites]\n",
    "    DebitC    = (Ac*debit)@theta\n",
    "    DebitA    = (-1*Aa*debit)@theta\n",
    "    DebitI    = (Ai*debit)@theta\n",
    "    fonction  = Pf.T@DebitCok+(Pf/2).T@DebitCtrop-C@DebitA\n",
    "    \n",
    "    return (-1*res.fun,DebitC,DebitA)"
   ]
  },
  {
   "cell_type": "code",
   "execution_count": null,
   "metadata": {},
   "outputs": [],
   "source": [
    "(nPoints,nConduites,X,Y,Z,A, alpha,R,Pa,Damax,C,Pc,Dcmin,Dcmax,Pf,Pi, unit)=readFile(\"Données/Data-partie1.txt\")\n",
    "print(Ameliorations(nPoints,nConduites,X,Y,Z,A, alpha,R,Pa,Damax,C,Pc,Dcmin,Dcmax,Pf*np.ones(len(Dcmin)),Pi))"
   ]
  },
  {
   "cell_type": "markdown",
   "metadata": {},
   "source": [
    "### II.4 Quels sont les points d’approvisionnement pour lesquels il pourrait a priori être rentable d’installer un château d’eau, en considérant que la construction doit être amortie après dix ans au maximum ?"
   ]
  },
  {
   "cell_type": "markdown",
   "metadata": {},
   "source": [
    "Si la somme des débits maximaux des conduites (lorsque $\\theta=1$) quittant un point d'approvisionnement est inférieure au débit maximal que peut délivrer ce point d'approvisionnement, alors il est intéressant d'installer un château d'eau. En effet, installer un château d'eau permet d'augmenter le dénivelé des conduites et donc d'aumenter les débits de ces conduites. Ainsi, le débit maximal que peut délivrer le point d'approvisionnement pourra être entièrement exploité.\n",
    "\n",
    "De plus, sachant que la construction des châteaux d'eau doit être amortie après 10 ans au maximum et que les prix et coûts mentionnés se rapportent à une heure de fonctionnement, il faudra imposer que le bénéfice $(prix*débitsConso + (prix/2)*débitsConsoSupp - couts*débitsApprov)$ multiplié par $10*365*24$ soit supérieur au coûts de construction de la totalité des châteaux d'eau, mais également que le bénéfice obtenu en consacrant un budget aux châteaux d'eau soit supérieur au bénéfice obtenu sans les construire.\n",
    "\n",
    "Les contraintes imposées au II.1 devront toujours être respectées. Nous y ajouterons tout de même deux contraintes : la première impose une hauteur maximale pour chaque château d'eau, la seconde fixe un budget maximal pour la construction de la totalité des châteaux d'eau."
   ]
  },
  {
   "cell_type": "markdown",
   "metadata": {},
   "source": [
    "### II.5 Résolution numérique du problème II.4 avec les données fournies"
   ]
  },
  {
   "cell_type": "markdown",
   "metadata": {},
   "source": [
    "Soient $h_{supp}$ un vecteur contenat la hauteur des éventuels chateaux d'eau en chaque point d'approvisionnement, $h_{max}$ un vecteur de taille m contenant la hauteur maximale d'un château d'eau, $C_{ch}$ un vecteur de taille m  contenant la coût de la construction d'un château d'eau et $C_{chmax}$ un scalaire représentant le budget maximal que l'on peut dédier à la construction de la totalité des châteaux d'eau.\n",
    "\n",
    "Suivant le raisonnement développé au II.4 et en posant $Flux_1=\\frac{\\alpha R^2 (\\Delta h + h_{supp})}{L}\\theta_1$ et $Flux_2=\\frac{\\alpha R^2 (\\Delta h + h_{supp})}{L}\\theta_2$, nous avons modélisé le problème de façon linéaire et continue :\n",
    "\n",
    "\\begin{align*}\n",
    "\t\\max_{Flux_{1,2} \\in \\mathbb{R}^{nConduites} \\mbox{ et } h_{supp} \\in \\mathbb{R}^{m}} \\left(P_f^T A_{PC}Flux_1 + \\frac{P_f^T}{2} A_{PC}Flux_2 - C^T A_{PA}(Flux_1+Flux_2) \\right)*10*365*24 - C^T_{ch}h_{supp} \\\\\n",
    "\tA_{PC}Flux_1\\geq D_{cmin}\\\\\n",
    "\tA_{PC}Flux_1\\leq D_{cmax}\\\\\n",
    "    A_{PC}Flux_2\\leq 0.25 D_{cmax}\\\\\n",
    "    A_{PA}(Flux_1+Flux_2)\\leq D_{amax}\\\\\n",
    "    A_{PI}(Flux_1+Flux_2) = 0\\\\\n",
    "    C^T_{ch} h_{supp} \\leq C_{chmax}\\\\\n",
    "    Flux_1 + Flux_2 - \\frac{\\alpha R^2}{L}A_{PA}^T h_{supp} \\leq  \\frac{\\alpha R^2 \\Delta h}{L} \\\\\n",
    "    0 \\leq h_{supp} \\leq h_{max}\\\\\n",
    "    Flux_1 \\geq 0\\\\\n",
    "    Flux_2\\geq 0\\\\\n",
    "\\end{align*}\n",
    "\n",
    "Afin de faciliter la résolution numérique de ce problème, nous posons comme hypothèse que la longueur L d'une conduite est constante.\n",
    "\n",
    "Voici le code permettant de résoudre ce problème numériquement :"
   ]
  },
  {
   "cell_type": "code",
   "execution_count": null,
   "metadata": {},
   "outputs": [],
   "source": [
    "def AmeliorationsTour(nPoints,nConduites,X,Y,Z,A, alpha,R,Pa,Damax,C,Pc,Dcmin,Dcmax,Pf,Pi,Cchateau, hmax, Btot): \n",
    "    hmax=hmax*1e-3\n",
    "    Cchateau=Cchateau*1e3\n",
    "    Pannee=365*10*24\n",
    "    \"\"\" Calcul de la longueur \"\"\"\n",
    "    h = abs(A.T@Z)        # le denivele de chaque conduite entre le pt de depart et d'arrivee.\n",
    "    x = abs(A.T@X)        # la difference de x de chaque conduite entre le pt de depart et d'arrivee.\n",
    "    y = abs(A.T@Y)        # la difference de y de chaque conduite entre le pt de depart et d'arrivee.\n",
    "    L=np.sqrt(h*h+x*x+y*y)# On suppose que L ne change pas si on construit un chateau d'eau\n",
    "    \"\"\" Repartition des points \"\"\"\n",
    "    Ac=A[Pc-1]            # On prend les lignes de la matrice d'incidence relatives aux points de consommation\n",
    "    Aa=A[Pa-1]            # On prend les lignes de la matrice d'incidence relatives aux points d'approvisionnement\n",
    "    Ai=A[Pi-1]            # On prend les lignes de la matrice d'incidence relatives aux points intermediaires\n",
    "    \"\"\" Calcul du debit \"\"\"\n",
    "    debit  = np.outer(alpha*R*R/L,np.ones(len(Pa))) # Formule de debit sans hauteur et sans theta\n",
    "    Argent = np.concatenate([Pf*Pannee,Pf/2*Pannee,C*Pannee,Cchateau*np.ones(len(Pa))])\n",
    "    AFlux1 = np.concatenate([Ac,np.zeros((len(Pc),nConduites)),Aa,np.zeros((len(Pa),nConduites))])\n",
    "    AFlux2 = np.concatenate([np.zeros((len(Pc),nConduites)),Ac,Aa,np.zeros((len(Pa),nConduites))])\n",
    "    AHsup  = np.concatenate([np.zeros((len(Pc)*2+len(Pa),len(Pa))),-1*np.eye(len(Pa))])\n",
    "    grandA = np.concatenate([AFlux1,AFlux2,AHsup],axis=1)\n",
    "    c      = -1*np.matmul(Argent,grandA)#fonction objectif\n",
    "    \n",
    "    A1     = np.concatenate([Ac,np.zeros((len(Ac),nConduites+len(Pa)))],axis=1)#Dc<Dcmax et -Dc<-Dcmin\n",
    "    Atrop  = np.concatenate([np.zeros((len(Ac),len(Ac[0]))),Ac,np.zeros((len(Ac),len(Pa)))],axis=1)#Dctrop<0,25*Dcmax\n",
    "    Aapp   = np.concatenate([-1*Aa,-1*Aa,np.zeros((len(Aa),len(Pa)))],axis=1)#Da<Damax    \n",
    "    flux   = np.concatenate([np.eye(nConduites),np.eye(nConduites),debit*Aa.T],axis=1)#flux1+flux2-alpha*R*R*hsup/L<alpha*R*R*h/L\n",
    "    htour  = np.concatenate([np.zeros((len(Pa),2*nConduites)),np.eye(len(Pa))],axis=1)\n",
    "    hbudget1 = np.zeros((1,2*nConduites))\n",
    "    hbudget2 = Cchateau*np.ones((1,len(Pa)))\n",
    "    hbudget = np.concatenate([hbudget1,hbudget2],axis=1)\n",
    "    \n",
    "    Aub    = np.concatenate([A1,-1*A1,Atrop,Aapp,flux,htour,hbudget,-1*Atrop,-1*Aapp]) #Concatenate de la grande matrice Aub\n",
    "    b      = np.concatenate([Dcmax,-1*Dcmin,0.25*Dcmax,Damax,alpha*R*R*(h)/L,np.ones(len(Pa))*hmax,[Btot],np.zeros(len(Pc)),np.zeros(len(Pa))])#Concatenate du grand vecteur de contraintes\n",
    "    \n",
    "    Aeq    = np.concatenate([Ai,Ai,np.zeros((len(Pi),len(Pa)))],axis=1)#Di=0\n",
    "    beq    = np.zeros(len(Pi))#Di=0\n",
    "    Bounds = (0,None)#theta>0\n",
    "    res    = linprog(c, A_ub = Aub, b_ub = b,A_eq=Aeq, b_eq=beq,bounds=Bounds,options={'tol': 1e-12})#Resolution\n",
    "    #print(res)\n",
    "    hsupp =res.x[(2*nConduites):(2*nConduites+len(Pa))]\n",
    "    flux1=res.x[0:nConduites]\n",
    "    flux2=res.x[nConduites:2*nConduites]\n",
    "    flux=flux1+flux2\n",
    "    DebitCok=Ac@flux1\n",
    "    DebitCtrop=Ac@flux2\n",
    "    DebitC=Ac@flux\n",
    "    DebitA=-1*Aa@flux\n",
    "    DebitI=Ai@flux\n",
    "    fonction = Pannee*Pf.T@DebitCok+Pannee*(Pf/2).T@DebitCtrop-Pannee*C@DebitA-(Cchateau*np.ones(len(Pa)))@hsupp\n",
    "    \n",
    "    return (-1*res.fun,DebitCok,DebitCtrop,DebitC,DebitA,DebitI,hsupp,fonction)"
   ]
  },
  {
   "cell_type": "code",
   "execution_count": null,
   "metadata": {},
   "outputs": [],
   "source": [
    "(Cchateau, Hmax, Btot, Ccc)=readSecondFile(\"Données/Data-parties2et3.txt\")\n",
    "print(AmeliorationsTour(nPoints,nConduites,X,Y,Z,A, alpha,R,Pa,Damax,C,Pc,Dcmin,Dcmax,Pf*np.ones(len(Pc)),Pi,Cchateau, Hmax, Btot))"
   ]
  },
  {
   "cell_type": "markdown",
   "metadata": {},
   "source": [
    "# III. Conception d'un réseau optimal"
   ]
  },
  {
   "cell_type": "markdown",
   "metadata": {},
   "source": [
    "### III.1 Maximisation du bénéfice réalisé par le réseau avec construction de châteaux d'eau de hauteur maximale"
   ]
  },
  {
   "cell_type": "markdown",
   "metadata": {},
   "source": [
    "Le problème est similaire à celui du II.5, sauf que les éventuels châteaux d'eau doivent être de hauteur maximale. Cela implique donc que les éléments de $Tour$ ne peuvent valoir que 0 ou 1, on aura donc une $h_{supp}$ qui vaudra entre 0 et $h_{max}$.\n",
    "\n",
    "Le problème se réécrit alors comme suit :\n",
    "\n",
    "\\begin{align*}\n",
    "\t\\max_{Flux_{1,2} \\in \\mathbb{R}^{nConduites} \\mbox{ et } Tour \\in \\mathbb{R}^{m}} \\left(P_f^T A_{PC}Flux_1 + \\frac{P_f^T}{2} A_{PC}Flux_2 - C^T A_{PA}(Flux_1+Flux_2) \\right)*10*365*24 - C^T_{ch}*h_{max}*Tour \\\\\n",
    "\tA_{PC}Flux_1\\geq D_{cmin}\\\\\n",
    "\tA_{PC}Flux_1\\leq D_{cmax}\\\\\n",
    "    A_{PA}(Flux_1+Flux_2)\\leq D_{amax}\\\\\n",
    "    A_{PA}(Flux_1+Flux_2)\\leq 0\\\\\n",
    "    A_{PI}(Flux_1+Flux_2) = 0\\\\\n",
    "    A_{PC}Flux_2 \\geq 0\\\\\n",
    "    A_{PC}Flux_2\\leq 0.25 D_{cmax}\\\\\n",
    "    Flux_1 + Flux_2 - \\frac{\\alpha R^2}{L} A_{PC}^T h_{max}*Tour \\leq  \\frac{\\alpha R^2 \\Delta h}{L} \\\\\n",
    "    C^T_{ch} h_{max}*Tour \\leq C_{chmax}\\\\\n",
    "    Flux_1 \\geq 0\\\\\n",
    "    Flux_2\\geq 0\\\\    \n",
    "    h_{supp} \\in \\mbox { {0,1} }\\\\\n",
    "\\end{align*}"
   ]
  }
 ],
 "metadata": {
  "kernelspec": {
   "display_name": "Python 3",
   "language": "python",
   "name": "python3"
  },
  "language_info": {
   "codemirror_mode": {
    "name": "ipython",
    "version": 3
   },
   "file_extension": ".py",
   "mimetype": "text/x-python",
   "name": "python",
   "nbconvert_exporter": "python",
   "pygments_lexer": "ipython3",
   "version": "3.6.5"
  }
 },
 "nbformat": 4,
 "nbformat_minor": 2
}
