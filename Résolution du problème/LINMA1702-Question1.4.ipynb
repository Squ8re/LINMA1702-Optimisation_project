{
 "cells": [
  {
   "cell_type": "markdown",
   "metadata": {},
   "source": [
    "Amadéo David (44761700) - Marine Van Renterghem (31621700) - Sylvie Van Schendel (44841700)"
   ]
  },
  {
   "cell_type": "markdown",
   "metadata": {},
   "source": [
    "# LINMA1702 Optimisation d'un réseau de distribution d'eau"
   ]
  },
  {
   "cell_type": "markdown",
   "metadata": {},
   "source": [
    "## I. Analyse d'un réseau existant"
   ]
  },
  {
   "cell_type": "markdown",
   "metadata": {},
   "source": [
    "### I.1 Que représentent les expressions $A^Th$ et $Af$ ?"
   ]
  },
  {
   "cell_type": "markdown",
   "metadata": {},
   "source": [
    "Soit h le vecteur contenant les hauteurs en chaque point, f le vecteur contenant les débits circulant dans les conduites et A la matrice d'incidence.\n",
    "\n",
    "L'expression $A^Th$ est le vecteur contenant les dénivelés de chaque conduite.\n",
    "\n",
    "L'expression $Af$ est le vecteur contenant les débits nets en chaque point."
   ]
  },
  {
   "cell_type": "markdown",
   "metadata": {},
   "source": [
    "### I.2 Profil de consommation\n",
    "Le profil de consommation $D_C$ est le vecteur regroupant les débits fournis en chaque point de consommation. On peut modéliser l'ensemble des profils de consommation réalisables par les contraintes linéaires suivantes : \n",
    "$$D_{cmin} \\leq D_c \\leq D_{cmax}$$\n",
    "avec $D_{cmin}$ le vecteur regroupants les débits minimaux en chaque point de consommation et $D_{cmax}$ le vecteur regroupant les débits maximaux en chaque point de consommation. \n",
    "\n",
    "Démontrons que cet ensemble est un polyèdre. \n",
    "\n",
    "\n",
    "Un **polyèdre** de $\\mathbb{R}^n$ est un sous-ensemble de $\\mathbb{R}^n$ qui peut être écrit comme une intersection d'un nombre fini de demi-espaces de $\\mathbb{R}^n$. $\\mathcal{P}=\\{ x\\in \\mathbb{R}^n \\ |\\ a_i^T x \\geq b_i \\ i=1,...,m \\}$  et en notation matricielle : $\\mathcal{P}=\\{ x\\ |\\ A x \\geq b\\}$. \n",
    "\n",
    "Un **demi-espace (fermé)** de $\\mathbb{R}^n$ est un sous-ensemble de $\\mathbb{R}^n$ qui peut être écrit comme $\\{ x\\in \\mathbb{R}^n \\ |\\ a^T x \\geq b\\}$ pour certains $b\\in \\mathbb{R} $ et $a\\in \\mathbb{R}^n \\ (a \\neq 0)$. C'est donc l'ensemble des points qui se trouvent d'un côté donné d'un hyperplan.\n",
    "\n",
    "A partir de ces deux définitions, on peut donc dire que notre profil de consommation est un polyèdre de $\\mathbb{R}^n$ avec n le nombre de points de consommation. En effet, cet ensemble est bien l'intersection de deux demi-espaces de $\\mathbb{R}^n$ : \n",
    "$$D_c \\geq D_{cmin} \\mbox{ et } - D_c \\geq - D_{cmax}$$\n",
    "\n",
    "Pour déterminer si un profil donné est réalisable par le réseau ou non, il faut vérifier que : \n",
    "$$D_c [0] \\geq D_{cmin}[0] \\mbox{ et } - D_c[0] \\geq - D_{cmax}[0]$$\n",
    "ensuite, on verifie : \n",
    "$$D_c [1] \\geq D_{cmin}[1] \\mbox{ et } - D_c[1] \\geq - D_{cmax}[1]$$\n",
    "et ainsi de suite pour tous les points des vecteurs."
   ]
  },
  {
   "cell_type": "markdown",
   "metadata": {},
   "source": [
    "### I.3 Maximisation du bénéfice réalisé par le réseau"
   ]
  },
  {
   "cell_type": "markdown",
   "metadata": {},
   "source": [
    "Soit C le vecteur contenant le coût d'extraction  pour chaque point d'approvisionnement (proportionnel au débit extrait), $P_f$ le vecteur contenant le prix facturé pour chaque point de consommation (proportionnel au débit réellement fourni et consommé) et $D_a$ le vecteur contenant les débits extraits en chaque point d'approvisionnement.\n",
    "\n",
    "Formulons la maximisation du bénéfice réalisé par le réseau comme un problème d'optimisation linéaire continu :\n",
    "\n",
    "\\begin{align*}\n",
    "\t\\max_{D_a \\in \\mathbb{R}^m et D_c \\in \\mathbb{R}^n} P_f^T D_c - C^T D_a\\\\\n",
    "\tD_c\\geq D_{cmin}\\\\\n",
    "\t-D_c\\geq -D_{cmax}\\\\\n",
    "    -D_a\\geq -D_{amax}\\\\\n",
    "\t\\sum D_a - \\sum D_c \\geq 0 \\\\\n",
    "    D_a\\geq 0\\\\\n",
    "    D_c\\geq 0\\\\\n",
    "\\end{align*}\n",
    "\n",
    "où m est le nombre de points d'approvisionnement et n le nombre de points de consommation.\n",
    "\n",
    "Sachant que $D_a$ est de dimension m et que $D_c$ est de dimension n, les dimensions du problème sont les suivantes :\n",
    "\n",
    "- m + n variables\n",
    "- 2m + 3n +1 contraintes\n",
    "\n",
    "Sachant que le débit circulant dans une conduite est défini par : \n",
    "\n",
    "$\\alpha \\theta \\frac{R^2\\Delta h}{L}$ \n",
    "\n",
    "avec $\\alpha$ une constante de proportionnalité, $\\Delta h$ la différence de hauteur entre les extrémités de la conduite, R le rayon de la conduite, L la longueur de la conduite et $\\theta$ un paramètre ajustable entre 0 et 1,\n",
    "\n",
    "notre problème peut s'écrire :\n",
    "\n",
    "\\begin{align*}\n",
    "\t\\max_{\\theta_a \\in \\mathbb{R}^m et \\theta_c \\in \\mathbb{R}^n} P_f^T A_{PC}\\frac{\\alpha R^2\\Delta h}{L} \\theta_c + C^T A_{PA}\\frac{\\alpha R^2\\Delta h}{L} \\theta_a\\\\\n",
    "\tA_{PC}\\frac{\\alpha R^2\\Delta h}{L} \\theta_c\\geq D_{cmin}\\\\\n",
    "\t-A_{PC}\\frac{\\alpha R^2\\Delta h}{L} \\theta_c\\geq -D_{cmax}\\\\\n",
    "    -A_{PA}\\frac{\\alpha R^2\\Delta h}{L} \\theta_a\\geq -D_{amax}\\\\\n",
    "\t\\sum A_{PA}\\frac{\\alpha R^2\\Delta h}{L} \\theta_a - \\sum A_{PC}\\frac{\\alpha R^2\\Delta h}{L} \\theta_c \\geq 0 \\\\\n",
    "    A_{PA}\\frac{\\alpha R^2\\Delta h}{L} \\theta_a\\geq 0\\\\\n",
    "    A_{PC}\\frac{\\alpha R^2\\Delta h}{L} \\theta_c\\geq 0\\\\\n",
    "    \\theta_{a} \\geq 0 \\\\ \n",
    "    -\\theta_{a} \\geq -1 \\\\\n",
    "    \\theta_{c} \\geq 0 \\\\ \n",
    "    -\\theta_{c} \\geq -1 \\\\\n",
    "\\end{align*}\n",
    "\n",
    "avec $\\theta_a$ le paramètre ajustant le débit quittant le point d'approvisionnement, $\\theta_c$ le paramètre ajustant le débit arrivant au point de consommation, $A_{PA}$ la matrice d'incidence évaluée aux points d'approvisionnement uniquement et $A_{PC}$ la matrice d'incidence évaluée aux points de consommation uniquement.\n",
    "\n",
    "Sachant que $\\theta_a$ est de dimension m et que $\\theta_c$ est de dimension n, les dimensions du problème sont les suivantes :\n",
    "\n",
    "- m + n variables\n",
    "- 4m + 5n +1 contraintes\n",
    "\n",
    "Les contraintes supplémentaires viennent du fait que le paramètre $\\theta$ doit être compris entre 0 et 1."
   ]
  },
  {
   "cell_type": "markdown",
   "metadata": {},
   "source": [
    "### I.4 Résolution numérique du problème I.3 avec les données fournies"
   ]
  },
  {
   "cell_type": "code",
   "execution_count": 1,
   "metadata": {},
   "outputs": [],
   "source": [
    "from scipy.optimize import linprog # import du solveur d'optimisation linéaire à utiliser\n",
    "import matplotlib.pyplot as plt # pour graphiques éventuels\n",
    "import numpy as np"
   ]
  },
  {
   "cell_type": "code",
   "execution_count": 2,
   "metadata": {},
   "outputs": [],
   "source": [
    "#Fonction retournant [f,xC,xA] avec f la valeur de la fonction objectif maximale \n",
    "#xC un vecteur des valeurs optimales des débits aux points de consommation\n",
    "#xA un vecteur des valeurs optimales des débits aux points d'approvisionnement\n",
    "#Soit Pf le prix facturé\n",
    "#Soit C le cout\n",
    "#Soit DCmin et DCmax les valeurs minimales et maximales du débit aux points de consommation\n",
    "#Soit DAmax les valeurs maximales du débit extractibles aux sources\n",
    "def Analyse(C,Pf,Dcmin,Dcmax,Damax):\n",
    "    c  = -1 * np.concatenate((Pf, -1*np.array(C)))       # On traite un problème de maximisation\n",
    "    A1 = np.eye(len(Dcmin)+len(Damax))\n",
    "    A2 = -1 * np.eye(len(Dcmin))                         # Matrice identite\n",
    "    A2Add = np.zeros((len(Dcmin),len(Damax)))            # Matrice de 0\n",
    "    A2 = np.concatenate((A2,A2Add),axis=1)               # Ajout de 0 a la fin de la matrice\n",
    "    A  = np.concatenate((A1,A2))\n",
    "    A3 = np.ones((1,len(Dcmin)+len(Damax)))\n",
    "    A3[0,len(Dcmin):(len(Dcmin)+len(Damax))]*=-1\n",
    "    A  = np.concatenate((A,A3))\n",
    "    b  = np.concatenate((np.concatenate((Dcmax,Damax)),np.concatenate((-1*np.array(Dcmin),[0]))))\n",
    "    res= linprog(c, A_ub = A, b_ub = b)\n",
    "    \n",
    "    return [res.fun, res.x[0:len(Dcmin)],res.x[len(Dcmin):len(Dcmin)+len(Damax)]]"
   ]
  },
  {
   "cell_type": "code",
   "execution_count": 3,
   "metadata": {},
   "outputs": [],
   "source": [
    "def readFile(fileName): \n",
    "    with open(fileName,\"r\") as f :\n",
    "        nPoints = int(f.readline().split()[0])\n",
    "        nConduites=int(f.readline().split()[0])\n",
    "        f.readline()\n",
    "        f.readline()\n",
    "        xyz   = np.array(list(list(float(w) for w in f.readline().split()[:]) for i in range(nPoints)))\n",
    "        f.readline()\n",
    "        f.readline()\n",
    "        A = np.array(list(list(float(w) for w in f.readline().split()[:]) for i in range(nPoints)))\n",
    "        alpha=10**6\n",
    "        R=1\n",
    "        Pa=[2, 3, 13, 32, 49]\n",
    "        Damax=[5000, 10000, 5000, 3000, 15000]\n",
    "        C= [0.2, 0.2, 0.3, 0.3, 0.1]\n",
    "        Pc=[1, 4, 8, 9, 10, 14, 16, 17, 18, 24, 28, 33, 36, 34, 42, 47, 55, 64, 67, 76]\n",
    "        Dcmin=[500, 500, 500, 500, 500, 500, 500, 500, 500, 500, 500, 500, 500, 500, 500, 500, 500, 500, 500, 500]\n",
    "        Dcmax=[4000, 2000, 2000, 2000, 2000, 3000, 2000, 2000, 2000, 2000, 5000, 2000, 2000, 2000, 2000, 2000, 2000, 2000, 3000, 2000]\n",
    "        Pf=0.9\n",
    "        Pi=[5, 6, 7, 11, 12, 15, 19, 20, 21, 22, 23, 25, 26, 27, 29, 30, 31, 35, 37, 38, 39, 40, 41, 43, 44, 45, 46, 48, 50, 51, 52, 53, 54, 56, 57, 58, 59, 60, 61, 62, 63, 65, 66, 68, 69, 70, 71, 72, 73, 74, 75]\n",
    "        X = xyz[:,0]\n",
    "        Y = xyz[:,1]\n",
    "        Z = xyz[:,2]\n",
    "        \n",
    "    return [nPoints,nConduites,X,Y,Z,A,R,Pa,Damax,C,Pc,Dcmin,Dcmax,Pf,Pi,alpha]\n",
    "    "
   ]
  },
  {
   "cell_type": "code",
   "execution_count": 4,
   "metadata": {
    "scrolled": false
   },
   "outputs": [
    {
     "name": "stdout",
     "output_type": "stream",
     "text": [
      "[-27300.0, array([4000., 2000., 2000., 2000., 2000., 3000., 2000., 2000., 2000.,\n",
      "       2000., 5000., 2000., 2000., 2000., 1500.,  500.,  500.,  500.,\n",
      "        500.,  500.]), array([ 5000., 10000.,  5000.,  3000., 15000.])]\n"
     ]
    }
   ],
   "source": [
    "[nPoints,nConduites,X,Y,Z,A,R,Pa,Damax,C,Pc,Dcmin,Dcmax,Pf,Pi,alpha]=readFile(\"Données/Data-partie1.txt\")\n",
    "print(Analyse(C,Pf*np.ones(len(Dcmin)),Dcmin,Dcmax,Damax))"
   ]
  },
  {
   "cell_type": "markdown",
   "metadata": {},
   "source": [
    "# II. Améliorations du réseau"
   ]
  },
  {
   "cell_type": "markdown",
   "metadata": {},
   "source": [
    "### II.1 Maximisation du bénéfice réalisé par le réseau lorsque les points de consommation peuvent dépasser leur demande maximale initiale, avec diminution du prix"
   ]
  },
  {
   "cell_type": "markdown",
   "metadata": {},
   "source": [
    "Soit $D_{ctrop}$ un vecteur qui regroupe la partie supplémentaire (jusqu'à +25%) des débits fournis en chacun des points de consommation.\n",
    "\n",
    "Formulons, de façon linéaire, la maximisation du bénéfice réalisé par le réseau lorsque les points de consommation peuvent dépasser leur demande maximale jusqu'à +25% : \n",
    "\n",
    "\\begin{align*}\n",
    "\t\\max_{D_a \\in \\mathbb{R}^m et D_c \\in \\mathbb{R}^n} P_f^T D_c + \\frac{P_f^T}{2} D_{ctrop} - C^T D_a\\\\\n",
    "\tD_c\\geq D_{cmin}\\\\\n",
    "\t-D_c\\geq -D_{cmax}\\\\\n",
    "    -D_a\\geq -D_{amax}\\\\\n",
    "    -D_{ctrop}\\geq -0.25 D_{cmax}\\\\\n",
    "\t\\sum D_a - \\sum D_c - \\sum D_{ctrop} \\geq 0 \\\\\n",
    "    D_a\\geq 0\\\\\n",
    "    D_c\\geq 0\\\\\n",
    "    D_{ctrop}\\geq 0\\\\\n",
    "\\end{align*}"
   ]
  },
  {
   "cell_type": "markdown",
   "metadata": {},
   "source": [
    "### II.2  Maximisation du bénéfice réalisé par le réseau lorsque les points de consommation peuvent dépasser leur demande maximale initiale, avec augmentation du prix, est-ce possible ?"
   ]
  },
  {
   "cell_type": "markdown",
   "metadata": {},
   "source": [
    "# III. Conception d'un réseau optimal"
   ]
  }
 ],
 "metadata": {
  "kernelspec": {
   "display_name": "Python 3",
   "language": "python",
   "name": "python3"
  },
  "language_info": {
   "codemirror_mode": {
    "name": "ipython",
    "version": 3
   },
   "file_extension": ".py",
   "mimetype": "text/x-python",
   "name": "python",
   "nbconvert_exporter": "python",
   "pygments_lexer": "ipython3",
   "version": "3.6.5"
  }
 },
 "nbformat": 4,
 "nbformat_minor": 2
}
