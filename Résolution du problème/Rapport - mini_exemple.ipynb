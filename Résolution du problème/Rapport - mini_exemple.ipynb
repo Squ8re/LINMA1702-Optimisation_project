{
 "cells": [
  {
   "cell_type": "markdown",
   "metadata": {},
   "source": [
    "Amadéo David (44761700) - Marine Van Renterghem (31621700) - Sylvie Van Schendel (44841700)"
   ]
  },
  {
   "cell_type": "markdown",
   "metadata": {},
   "source": [
    "# LINMA1702 Optimisation d'un réseau de distribution d'eau"
   ]
  },
  {
   "cell_type": "markdown",
   "metadata": {},
   "source": [
    "## I. Analyse d'un réseau existant"
   ]
  },
  {
   "cell_type": "markdown",
   "metadata": {},
   "source": [
    "### I.1 Que représentent les expressions $A^Th$ et $Af$ ?"
   ]
  },
  {
   "cell_type": "markdown",
   "metadata": {},
   "source": [
    "Soit h le vecteur contenant les hauteurs en chaque point, f le vecteur contenant les débits circulant dans les conduites et A la matrice d'incidence.\n",
    "\n",
    "L'expression $A^Th$ est le vecteur contenant les dénivelés de chaque conduite.\n",
    "\n",
    "L'expression $Af$ est le vecteur contenant les débits nets en chaque point."
   ]
  },
  {
   "cell_type": "markdown",
   "metadata": {},
   "source": [
    "### I.2 "
   ]
  },
  {
   "cell_type": "markdown",
   "metadata": {},
   "source": [
    "### I.4 Résolution numérique du problème I.3 avec les données fournies"
   ]
  },
  {
   "cell_type": "code",
   "execution_count": 3,
   "metadata": {},
   "outputs": [],
   "source": [
    "from scipy.optimize import linprog # import du solveur d'optimisation linéaire à utiliser\n",
    "import matplotlib.pyplot as plt # pour graphiques éventuels\n",
    "import numpy as np"
   ]
  },
  {
   "cell_type": "code",
   "execution_count": 17,
   "metadata": {},
   "outputs": [],
   "source": [
    "#Fonction retournant [f,xC,xA] avec f la valeur de la fonction objectif maximale \n",
    "#xC un vecteur des valeurs optimales des débits aux points de consommation\n",
    "#xA un vecteur des valeurs optimales des débits aux points d'approvisionnement\n",
    "#Soit Pf le prix facturé\n",
    "#Soit C le cout\n",
    "#Soit DCmin et DCmax les valeurs minimales et maximales du débit aux points de consommation\n",
    "#Soit DAmax les valeurs maximales du débit extractibles aux sources\n",
    "def Analyse(C,Pf,Dcmin,Dcmax,Damax):\n",
    "    \"\"\"\n",
    "    Analyse renvoie un vecteur retournant, dans l'ordre :\n",
    "        ° la valeur de la fonction objectif maximale;\n",
    "        ° un vecteur des valeurs optimales des débits aux points de consommation;\n",
    "        ° un vecteur des valeurs optimales des débits aux points d'approvisionnement.\n",
    "        \n",
    "    \"\"\"\n",
    "    c  = -1 * np.concatenate((Pf, -1*np.array(C)))       # On traite un problème de maximisation\n",
    "    A1 = np.eye(len(Dcmin)+len(Damax))\n",
    "    A2 = -1 * np.eye(len(Dcmin))                         # Matrice identite\n",
    "    A2Add = np.zeros((len(Dcmin),len(Damax)))            # Matrice de 0\n",
    "    A2 = np.concatenate((A2,A2Add),axis=1)               # Ajout de 0 a la fin de la matrice\n",
    "    A  = np.concatenate((A1,A2))\n",
    "    A3 = np.ones((1,len(Dcmin)+len(Damax)))\n",
    "    A3[0,len(Dcmin):(len(Dcmin)+len(Damax))]*=-1\n",
    "    A  = np.concatenate((A,A3))\n",
    "    b  = np.concatenate((np.concatenate((Dcmax,Damax)),np.concatenate((-1*np.array(Dcmin),[0]))))\n",
    "    res= linprog(c, A_ub = A, b_ub = b)\n",
    "    print(c)\n",
    "    return [-1*res.fun, res.x[0:len(Dcmin)],res.x[len(Dcmin):len(Dcmin)+len(Damax)]]"
   ]
  },
  {
   "cell_type": "code",
   "execution_count": 2,
   "metadata": {},
   "outputs": [],
   "source": [
    "def readFile(fileName): \n",
    "    with open(fileName,\"r\") as f :\n",
    "        nPoints = int(f.readline().split()[0])\n",
    "        nConduites=int(f.readline().split()[0])\n",
    "        f.readline()\n",
    "        f.readline()\n",
    "        xyz   = np.array(list(list(float(w) for w in f.readline().split()[:]) for i in range(nPoints)))\n",
    "        f.readline()\n",
    "        f.readline()\n",
    "        A = np.array(list(list(float(w) for w in f.readline().split()[:]) for i in range(nPoints)))\n",
    "        alpha=10**6\n",
    "        R=1\n",
    "        Pa=[2, 6]\n",
    "        Damax=[10000, 5000]\n",
    "        C= [0.2, 0.3]\n",
    "        Pc=[1, 4, 10, 20, 23]\n",
    "        Dcmin=[200, 200, 200, 200, 200]\n",
    "        Dcmax=[4000, 2000, 2000, 3000, 2000]\n",
    "        Pf=0.9\n",
    "        Pi=[3, 5, 7, 8, 9, 11, 12 ,13, 14, 15, 16, 17, 18, 19, 21, 22]\n",
    "        X = xyz[:,0]\n",
    "        Y = xyz[:,1]\n",
    "        Z = xyz[:,2]\n",
    "        \n",
    "    return [nPoints,nConduites,X,Y,Z,A,R,Pa,Damax,C,Pc,Dcmin,Dcmax,Pf,Pi,alpha]\n",
    "    "
   ]
  },
  {
   "cell_type": "code",
   "execution_count": 18,
   "metadata": {
    "scrolled": false
   },
   "outputs": [
    {
     "name": "stdout",
     "output_type": "stream",
     "text": [
      "[-0.9 -0.9 -0.9 -0.9 -0.9  0.2  0.3]\n",
      "[8800.0, array([4000., 2000., 2000., 3000., 2000.]), array([10000.,  3000.])]\n"
     ]
    }
   ],
   "source": [
    "[nPoints,nConduites,X,Y,Z,A,R,Pa,Damax,C,Pc,Dcmin,Dcmax,Pf,Pi,alpha]=readFile(\"Mini-exemple-avec-solution/Data-mini-exemple-avec-solution.txt\")\n",
    "print(Analyse(C,Pf*np.ones(len(Dcmin)),Dcmin,Dcmax,Damax))"
   ]
  },
  {
   "cell_type": "markdown",
   "metadata": {},
   "source": [
    "# II. Améliorations du réseau"
   ]
  },
  {
   "cell_type": "markdown",
   "metadata": {},
   "source": [
    "# III. Conception d'un réseau optimal"
   ]
  }
 ],
 "metadata": {
  "kernelspec": {
   "display_name": "Python 3",
   "language": "python",
   "name": "python3"
  },
  "language_info": {
   "codemirror_mode": {
    "name": "ipython",
    "version": 3
   },
   "file_extension": ".py",
   "mimetype": "text/x-python",
   "name": "python",
   "nbconvert_exporter": "python",
   "pygments_lexer": "ipython3",
   "version": "3.7.1"
  }
 },
 "nbformat": 4,
 "nbformat_minor": 2
}
