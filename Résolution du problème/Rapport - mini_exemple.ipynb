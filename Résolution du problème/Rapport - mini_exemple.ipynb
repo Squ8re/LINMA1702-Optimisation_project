{
 "cells": [
  {
   "cell_type": "markdown",
   "metadata": {},
   "source": [
    "Amadéo David (44761700) - Marine Van Renterghem (31621700) - Sylvie Van Schendel (44841700)"
   ]
  },
  {
   "cell_type": "markdown",
   "metadata": {},
   "source": [
    "# LINMA1702 Optimisation d'un réseau de distribution d'eau"
   ]
  },
  {
   "cell_type": "markdown",
   "metadata": {},
   "source": [
    "## I. Analyse d'un réseau existant"
   ]
  },
  {
   "cell_type": "markdown",
   "metadata": {},
   "source": [
    "### I.1 Que représentent les expressions $A^Th$ et $Af$ ?"
   ]
  },
  {
   "cell_type": "markdown",
   "metadata": {},
   "source": [
    "Soit h le vecteur contenant les hauteurs en chaque point, f le vecteur contenant les débits circulant dans les conduites et A la matrice d'incidence.\n",
    "\n",
    "L'expression $A^Th$ est le vecteur contenant les dénivelés de chaque conduite.\n",
    "\n",
    "L'expression $Af$ est le vecteur contenant les débits nets en chaque point."
   ]
  },
  {
   "cell_type": "markdown",
   "metadata": {},
   "source": [
    "### I.2 "
   ]
  },
  {
   "cell_type": "markdown",
   "metadata": {},
   "source": [
    "### I.4 Résolution numérique du problème I.3 avec les données fournies"
   ]
  },
  {
   "cell_type": "code",
   "execution_count": 2,
   "metadata": {},
   "outputs": [],
   "source": [
    "from scipy.optimize import linprog # import du solveur d'optimisation linéaire à utiliser\n",
    "import matplotlib.pyplot as plt # pour graphiques éventuels\n",
    "import numpy as np"
   ]
  },
  {
   "cell_type": "code",
   "execution_count": 3,
   "metadata": {},
   "outputs": [],
   "source": [
    "def readFile(file_name):\n",
    "    \"\"\"\n",
    "    Cette fonction lit un fichier formatté au type utilise dans les exemples du\n",
    "    projet\n",
    "    @pre                : Le fichier file_name est organise de la meme maniere\n",
    "                          que les exemples donnes sur Moodle.\n",
    "    \n",
    "    @param file_name    : contient un String avec le nom du fichier a lire.\n",
    "    \n",
    "    @return n_points    : Contient un 'int' avec le nombre de points\n",
    "    @return n_conduites : Contient un 'int' avec le nombre de conduites\n",
    "    @return X           : Contient un 'numpy.array' avec les abscisses des points.\n",
    "    @return Y           : Contient un 'numpy.array' avec les ordonnees des points.\n",
    "    @return Z           : Contient un 'numpy.array' avec la hauteur des points.\n",
    "    @return A           : Contient un 'numpy.array' avec la matrice d'incidence\n",
    "                          des conduites.\n",
    "    @return alpha       : Contient un 'float' avecla valeur de alpha.\n",
    "    @return R           : Contient un 'float' avec le rayon des conduites.\n",
    "    @return pa          : Contient un 'numpy.array' avec les points\n",
    "                          d'approvisionnement.\n",
    "    @return da_max      : Contient un 'numpy.array' avec les debits maximaux\n",
    "                          extractibles.\n",
    "    @return C           : Contient un 'numpy.array' avec les couts d'extraction.\n",
    "    @return pc          : Contient un 'numpy.array' avec les points de\n",
    "                          consommation.\n",
    "    @return dc_min      : Contient un 'numpy.array' avec les debits minimaux\n",
    "                          consommables.\n",
    "    @return dc_max      : Contient un 'numpy.array' avec les debits maximaux\n",
    "                          consommables.\n",
    "    @return Pf          : Contient un 'float' avec le prix facture.\n",
    "    @return pi          : Contient un 'numpy.array' avec les points\n",
    "                          intermediaires.\n",
    "    @return unit        : Contient un 'String' avec l'unite des coordonnes des\n",
    "                          points.\n",
    "    \"\"\"\n",
    "    with open(file_name,'r') as f:\n",
    "        n_points    = (int)(f.readline().split()[0])\n",
    "        n_conduites = (int)(f.readline().split()[0])\n",
    "        f.readline()\n",
    "        unit        = (f.readline().split(\" = \")[1])\n",
    "        \n",
    "        coord       = np.array(list(list(float(w) for w in f.readline().split()[:]) for i in range(n_points)))\n",
    "        X           = coord[:,0]\n",
    "        Y           = coord[:,1]\n",
    "        Z           = coord[:,2]\n",
    "        \n",
    "        f.readline()\n",
    "        f.readline()\n",
    "        A           = np.array(list(list(float(w) for w in f.readline().split()[:]) for i in range(n_points)))\n",
    "        f.readline()\n",
    "        \n",
    "        UL_alpha    = f.readline().split(\" = \")[1]\n",
    "        UL_alpha    = UL_alpha.split()[0]\n",
    "        UL2_alpha   = np.array(UL_alpha.split(\"^\"))\n",
    "        if(len(UL2_alpha) == 1):\n",
    "            alpha   = (float)(UL2_alpha)\n",
    "        else:\n",
    "            alpha   = (float)(UL2_alpha[0]) ** (float)(UL2_alpha[1])\n",
    "        \n",
    "        R           = (float)(f.readline().split()[4])\n",
    "        f.readline()\n",
    "        \n",
    "        UL_pa       = f.readline().split(\" = [\")[1]\n",
    "        UL_pa       = UL_pa.split(\"]\")[0]\n",
    "        pa          = np.array(list(int(w) for w in UL_pa.split()[:]))\n",
    "        \n",
    "        UL_da_max   = f.readline().split(\" = [\")[1]\n",
    "        UL_da_max   = UL_da_max.split(\"]\")[0]\n",
    "        da_max      = np.array(list(float(w) for w in UL_da_max.split()[:]))\n",
    "        \n",
    "        UL_C        = f.readline().split(\" = [\")[1]\n",
    "        UL_C        = UL_C.split(\"]\")[0]\n",
    "        C           = np.array(list(float(w) for w in UL_C.split()[:]))\n",
    "        \n",
    "        f.readline()\n",
    "        \n",
    "        UL_pc       = f.readline().split(\" = [\")[1]\n",
    "        UL_pc       = UL_pc.split(\"]\")[0]\n",
    "        pc          = np.array(list(int(w) for w in UL_pc.split()[:]))\n",
    "        \n",
    "        UL_dc_min   = f.readline().split(\" = [\")[1]\n",
    "        UL_dc_min   = UL_dc_min.split(\"]\")[0]\n",
    "        dc_min      = np.array(list(float(w) for w in UL_dc_min.split()[:]))\n",
    "        \n",
    "        UL_dc_max   = f.readline().split(\" = [\")[1]\n",
    "        UL_dc_max   = UL_dc_max.split(\"]\")[0]\n",
    "        dc_max      = np.array(list(float(w) for w in UL_dc_max.split()[:]))\n",
    "        \n",
    "        Pf          = (float)(f.readline().split()[3])\n",
    "        \n",
    "        f.readline()\n",
    "        \n",
    "        UL_pi       = f.readline().split(\"[\")[1]\n",
    "        UL_pi       = UL_pi.split(\"]\")[0]\n",
    "        pi          = np.array(list(int(w) for w in UL_pi.split()[:]))\n",
    "        \n",
    "    return (n_points, n_conduites, X, Y, Z, A, alpha, R, pa, da_max, C, pc, dc_min, dc_max, Pf, pi, unit)"
   ]
  },
  {
   "cell_type": "code",
   "execution_count": 4,
   "metadata": {},
   "outputs": [],
   "source": [
    "def readSecondFile(filename):\n",
    "    \"\"\"\n",
    "    Cette fonction permet de récupérer les données stockées dans le fichier 'partie2'\n",
    "    @pre : filename est un String pointant vers un fichier.\n",
    "    @pre : le fichier 'filename' est formaté correctement.\n",
    "    @pre : le cout de construction d'un chateau d'eau est exprime en millions.\n",
    "    \n",
    "    @return Cchateau contient le cout de construction d'un chateau d'eau (€/m).\n",
    "    @return Hmax     contient la hauteur max. d'un chateau d'eau (metre).\n",
    "    @return Btot     contient le budget total de construction des chateaux.\n",
    "    @return Ccc      contient le cout de construction d'une conduite.\n",
    "    \"\"\"\n",
    "    with open(filename,'r') as f:\n",
    "        f.readline()\n",
    "        f.readline()\n",
    "        Cchateau = (float)(f.readline().split()[7])*1000000\n",
    "        \n",
    "        UL_Hmax  = (f.readline().split()[6]).split(\",\")\n",
    "        if(len(UL_Hmax)==2):\n",
    "            Hmax = (float)(UL_Hmax[0]) + (float)(UL_Hmax[1])/(10**(len(UL_Hmax[1])))\n",
    "        else:\n",
    "            Hmax = (float)(UL_Hmax)\n",
    "        Btot     = (float)(f.readline().split()[7])\n",
    "        f.readline()\n",
    "        Ccc      = (float)(f.readline().split()[6])\n",
    "    return (Cchateau, Hmax, Btot, Ccc)"
   ]
  },
  {
   "cell_type": "code",
   "execution_count": 5,
   "metadata": {},
   "outputs": [],
   "source": [
    "#Fonction retournant [f,xC,xA] avec f la valeur de la fonction objectif maximale \n",
    "#xC un vecteur des valeurs optimales des débits aux points de consommation\n",
    "#xA un vecteur des valeurs optimales des débits aux points d'approvisionnement\n",
    "#Soit Pf le prix facturé\n",
    "#Soit C le cout\n",
    "#Soit DCmin et DCmax les valeurs minimales et maximales du débit aux points de consommation\n",
    "#Soit DAmax les valeurs maximales du débit extractibles aux sources\n",
    "def Analyse(nPoints,nConduites,X,Y,Z,A,R,Pa,Damax,C,Pc,Dcmin,Dcmax,Pf,Pi,alpha):\n",
    "   \n",
    "    h = abs(A.T@Z)      # le denivele de chaque conduite entre le pt de depart et d'arrivee.\n",
    "    x=abs(A.T@X)        # la difference de x de chaque conduite entre le pt de depart et d'arrivee.\n",
    "    y=abs(A.T@Y)        # la difference de y de chaque conduite entre le pt de depart et d'arrivee.\n",
    "    L=np.sqrt(h*h+x*x+y*y)       \n",
    "    \n",
    "    A1     = np.concatenate((A[np.array(Pc)-1],-1* A[np.array(Pa)-1]))   # Tous les debits positifs\n",
    "    A3     = np.concatenate((A[np.array(Pc)-1], A[np.array(Pa)-1]))      # On laisse les debits aux points d'approvisionnement \n",
    "                                                                         # negatifs\n",
    "    DebMax = alpha*R*R*h/L*A1   # Debit max, juste sur les points pas \n",
    "                                                                         # intermediaires\n",
    "    \n",
    "    A2     = A[Pc-1]                                           # Uniquement les points de consommation.\n",
    "    DebMin = -1*alpha*R*R*h/L*A2 # Debit min\n",
    "    \n",
    "    #Sum    = np.sum(np.multiply(np.outer(np.ones(len(A1)),alpha*R*R*h/L),A3), axis=0)    \n",
    "    #Aub    = np.concatenate((np.concatenate((DebMax,DebMin)),np.reshape(Sum, (1,np.shape(DebMax)[1]))))\n",
    "    Aub = np.concatenate((DebMax,DebMin))\n",
    "    Argent = np.concatenate((Pf,C))\n",
    "    Eye=np.eye(len(Argent))*Argent\n",
    "    #print(Eye)\n",
    "    c=-1*np.matmul(Argent,A3)*(alpha*R*R*h/L)    \n",
    "    print(c)\n",
    "    A5=A[np.array(Pi)-1] #On ne prend que les points \n",
    "    Aeq=A5*alpha*R*R*h/L #Points intemédiaires ont un débit resultant nul\n",
    "    beq=np.zeros(len(Pi))\n",
    "    #c=np.sum(alpha*R*R*h/L*A3*np.outer(np.concatenate((Pf,C)),np.ones(len(A3[0]))),axis=0)\n",
    "    \n",
    "    #b      = np.concatenate((np.concatenate((Dcmax,np.array(Damax))),np.concatenate((-1*np.array(Dcmin),[0]))))\n",
    "    b      = np.concatenate((np.concatenate((Dcmax, Damax)), -1*Dcmin))\n",
    "    \n",
    "    bounds = np.concatenate((np.zeros((nConduites,1)),np.ones((nConduites,1))),axis=1) # limites (vecteur de (0,1) sur le\n",
    "                                                                                       # nombre de conduites)\n",
    "    res    = linprog(c, A_ub = Aub, b_ub = b,A_eq=Aeq, b_eq=beq,bounds=bounds,options={'tol': 1e-8})\n",
    "    DebC=(A2*alpha*R*R*h/L)@res.x\n",
    "    A4=A[Pa-1]\n",
    "    DebA=(A4*alpha*R*R*h/L)@res.x\n",
    "    Prix=Pf.T@DebC\n",
    "    Couts=C.T@DebA\n",
    "    print(\"This is res\")\n",
    "    #print(res)\n",
    "    return (-1*res.fun,DebC,DebA,Prix,Couts)#modifier le return"
   ]
  },
  {
   "cell_type": "code",
   "execution_count": 25,
   "metadata": {
    "scrolled": false
   },
   "outputs": [
    {
     "name": "stdout",
     "output_type": "stream",
     "text": [
      "[ 0.35355339 -0.57735027 -0.70710678]\n"
     ]
    },
    {
     "ename": "ValueError",
     "evalue": "Scalar operands are not allowed, use '*' instead",
     "output_type": "error",
     "traceback": [
      "\u001b[1;31m---------------------------------------------------------------------------\u001b[0m",
      "\u001b[1;31mValueError\u001b[0m                                Traceback (most recent call last)",
      "\u001b[1;32m<ipython-input-25-eee2b53e8303>\u001b[0m in \u001b[0;36m<module>\u001b[1;34m\u001b[0m\n\u001b[0;32m      1\u001b[0m \u001b[1;33m(\u001b[0m\u001b[0mnPoints\u001b[0m\u001b[1;33m,\u001b[0m\u001b[0mnConduites\u001b[0m\u001b[1;33m,\u001b[0m\u001b[0mX\u001b[0m\u001b[1;33m,\u001b[0m\u001b[0mY\u001b[0m\u001b[1;33m,\u001b[0m\u001b[0mZ\u001b[0m\u001b[1;33m,\u001b[0m\u001b[0mA\u001b[0m\u001b[1;33m,\u001b[0m \u001b[0malpha\u001b[0m\u001b[1;33m,\u001b[0m\u001b[0mR\u001b[0m\u001b[1;33m,\u001b[0m\u001b[0mPa\u001b[0m\u001b[1;33m,\u001b[0m\u001b[0mDamax\u001b[0m\u001b[1;33m,\u001b[0m\u001b[0mC\u001b[0m\u001b[1;33m,\u001b[0m\u001b[0mPc\u001b[0m\u001b[1;33m,\u001b[0m\u001b[0mDcmin\u001b[0m\u001b[1;33m,\u001b[0m\u001b[0mDcmax\u001b[0m\u001b[1;33m,\u001b[0m\u001b[0mPf\u001b[0m\u001b[1;33m,\u001b[0m\u001b[0mPi\u001b[0m\u001b[1;33m,\u001b[0m \u001b[0munit\u001b[0m\u001b[1;33m)\u001b[0m\u001b[1;33m=\u001b[0m\u001b[0mreadFile\u001b[0m\u001b[1;33m(\u001b[0m\u001b[1;34m\"OurReseau/Tiny.txt\"\u001b[0m\u001b[1;33m)\u001b[0m\u001b[1;33m\u001b[0m\u001b[1;33m\u001b[0m\u001b[0m\n\u001b[1;32m----> 2\u001b[1;33m \u001b[0mprint\u001b[0m\u001b[1;33m(\u001b[0m\u001b[0mAnalyse\u001b[0m\u001b[1;33m(\u001b[0m\u001b[0mnPoints\u001b[0m\u001b[1;33m,\u001b[0m\u001b[0mnConduites\u001b[0m\u001b[1;33m,\u001b[0m\u001b[0mX\u001b[0m\u001b[1;33m,\u001b[0m\u001b[0mY\u001b[0m\u001b[1;33m,\u001b[0m\u001b[0mZ\u001b[0m\u001b[1;33m,\u001b[0m\u001b[0mA\u001b[0m\u001b[1;33m,\u001b[0m\u001b[0mR\u001b[0m\u001b[1;33m,\u001b[0m\u001b[0mPa\u001b[0m\u001b[1;33m,\u001b[0m\u001b[0mDamax\u001b[0m\u001b[1;33m,\u001b[0m\u001b[0mC\u001b[0m\u001b[1;33m,\u001b[0m\u001b[0mPc\u001b[0m\u001b[1;33m,\u001b[0m\u001b[0mDcmin\u001b[0m\u001b[1;33m,\u001b[0m\u001b[0mDcmax\u001b[0m\u001b[1;33m,\u001b[0m\u001b[0mPf\u001b[0m\u001b[1;33m*\u001b[0m\u001b[0mnp\u001b[0m\u001b[1;33m.\u001b[0m\u001b[0mones\u001b[0m\u001b[1;33m(\u001b[0m\u001b[0mlen\u001b[0m\u001b[1;33m(\u001b[0m\u001b[0mDcmin\u001b[0m\u001b[1;33m)\u001b[0m\u001b[1;33m)\u001b[0m\u001b[1;33m,\u001b[0m\u001b[0mPi\u001b[0m\u001b[1;33m,\u001b[0m\u001b[0malpha\u001b[0m\u001b[1;33m)\u001b[0m\u001b[1;33m)\u001b[0m\u001b[1;33m\u001b[0m\u001b[1;33m\u001b[0m\u001b[0m\n\u001b[0m",
      "\u001b[1;32m<ipython-input-5-92ee8e310378>\u001b[0m in \u001b[0;36mAnalyse\u001b[1;34m(nPoints, nConduites, X, Y, Z, A, R, Pa, Damax, C, Pc, Dcmin, Dcmax, Pf, Pi, alpha)\u001b[0m\n\u001b[0;32m     41\u001b[0m                                                                                        \u001b[1;31m# nombre de conduites)\u001b[0m\u001b[1;33m\u001b[0m\u001b[1;33m\u001b[0m\u001b[1;33m\u001b[0m\u001b[0m\n\u001b[0;32m     42\u001b[0m     \u001b[0mres\u001b[0m    \u001b[1;33m=\u001b[0m \u001b[0mlinprog\u001b[0m\u001b[1;33m(\u001b[0m\u001b[0mc\u001b[0m\u001b[1;33m,\u001b[0m \u001b[0mA_ub\u001b[0m \u001b[1;33m=\u001b[0m \u001b[0mAub\u001b[0m\u001b[1;33m,\u001b[0m \u001b[0mb_ub\u001b[0m \u001b[1;33m=\u001b[0m \u001b[0mb\u001b[0m\u001b[1;33m,\u001b[0m\u001b[0mA_eq\u001b[0m\u001b[1;33m=\u001b[0m\u001b[0mAeq\u001b[0m\u001b[1;33m,\u001b[0m \u001b[0mb_eq\u001b[0m\u001b[1;33m=\u001b[0m\u001b[0mbeq\u001b[0m\u001b[1;33m,\u001b[0m\u001b[0mbounds\u001b[0m\u001b[1;33m=\u001b[0m\u001b[0mbounds\u001b[0m\u001b[1;33m,\u001b[0m\u001b[0moptions\u001b[0m\u001b[1;33m=\u001b[0m\u001b[1;33m{\u001b[0m\u001b[1;34m'tol'\u001b[0m\u001b[1;33m:\u001b[0m \u001b[1;36m1e-8\u001b[0m\u001b[1;33m}\u001b[0m\u001b[1;33m)\u001b[0m\u001b[1;33m\u001b[0m\u001b[1;33m\u001b[0m\u001b[0m\n\u001b[1;32m---> 43\u001b[1;33m     \u001b[0mDebC\u001b[0m\u001b[1;33m=\u001b[0m\u001b[1;33m(\u001b[0m\u001b[0mA2\u001b[0m\u001b[1;33m*\u001b[0m\u001b[0malpha\u001b[0m\u001b[1;33m*\u001b[0m\u001b[0mR\u001b[0m\u001b[1;33m*\u001b[0m\u001b[0mR\u001b[0m\u001b[1;33m*\u001b[0m\u001b[0mh\u001b[0m\u001b[1;33m/\u001b[0m\u001b[0mL\u001b[0m\u001b[1;33m)\u001b[0m\u001b[1;33m@\u001b[0m\u001b[0mres\u001b[0m\u001b[1;33m.\u001b[0m\u001b[0mx\u001b[0m\u001b[1;33m\u001b[0m\u001b[1;33m\u001b[0m\u001b[0m\n\u001b[0m\u001b[0;32m     44\u001b[0m     \u001b[0mA4\u001b[0m\u001b[1;33m=\u001b[0m\u001b[0mA\u001b[0m\u001b[1;33m[\u001b[0m\u001b[0mPa\u001b[0m\u001b[1;33m-\u001b[0m\u001b[1;36m1\u001b[0m\u001b[1;33m]\u001b[0m\u001b[1;33m\u001b[0m\u001b[1;33m\u001b[0m\u001b[0m\n\u001b[0;32m     45\u001b[0m     \u001b[0mDebA\u001b[0m\u001b[1;33m=\u001b[0m\u001b[1;33m(\u001b[0m\u001b[0mA4\u001b[0m\u001b[1;33m*\u001b[0m\u001b[0malpha\u001b[0m\u001b[1;33m*\u001b[0m\u001b[0mR\u001b[0m\u001b[1;33m*\u001b[0m\u001b[0mR\u001b[0m\u001b[1;33m*\u001b[0m\u001b[0mh\u001b[0m\u001b[1;33m/\u001b[0m\u001b[0mL\u001b[0m\u001b[1;33m)\u001b[0m\u001b[1;33m@\u001b[0m\u001b[0mres\u001b[0m\u001b[1;33m.\u001b[0m\u001b[0mx\u001b[0m\u001b[1;33m\u001b[0m\u001b[1;33m\u001b[0m\u001b[0m\n",
      "\u001b[1;31mValueError\u001b[0m: Scalar operands are not allowed, use '*' instead"
     ]
    }
   ],
   "source": [
    "(nPoints,nConduites,X,Y,Z,A, alpha,R,Pa,Damax,C,Pc,Dcmin,Dcmax,Pf,Pi, unit)=readFile(\"OurReseau/Tiny.txt\")\n",
    "print(Analyse(nPoints,nConduites,X,Y,Z,A,R,Pa,Damax,C,Pc,Dcmin,Dcmax,Pf*np.ones(len(Dcmin)),Pi,alpha))"
   ]
  },
  {
   "cell_type": "code",
   "execution_count": null,
   "metadata": {},
   "outputs": [],
   "source": []
  },
  {
   "cell_type": "markdown",
   "metadata": {},
   "source": []
  },
  {
   "cell_type": "markdown",
   "metadata": {},
   "source": [
    "# II. Améliorations du réseau"
   ]
  },
  {
   "cell_type": "code",
   "execution_count": 30,
   "metadata": {},
   "outputs": [],
   "source": [
    "def Ameliorations(nPoints,nConduites,X,Y,Z,A, alpha,R,Pa,Damax,C,Pc,Dcmin,Dcmax,Pf,Pi): \n",
    "    h = abs(A.T@Z)      # le denivele de chaque conduite entre le pt de depart et d'arrivee.\n",
    "    x = abs(A.T@X)        # la difference de x de chaque conduite entre le pt de depart et d'arrivee.\n",
    "    y = abs(A.T@Y)        # la difference de y de chaque conduite entre le pt de depart et d'arrivee.\n",
    "    L=np.sqrt(h*h+x*x+y*y)\n",
    "    \n",
    "    Ac=A[Pc-1]#On prend les lignes de la matrice d'incidence relatives aux points de consommation\n",
    "    Aa=A[Pa-1]#On prend les lignes de la matrice d'incidence relatives aux points d'approvisionnement\n",
    "    Ai=A[Pi-1]#On prend les lignes de la matrice d'incidence relatives aux points intermediaires\n",
    "    \n",
    "    debit=alpha*R*R*h/L #Formule de debit max (theta = 1)\n",
    "    \n",
    "    Argent = np.concatenate([Pf,C,Pf/2])\n",
    "    \n",
    "    grandA=np.concatenate([np.concatenate([Ac,Aa,np.zeros((len(Pc),nConduites))],axis=0)*debit,np.concatenate([np.zeros((len(Pc),nConduites)),Aa,Ac],axis=0)*debit],axis=1)\n",
    "    \n",
    "    c=-1*np.matmul(Argent,grandA) # fonction objectif\n",
    "    \n",
    "    A1=np.concatenate([Ac*debit,np.zeros(np.shape(Ac))],axis=1)#Dc<Dcmax et -Dc<-Dcmin\n",
    "    \n",
    "    Atrop=np.concatenate([np.zeros(np.shape(Ac)),Ac*debit],axis=1)#Dctrop<0,25*Dcmax\n",
    "    \n",
    "    Aapp=np.concatenate([-1*Aa*debit,-1*Aa*debit],axis=1)#Da<Damax\n",
    "    \n",
    "    theta = np.concatenate([np.eye(nConduites),np.eye(nConduites)],axis=1)#theta1+theta2<1\n",
    "    Aub   = np.concatenate([A1,-1*A1,Atrop,Aapp,theta]) #Concatenate de la grande matrice Aub\n",
    "    b     = np.concatenate([Dcmax,-1*Dcmin,0.25*Dcmax,Damax,np.ones(nConduites)])#Concatenate du grand vecteur de contraintes\n",
    "    \n",
    "    Aeq   = np.concatenate([Ai*debit,Ai*debit],axis=1) # Di=0\n",
    "    beq   = np.zeros(len(Pi)) # Di=0\n",
    "    Bounds= (0,1)#theta>0\n",
    "    \n",
    "    res   = linprog(c, A_ub = Aub, b_ub = b,A_eq=Aeq, b_eq=beq,bounds=Bounds,options={'tol': 1e-12})#Resolution\n",
    "\n",
    "    theta = res.x[0:nConduites]+res.x[nConduites:2*nConduites]\n",
    "    print(theta)\n",
    "    DebitCok  = (Ac*debit)@res.x[0:nConduites]\n",
    "    print(DebitCok)\n",
    "    DebitCtrop= (Ac*debit)@res.x[nConduites:2*nConduites]\n",
    "    print(DebitCtrop)\n",
    "    DebitC    = (Ac*debit)@theta\n",
    "    DebitA    = (-1*Aa*debit)@theta\n",
    "    DebitI    = (Ai*debit)@theta\n",
    "    fonction  = Pf.T@DebitCok+(Pf/2).T@DebitCtrop-C@DebitA\n",
    "    return (-1*res.fun,DebitC,DebitA,DebitI,fonction)"
   ]
  },
  {
   "cell_type": "code",
   "execution_count": 31,
   "metadata": {},
   "outputs": [
    {
     "name": "stdout",
     "output_type": "stream",
     "text": [
      "[0.84150126 0.21516546 0.98876574 1.         0.82318926 0.27065004\n",
      " 0.         0.59037057 0.         0.         0.66345179 0.\n",
      " 0.         1.         0.12441653 0.76515308 0.         0.\n",
      " 0.         0.         0.16278679 1.         0.         0.\n",
      " 0.10029054 0.         0.33604921 1.         0.33988275 0.\n",
      " 1.         0.1707556  0.         1.         0.44237653 0.\n",
      " 0.         0.05694381 0.        ]\n",
      "[4000.         2000.          646.55586486 3000.          211.58922262]\n",
      "[1000.  500.    0.  750.    0.]\n",
      "(6963.201561231625, array([5000.        , 2500.        ,  646.55586486, 3750.        ,\n",
      "        211.58922262]), array([7108.14508747, 5000.        ]), array([-1.98437937e-14,  4.54747351e-13,  0.00000000e+00, -4.54747351e-13,\n",
      "        0.00000000e+00,  0.00000000e+00,  0.00000000e+00,  0.00000000e+00,\n",
      "        0.00000000e+00,  0.00000000e+00,  2.27373675e-13,  0.00000000e+00,\n",
      "        0.00000000e+00,  1.13686838e-13, -1.73968872e-15,  0.00000000e+00]), 6963.201561231626)\n"
     ]
    }
   ],
   "source": [
    "(nPoints,nConduites,X,Y,Z,A, alpha,R,Pa,Damax,C,Pc,Dcmin,Dcmax,Pf,Pi, unit)=readFile(\"Mini-exemple-avec-solution/Data-mini-exemple-avec-solution.txt\")\n",
    "print(Ameliorations(nPoints,nConduites,X,Y,Z,A, alpha,R,Pa,Damax,C,Pc,Dcmin,Dcmax,Pf*np.ones(len(Dcmin)),Pi))"
   ]
  },
  {
   "cell_type": "code",
   "execution_count": null,
   "metadata": {},
   "outputs": [],
   "source": [
    "def AmeliorationsTour(nPoints,nConduites,X,Y,Z,A, alpha,R,Pa,Damax,C,Pc,Dcmin,Dcmax,Pf,Pi,Cchateau, hmax, Btot): \n",
    "    \"\"\" Calcul de la longueur \"\"\"\n",
    "    h = abs(A.T@Z)        # le denivele de chaque conduite entre le pt de depart et d'arrivee.\n",
    "    x = abs(A.T@X)        # la difference de x de chaque conduite entre le pt de depart et d'arrivee.\n",
    "    y = abs(A.T@Y)        # la difference de y de chaque conduite entre le pt de depart et d'arrivee.\n",
    "    L=np.sqrt(h*h+x*x+y*y)# On suppose que L ne change pas si on construit un chateau d'eau\n",
    "    \n",
    "    \"\"\" Repartition des points \"\"\"\n",
    "    Ac=A[Pc-1]            # On prend les lignes de la matrice d'incidence relatives aux points de consommation\n",
    "    Aa=A[Pa-1]            # On prend les lignes de la matrice d'incidence relatives aux points d'approvisionnement\n",
    "    Ai=A[Pi-1]            # On prend les lignes de la matrice d'incidence relatives aux points intermediaires\n",
    "    \n",
    "    \"\"\" Calcul du debit \"\"\"\n",
    "    debit  = alpha*R*R/L # Formule de debit sans hauteur et sans theta\n",
    "    Argent = np.concatenate([Pf,Pf/2,C,Cchateau])\n",
    "    AFlux1 = np.concatenate([Ac,np.zeros((len(Pc),nConduites)),Aa,np.zeros((len(Pa),nConduites))])\n",
    "    AFlux2 = np.concatenate([np.zeros((len(Pc),nConduites)),Ac,Aa,np.zeros((len(Pa),nConduites))])\n",
    "    AHsup  = np.concatenate([np.zeros((len(Pc)*2+len(Pa),len(Pa))),np.eye(len(Pa))])\n",
    "    grandA = np.concatenate([AFlux1,AFlux2,AHsup],axis=1)\n",
    "    c      = -1*np.matmul(Argent,grandA)#fonction objectif\n",
    "    (benefsans,DebitC,DebitA)=Ameliorations(nPoints,nConduites,X,Y,Z,A, alpha,R,Pa,Damax,C,Pc,Dcmin,Dcmax,Pf,Pi)\n",
    "    A1     = np.concatenate([Ac,np.zeros((len(Ac),len(Ac[0])+len(Pa)))],axis=1)#Dc<Dcmax et -Dc<-Dcmin\n",
    "    Atrop  = np.concatenate([np.zeros((len(Ac),len(Ac[0]))),Ac,np.zeros((len(Ac),len(Pa)))],axis=1)#Dctrop<0,25*Dcmax\n",
    "    Aapp   = np.concatenate([-1*Aa,-1*Aa,np.zeros((len(Aa),len(Pa)))],axis=1)#Da<Damax\n",
    "    flux   = np.concatenate([np.eye(nConduites),np.eye(nConduites),np.zeros((len(Aa),len(Pa)))],axis=1)#flux1+flux2<alpha*R*R*(h+hmax)/L\n",
    "    htour  = np.concatenate([np.zeros((len(Pa),2*nConduites)),np.eye(len(Pa))],axis=1)\n",
    "    hbudget1 = np.zeros((1,len(2*nConduite)))\n",
    "    hbudget2 = Cchateau*np.ones((1,len(Pa)))\n",
    "    hbudget = np.concatenate([hbudget1,hbudget2],axis=1)\n",
    "    Aub    = np.concatenate([A1,-1*A1,Atrop,Aapp,flux,htour,-c,hbudget]) #Concatenate de la grande matrice Aub\n",
    "    b      = np.concatenate([Dcmax,-1*Dcmin,0.25*Dcmax,Damax,alpha*R*R*(h+hmax)/L,np.ones(len(Pa))*hmax,[-benefsans],[Btot]])#Concatenate du grand vecteur de contraintes\n",
    "    Aeq    = np.concatenate([Ai*debit,Ai*debit,np.zeros((len(Pi),len(Pa)))],axis=1)#Di=0\n",
    "    beq    = np.zeros(len(Pi))#Di=0\n",
    "    Bounds = (0,None)#theta>0\n",
    "    res    = linprog(c, A_ub = Aub, b_ub = b,A_eq=Aeq, b_eq=beq,bounds=Bounds,options={'tol': 1e-8})#Resolution\n",
    "    theta=res.x[0:nConduites]+res.x[nConduites:2*nConduites]\n",
    "    DebitCok=(Ac*debit)@res.x[0:nConduites]\n",
    "    DebitCtrop=(Ac*debit)@res.x[nConduites:2*nConduites]\n",
    "    DebitC=(Ac*debit)@theta\n",
    "    DebitA=(-1*Aa*debit)@theta\n",
    "    DebitI=(Ai*debit)@theta\n",
    "    fonction=Pf.T@DebitCok+(Pf/2).T@DebitCtrop-C@DebitA\n",
    "    return (-1*res.fun,DebitC,DebitA,DebitI,fonction)"
   ]
  },
  {
   "cell_type": "code",
   "execution_count": null,
   "metadata": {},
   "outputs": [],
   "source": [
    "(Cchateau, Hmax, Btot, Ccc)=readSecondFile(\"Data-parties2et3.txt\")\n",
    "print(AmeliorationsTour(nPoints,nConduites,X,Y,Z,A, alpha,R,Pa,Damax,C,Pc,Dcmin,Dcmax,Pf*np.ones(len(Pc)),Pi,Cchateau, Hmax, Btot))"
   ]
  },
  {
   "cell_type": "markdown",
   "metadata": {},
   "source": [
    "# III. Conception d'un réseau optimal"
   ]
  }
 ],
 "metadata": {
  "celltoolbar": "Aucun(e)",
  "kernelspec": {
   "display_name": "Python 3",
   "language": "python",
   "name": "python3"
  },
  "language_info": {
   "codemirror_mode": {
    "name": "ipython",
    "version": 3
   },
   "file_extension": ".py",
   "mimetype": "text/x-python",
   "name": "python",
   "nbconvert_exporter": "python",
   "pygments_lexer": "ipython3",
   "version": "3.6.5"
  }
 },
 "nbformat": 4,
 "nbformat_minor": 2
}
