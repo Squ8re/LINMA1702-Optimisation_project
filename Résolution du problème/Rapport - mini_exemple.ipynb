{
 "cells": [
  {
   "cell_type": "markdown",
   "metadata": {},
   "source": [
    "Amadéo David (44761700) - Marine Van Renterghem (31621700) - Sylvie Van Schendel (44841700)"
   ]
  },
  {
   "cell_type": "markdown",
   "metadata": {},
   "source": [
    "# LINMA1702 Optimisation d'un réseau de distribution d'eau"
   ]
  },
  {
   "cell_type": "markdown",
   "metadata": {},
   "source": [
    "## I. Analyse d'un réseau existant"
   ]
  },
  {
   "cell_type": "markdown",
   "metadata": {},
   "source": [
    "### I.1 Que représentent les expressions $A^Th$ et $Af$ ?"
   ]
  },
  {
   "cell_type": "markdown",
   "metadata": {},
   "source": [
    "Soit h le vecteur contenant les hauteurs en chaque point, f le vecteur contenant les débits circulant dans les conduites et A la matrice d'incidence.\n",
    "\n",
    "L'expression $A^Th$ est le vecteur contenant les dénivelés de chaque conduite.\n",
    "\n",
    "L'expression $Af$ est le vecteur contenant les débits nets en chaque point."
   ]
  },
  {
   "cell_type": "markdown",
   "metadata": {},
   "source": [
    "### I.2 "
   ]
  },
  {
   "cell_type": "markdown",
   "metadata": {},
   "source": [
    "### I.4 Résolution numérique du problème I.3 avec les données fournies"
   ]
  },
  {
   "cell_type": "code",
   "execution_count": 3,
   "metadata": {},
   "outputs": [],
   "source": [
    "from scipy.optimize import linprog # import du solveur d'optimisation linéaire à utiliser\n",
    "import matplotlib.pyplot as plt # pour graphiques éventuels\n",
    "import numpy as np"
   ]
  },
  {
   "cell_type": "code",
   "execution_count": 4,
   "metadata": {},
   "outputs": [],
   "source": [
    "def readFile(file_name):\n",
    "    \"\"\"\n",
    "    Cette fonction lit un fichier formatté au type utilise dans les exemples du\n",
    "    projet\n",
    "    @pre                : Le fichier file_name est organise de la meme maniere\n",
    "                          que les exemples donnes sur Moodle.\n",
    "    \n",
    "    @param file_name    : contient un String avec le nom du fichier a lire.\n",
    "    \n",
    "    @return n_points    : Contient un 'int' avec le nombre de points\n",
    "    @return n_conduites : Contient un 'int' avec le nombre de conduites\n",
    "    @return X           : Contient un 'numpy.array' avec les abscisses des points.\n",
    "    @return Y           : Contient un 'numpy.array' avec les ordonnees des points.\n",
    "    @return Z           : Contient un 'numpy.array' avec la hauteur des points.\n",
    "    @return A           : Contient un 'numpy.array' avec la matrice d'incidence\n",
    "                          des conduites.\n",
    "    @return alpha       : Contient un 'float' avecla valeur de alpha.\n",
    "    @return R           : Contient un 'float' avec le rayon des conduites.\n",
    "    @return pa          : Contient un 'numpy.array' avec les points\n",
    "                          d'approvisionnement.\n",
    "    @return da_max      : Contient un 'numpy.array' avec les debits maximaux\n",
    "                          extractibles.\n",
    "    @return C           : Contient un 'numpy.array' avec les couts d'extraction.\n",
    "    @return pc          : Contient un 'numpy.array' avec les points de\n",
    "                          consommation.\n",
    "    @return dc_min      : Contient un 'numpy.array' avec les debits minimaux\n",
    "                          consommables.\n",
    "    @return dc_max      : Contient un 'numpy.array' avec les debits maximaux\n",
    "                          consommables.\n",
    "    @return Pf          : Contient un 'float' avec le prix facture.\n",
    "    @return pi          : Contient un 'numpy.array' avec les points\n",
    "                          intermediaires.\n",
    "    @return unit        : Contient un 'String' avec l'unite des coordonnes des\n",
    "                          points.\n",
    "    \"\"\"\n",
    "    with open(file_name,'r') as f:\n",
    "        n_points    = (int)(f.readline().split()[0])\n",
    "        n_conduites = (int)(f.readline().split()[0])\n",
    "        f.readline()\n",
    "        unit        = (f.readline().split(\" = \")[1])\n",
    "        \n",
    "        coord       = np.array(list(list(float(w) for w in f.readline().split()[:]) for i in range(n_points)))\n",
    "        X           = coord[:,0]\n",
    "        Y           = coord[:,1]\n",
    "        Z           = coord[:,2]\n",
    "        \n",
    "        f.readline()\n",
    "        f.readline()\n",
    "        A           = np.array(list(list(float(w) for w in f.readline().split()[:]) for i in range(n_points)))\n",
    "        f.readline()\n",
    "        \n",
    "        UL_alpha    = f.readline().split(\" = \")[1]\n",
    "        UL_alpha    = UL_alpha.split()[0]\n",
    "        UL2_alpha   = np.array(UL_alpha.split(\"^\"))\n",
    "        if(len(UL2_alpha) == 1):\n",
    "            alpha   = (float)(UL2_alpha)\n",
    "        else:\n",
    "            alpha   = (float)(UL2_alpha[0]) ** (float)(UL2_alpha[1])\n",
    "        \n",
    "        R           = (float)(f.readline().split()[4])\n",
    "        f.readline()\n",
    "        \n",
    "        UL_pa       = f.readline().split(\" = [\")[1]\n",
    "        UL_pa       = UL_pa.split(\"]\")[0]\n",
    "        pa          = np.array(list(int(w) for w in UL_pa.split()[:]))\n",
    "        \n",
    "        UL_da_max   = f.readline().split(\" = [\")[1]\n",
    "        UL_da_max   = UL_da_max.split(\"]\")[0]\n",
    "        da_max      = np.array(list(float(w) for w in UL_da_max.split()[:]))\n",
    "        \n",
    "        UL_C        = f.readline().split(\" = [\")[1]\n",
    "        UL_C        = UL_C.split(\"]\")[0]\n",
    "        C           = np.array(list(float(w) for w in UL_C.split()[:]))\n",
    "        \n",
    "        f.readline()\n",
    "        \n",
    "        UL_pc       = f.readline().split(\" = [\")[1]\n",
    "        UL_pc       = UL_pc.split(\"]\")[0]\n",
    "        pc          = np.array(list(int(w) for w in UL_pc.split()[:]))\n",
    "        \n",
    "        UL_dc_min   = f.readline().split(\" = [\")[1]\n",
    "        UL_dc_min   = UL_dc_min.split(\"]\")[0]\n",
    "        dc_min      = np.array(list(float(w) for w in UL_dc_min.split()[:]))\n",
    "        \n",
    "        UL_dc_max   = f.readline().split(\" = [\")[1]\n",
    "        UL_dc_max   = UL_dc_max.split(\"]\")[0]\n",
    "        dc_max      = np.array(list(float(w) for w in UL_dc_max.split()[:]))\n",
    "        \n",
    "        Pf          = (float)(f.readline().split()[3])\n",
    "        \n",
    "        f.readline()\n",
    "        \n",
    "        UL_pi       = f.readline().split(\"[\")[1]\n",
    "        UL_pi       = UL_pi.split(\"]\")[0]\n",
    "        pi          = np.array(list(int(w) for w in UL_pi.split()[:]))\n",
    "        \n",
    "    return (n_points, n_conduites, X, Y, Z, A, alpha, R, pa, da_max, C, pc, dc_min, dc_max, Pf, pi, unit)"
   ]
  },
  {
   "cell_type": "code",
   "execution_count": 5,
   "metadata": {},
   "outputs": [],
   "source": [
    "def readSecondFile(filename):\n",
    "    \"\"\"\n",
    "    Cette fonction permet de récupérer les données stockées dans le fichier 'partie2'\n",
    "    @pre : filename est un String pointant vers un fichier.\n",
    "    @pre : le fichier 'filename' est formaté correctement.\n",
    "    @pre : le cout de construction d'un chateau d'eau est exprime en millions.\n",
    "    \n",
    "    @return :\n",
    "    \"\"\"\n",
    "    with open(file_name,'r') as f:\n",
    "        f.readline()\n",
    "        f.readline()\n",
    "        Cchateau = (float)(f.readline().split()[6])\n",
    "        Hmax     = (float)(f.readline().split()[6])\n",
    "        Btot     = (float)(f.readline().split()[7])"
   ]
  },
  {
   "cell_type": "code",
   "execution_count": 212,
   "metadata": {},
   "outputs": [],
   "source": [
    "#Fonction retournant [f,xC,xA] avec f la valeur de la fonction objectif maximale \n",
    "#xC un vecteur des valeurs optimales des débits aux points de consommation\n",
    "#xA un vecteur des valeurs optimales des débits aux points d'approvisionnement\n",
    "#Soit Pf le prix facturé\n",
    "#Soit C le cout\n",
    "#Soit DCmin et DCmax les valeurs minimales et maximales du débit aux points de consommation\n",
    "#Soit DAmax les valeurs maximales du débit extractibles aux sources\n",
    "def Analyse(nPoints,nConduites,X,Y,Z,A,R,Pa,Damax,C,Pc,Dcmin,Dcmax,Pf,Pi,alpha):\n",
    "   \n",
    "    h = abs(A.T@Z)      # le denivele de chaque conduite entre le pt de depart et d'arrivee.\n",
    "    x=abs(A.T@X)        # la difference de x de chaque conduite entre le pt de depart et d'arrivee.\n",
    "    y=abs(A.T@Z)        # la difference de y de chaque conduite entre le pt de depart et d'arrivee.\n",
    "    L=np.sqrt(h*h+x*x+y*y)       \n",
    "    \n",
    "    A1     = np.concatenate((A[np.array(Pc)-1],-1* A[np.array(Pa)-1]))   # Tous les debits positifs\n",
    "    A3     = np.concatenate((A[np.array(Pc)-1], A[np.array(Pa)-1]))      # On laisse les debits aux points d'approvisionnement \n",
    "                                                                         # negatifs\n",
    "    DebMax = alpha*R*R*h/L*A1   # Debit max, juste sur les points pas \n",
    "                                                                         # intermediaires\n",
    "    \n",
    "    A2     = A[Pc-1]                                           # Uniquement les points de consommation.\n",
    "    DebMin = -1*alpha*R*R*h/L*A2 # Debit min\n",
    "    \n",
    "    #Sum    = np.sum(np.multiply(np.outer(np.ones(len(A1)),alpha*R*R*h/L),A3), axis=0)    \n",
    "    #Aub    = np.concatenate((np.concatenate((DebMax,DebMin)),np.reshape(Sum, (1,np.shape(DebMax)[1]))))\n",
    "    Aub = np.concatenate((DebMax,DebMin))\n",
    "    Argent = np.concatenate((Pf,C))\n",
    "    Eye=np.eye(len(Argent))*Argent\n",
    "    c=-1*np.matmul(Argent,A3)*(alpha*R*R*h/L)    \n",
    "    A5=A[np.array(Pi)-1] #On ne prend que les points \n",
    "    Aeq=A5*alpha*R*R*h/L #Points intemédiaires ont un débit resultant nul\n",
    "    beq=np.zeros(len(Pi))\n",
    "    #c=np.sum(alpha*R*R*h/L*A3*np.outer(np.concatenate((Pf,C)),np.ones(len(A3[0]))),axis=0)\n",
    "    \n",
    "    #b      = np.concatenate((np.concatenate((Dcmax,np.array(Damax))),np.concatenate((-1*np.array(Dcmin),[0]))))\n",
    "    b      = np.concatenate((np.concatenate((Dcmax, Damax)), -1*Dcmin))\n",
    "    \n",
    "    bounds = np.concatenate((np.zeros((nConduites,1)),np.ones((nConduites,1))),axis=1) # limites (vecteur de (0,1) sur le\n",
    "                                                                                       # nombre de conduites)\n",
    "    res    = linprog(c, A_ub = Aub, b_ub = b,A_eq=Aeq, b_eq=beq,bounds=bounds,options={'tol': 1e-8})\n",
    "    DebC=(A2*alpha*R*R*h/L)@res.x\n",
    "    A4=A[Pa-1]\n",
    "    DebA=(A4*alpha*R*R*h/L)@res.x\n",
    "    Prix=Pf.T@DebC\n",
    "    Couts=C.T@DebA\n",
    "    \n",
    "    return (-1*res.fun,DebC,DebA,Prix,Couts)#modifier le return"
   ]
  },
  {
   "cell_type": "code",
   "execution_count": 213,
   "metadata": {
    "scrolled": false
   },
   "outputs": [
    {
     "name": "stdout",
     "output_type": "stream",
     "text": [
      "(6509.864002862834, array([4000.        , 2000.        ,  646.55572972, 3000.        ,\n",
      "        224.67856009]), array([-5871.2342898, -4000.       ]), 8884.110860823643, -2374.2468579608094)\n"
     ]
    }
   ],
   "source": [
    "(nPoints,nConduites,X,Y,Z,A, alpha,R,Pa,Damax,C,Pc,Dcmin,Dcmax,Pf,Pi, unit)=readFile(\"Mini-exemple-avec-solution/Data-mini-exemple-avec-solution.txt\")\n",
    "print(Analyse(nPoints,nConduites,X,Y,Z,A,R,Pa,Damax,C,Pc,Dcmin,Dcmax,Pf*np.ones(len(Dcmin)),Pi,alpha))"
   ]
  },
  {
   "cell_type": "markdown",
   "metadata": {},
   "source": [
    "### A = np.array([1, 2, 3])\n",
    "print(A*-1)"
   ]
  },
  {
   "cell_type": "markdown",
   "metadata": {},
   "source": [
    "# II. Améliorations du réseau"
   ]
  },
  {
   "cell_type": "markdown",
   "metadata": {},
   "source": [
    "# III. Conception d'un réseau optimal"
   ]
  }
 ],
 "metadata": {
  "kernelspec": {
   "display_name": "Python 3",
   "language": "python",
   "name": "python3"
  },
  "language_info": {
   "codemirror_mode": {
    "name": "ipython",
    "version": 3
   },
   "file_extension": ".py",
   "mimetype": "text/x-python",
   "name": "python",
   "nbconvert_exporter": "python",
   "pygments_lexer": "ipython3",
   "version": "3.6.5"
  }
 },
 "nbformat": 4,
 "nbformat_minor": 2
}
