{
 "cells": [
  {
   "cell_type": "markdown",
   "metadata": {},
   "source": [
    "Amadéo David (44761700) - Marine Van Renterghem (31621700) - Sylvie Van Schendel (44841700)"
   ]
  },
  {
   "cell_type": "markdown",
   "metadata": {},
   "source": [
    "# LINMA1702 Optimisation d'un réseau de distribution d'eau"
   ]
  },
  {
   "cell_type": "markdown",
   "metadata": {},
   "source": [
    "## I. Analyse d'un réseau existant"
   ]
  },
  {
   "cell_type": "markdown",
   "metadata": {},
   "source": [
    "### I.1 Que représentent les expressions $A^Th$ et $Af$ ?"
   ]
  },
  {
   "cell_type": "markdown",
   "metadata": {},
   "source": [
    "Soit h le vecteur contenant les hauteurs en chaque point, f le vecteur contenant les débits circulant dans les conduites et A la matrice d'incidence.\n",
    "\n",
    "L'expression $A^Th$ est le vecteur contenant les dénivelés de chaque conduite.\n",
    "\n",
    "L'expression $Af$ est le vecteur contenant les débits nets en chaque point."
   ]
  },
  {
   "cell_type": "markdown",
   "metadata": {},
   "source": [
    "### I.2 "
   ]
  },
  {
   "cell_type": "markdown",
   "metadata": {},
   "source": [
    "### I.4 Résolution numérique du problème I.3 avec les données fournies"
   ]
  },
  {
   "cell_type": "code",
   "execution_count": 4,
   "metadata": {},
   "outputs": [],
   "source": [
    "from scipy.optimize import linprog # import du solveur d'optimisation linéaire à utiliser\n",
    "import matplotlib.pyplot as plt # pour graphiques éventuels\n",
    "import numpy as np"
   ]
  },
  {
   "cell_type": "code",
   "execution_count": null,
   "metadata": {},
   "outputs": [],
   "source": []
  },
  {
   "cell_type": "code",
   "execution_count": 5,
   "metadata": {},
   "outputs": [],
   "source": [
    "#Fonction retournant [f,xC,xA] avec f la valeur de la fonction objectif maximale \n",
    "#xC un vecteur des valeurs optimales des débits aux points de consommation\n",
    "#xA un vecteur des valeurs optimales des débits aux points d'approvisionnement\n",
    "#Soit Pf le prix facturé\n",
    "#Soit C le cout\n",
    "#Soit DCmin et DCmax les valeurs minimales et maximales du débit aux points de consommation\n",
    "#Soit DAmax les valeurs maximales du débit extractibles aux sources\n",
    "def Analyse(C,Pf,Dcmin,Dcmax,Damax):\n",
    "    c  = -1 * np.concatenate((C,Pf))                     # On traite un problème de maximisation\n",
    "    Pc_bounds = (Dcmin, Dcmax)\n",
    "    Pa_bounds=(0,Damax)\n",
    "    #A1 = np.eye(len(Dcmin)+len(Damax))\n",
    "    #A2 = -1 * np.eye(len(Dcmin))                         # Matrice identite\n",
    "    #A2Add = np.zeros((len(Dcmin),len(Damax)))            # Matrice de 0\n",
    "    #A2 = np.concatenate((A2,A2Add),axis=1)               # Ajout de 0 a la fin de la matrice\n",
    "    #A  = np.concatenate((A1,A2))\n",
    "    A3 = np.ones((1,len(Dcmin)+len(Damax)))\n",
    "    #A3[0,len(Dcmin):(len(Dcmin)+len(Damax))]*=-1\n",
    "    #A  = np.concatenate((A,A3))\n",
    "    #b  = np.concatenate((np.concatenate((Dcmax,Damax)),np.concatenate((-1*np.array(Dcmin),[0]))))\n",
    "    b=[0]\n",
    "    res= linprog(c, A_ub = A3, b_ub = b, bounds=(Pc_bounds, Pa_bounds))\n",
    "    \n",
    "    return [res.fun, res.x[0:len(Dcmin)],res.x[len(Dcmin):len(Dcmin)+len(Damax)]]"
   ]
  },
  {
   "cell_type": "code",
   "execution_count": null,
   "metadata": {},
   "outputs": [],
   "source": []
  },
  {
   "cell_type": "code",
   "execution_count": null,
   "metadata": {},
   "outputs": [],
   "source": []
  },
  {
   "cell_type": "code",
   "execution_count": 6,
   "metadata": {},
   "outputs": [],
   "source": [
    "def readFile(fileName): \n",
    "    with open(fileName,\"r\") as f :\n",
    "        nPoints = int(f.readline().split()[0])\n",
    "        nConduites=int(f.readline().split()[0])\n",
    "        f.readline()\n",
    "        f.readline()\n",
    "        xyz   = np.array(list(list(float(w) for w in f.readline().split()[:]) for i in range(nPoints)))\n",
    "        f.readline()\n",
    "        f.readline()\n",
    "        A = np.array(list(list(float(w) for w in f.readline().split()[:]) for i in range(nPoints)))\n",
    "        alpha=10**6\n",
    "        R=1\n",
    "        Pa=[2, 6]\n",
    "        Damax=[10000, 5000]\n",
    "        C= [0.2, 0.3]\n",
    "        Pc=[1, 4, 10, 20, 23]\n",
    "        Dcmin=[200, 200, 200, 200, 200]\n",
    "        Dcmax=[4000, 2000, 2000, 3000, 2000]\n",
    "        Pf=0.9\n",
    "        Pi=[3, 5, 7, 8, 9, 11, 12 ,13, 14, 15, 16, 17, 18, 19, 21, 22]\n",
    "        X = xyz[:,0]\n",
    "        Y = xyz[:,1]\n",
    "        Z = xyz[:,2]\n",
    "        \n",
    "    return [nPoints,nConduites,X,Y,Z,A,R,Pa,Damax,C,Pc,Dcmin,Dcmax,Pf,Pi,alpha]\n",
    "    "
   ]
  },
  {
   "cell_type": "code",
   "execution_count": null,
   "metadata": {},
   "outputs": [],
   "source": []
  },
  {
   "cell_type": "code",
   "execution_count": 7,
   "metadata": {
    "scrolled": false
   },
   "outputs": [
    {
     "ename": "ValueError",
     "evalue": "Invalid input for linprog with method = 'simplex'.  Length of bounds is inconsistent with the length of c",
     "output_type": "error",
     "traceback": [
      "\u001b[1;31m---------------------------------------------------------------------------\u001b[0m",
      "\u001b[1;31mValueError\u001b[0m                                Traceback (most recent call last)",
      "\u001b[1;32m<ipython-input-7-359dc4969eb1>\u001b[0m in \u001b[0;36m<module>\u001b[1;34m()\u001b[0m\n\u001b[0;32m      1\u001b[0m \u001b[1;33m[\u001b[0m\u001b[0mnPoints\u001b[0m\u001b[1;33m,\u001b[0m\u001b[0mnConduites\u001b[0m\u001b[1;33m,\u001b[0m\u001b[0mX\u001b[0m\u001b[1;33m,\u001b[0m\u001b[0mY\u001b[0m\u001b[1;33m,\u001b[0m\u001b[0mZ\u001b[0m\u001b[1;33m,\u001b[0m\u001b[0mA\u001b[0m\u001b[1;33m,\u001b[0m\u001b[0mR\u001b[0m\u001b[1;33m,\u001b[0m\u001b[0mPa\u001b[0m\u001b[1;33m,\u001b[0m\u001b[0mDamax\u001b[0m\u001b[1;33m,\u001b[0m\u001b[0mC\u001b[0m\u001b[1;33m,\u001b[0m\u001b[0mPc\u001b[0m\u001b[1;33m,\u001b[0m\u001b[0mDcmin\u001b[0m\u001b[1;33m,\u001b[0m\u001b[0mDcmax\u001b[0m\u001b[1;33m,\u001b[0m\u001b[0mPf\u001b[0m\u001b[1;33m,\u001b[0m\u001b[0mPi\u001b[0m\u001b[1;33m,\u001b[0m\u001b[0malpha\u001b[0m\u001b[1;33m]\u001b[0m\u001b[1;33m=\u001b[0m\u001b[0mreadFile\u001b[0m\u001b[1;33m(\u001b[0m\u001b[1;34m\"Mini-exemple-avec-solution/Data-mini-exemple-avec-solution.txt\"\u001b[0m\u001b[1;33m)\u001b[0m\u001b[1;33m\u001b[0m\u001b[0m\n\u001b[1;32m----> 2\u001b[1;33m \u001b[0mprint\u001b[0m\u001b[1;33m(\u001b[0m\u001b[0mAnalyse\u001b[0m\u001b[1;33m(\u001b[0m\u001b[0mC\u001b[0m\u001b[1;33m,\u001b[0m\u001b[0mPf\u001b[0m\u001b[1;33m*\u001b[0m\u001b[0mnp\u001b[0m\u001b[1;33m.\u001b[0m\u001b[0mones\u001b[0m\u001b[1;33m(\u001b[0m\u001b[0mlen\u001b[0m\u001b[1;33m(\u001b[0m\u001b[0mDcmin\u001b[0m\u001b[1;33m)\u001b[0m\u001b[1;33m)\u001b[0m\u001b[1;33m,\u001b[0m\u001b[0mDcmin\u001b[0m\u001b[1;33m,\u001b[0m\u001b[0mDcmax\u001b[0m\u001b[1;33m,\u001b[0m\u001b[0mDamax\u001b[0m\u001b[1;33m)\u001b[0m\u001b[1;33m)\u001b[0m\u001b[1;33m\u001b[0m\u001b[0m\n\u001b[0m",
      "\u001b[1;32m<ipython-input-5-514614c380b9>\u001b[0m in \u001b[0;36mAnalyse\u001b[1;34m(C, Pf, Dcmin, Dcmax, Damax)\u001b[0m\n\u001b[0;32m     20\u001b[0m     \u001b[1;31m#b  = np.concatenate((np.concatenate((Dcmax,Damax)),np.concatenate((-1*np.array(Dcmin),[0]))))\u001b[0m\u001b[1;33m\u001b[0m\u001b[1;33m\u001b[0m\u001b[0m\n\u001b[0;32m     21\u001b[0m     \u001b[0mb\u001b[0m\u001b[1;33m=\u001b[0m\u001b[1;33m[\u001b[0m\u001b[1;36m0\u001b[0m\u001b[1;33m]\u001b[0m\u001b[1;33m\u001b[0m\u001b[0m\n\u001b[1;32m---> 22\u001b[1;33m     \u001b[0mres\u001b[0m\u001b[1;33m=\u001b[0m \u001b[0mlinprog\u001b[0m\u001b[1;33m(\u001b[0m\u001b[0mc\u001b[0m\u001b[1;33m,\u001b[0m \u001b[0mA_ub\u001b[0m \u001b[1;33m=\u001b[0m \u001b[0mA3\u001b[0m\u001b[1;33m,\u001b[0m \u001b[0mb_ub\u001b[0m \u001b[1;33m=\u001b[0m \u001b[0mb\u001b[0m\u001b[1;33m,\u001b[0m \u001b[0mbounds\u001b[0m\u001b[1;33m=\u001b[0m\u001b[1;33m(\u001b[0m\u001b[0mPc_bounds\u001b[0m\u001b[1;33m,\u001b[0m \u001b[0mPa_bounds\u001b[0m\u001b[1;33m)\u001b[0m\u001b[1;33m)\u001b[0m\u001b[1;33m\u001b[0m\u001b[0m\n\u001b[0m\u001b[0;32m     23\u001b[0m \u001b[1;33m\u001b[0m\u001b[0m\n\u001b[0;32m     24\u001b[0m     \u001b[1;32mreturn\u001b[0m \u001b[1;33m[\u001b[0m\u001b[0mres\u001b[0m\u001b[1;33m.\u001b[0m\u001b[0mfun\u001b[0m\u001b[1;33m,\u001b[0m \u001b[0mres\u001b[0m\u001b[1;33m.\u001b[0m\u001b[0mx\u001b[0m\u001b[1;33m[\u001b[0m\u001b[1;36m0\u001b[0m\u001b[1;33m:\u001b[0m\u001b[0mlen\u001b[0m\u001b[1;33m(\u001b[0m\u001b[0mDcmin\u001b[0m\u001b[1;33m)\u001b[0m\u001b[1;33m]\u001b[0m\u001b[1;33m,\u001b[0m\u001b[0mres\u001b[0m\u001b[1;33m.\u001b[0m\u001b[0mx\u001b[0m\u001b[1;33m[\u001b[0m\u001b[0mlen\u001b[0m\u001b[1;33m(\u001b[0m\u001b[0mDcmin\u001b[0m\u001b[1;33m)\u001b[0m\u001b[1;33m:\u001b[0m\u001b[0mlen\u001b[0m\u001b[1;33m(\u001b[0m\u001b[0mDcmin\u001b[0m\u001b[1;33m)\u001b[0m\u001b[1;33m+\u001b[0m\u001b[0mlen\u001b[0m\u001b[1;33m(\u001b[0m\u001b[0mDamax\u001b[0m\u001b[1;33m)\u001b[0m\u001b[1;33m]\u001b[0m\u001b[1;33m]\u001b[0m\u001b[1;33m\u001b[0m\u001b[0m\n",
      "\u001b[1;32m~\\Anaconda3\\lib\\site-packages\\scipy\\optimize\\_linprog.py\u001b[0m in \u001b[0;36mlinprog\u001b[1;34m(c, A_ub, b_ub, A_eq, b_eq, bounds, method, callback, options)\u001b[0m\n\u001b[0;32m   1041\u001b[0m     \u001b[1;32mif\u001b[0m \u001b[0mmeth\u001b[0m \u001b[1;33m==\u001b[0m \u001b[1;34m'simplex'\u001b[0m\u001b[1;33m:\u001b[0m\u001b[1;33m\u001b[0m\u001b[0m\n\u001b[0;32m   1042\u001b[0m         return _linprog_simplex(c, A_ub=A_ub, b_ub=b_ub, A_eq=A_eq, b_eq=b_eq,\n\u001b[1;32m-> 1043\u001b[1;33m                                 bounds=bounds, callback=callback, **options)\n\u001b[0m\u001b[0;32m   1044\u001b[0m     \u001b[1;32melif\u001b[0m \u001b[0mmeth\u001b[0m \u001b[1;33m==\u001b[0m \u001b[1;34m'interior-point'\u001b[0m\u001b[1;33m:\u001b[0m\u001b[1;33m\u001b[0m\u001b[0m\n\u001b[0;32m   1045\u001b[0m         return _linprog_ip(c, A_ub=A_ub, b_ub=b_ub, A_eq=A_eq, b_eq=b_eq,\n",
      "\u001b[1;32m~\\Anaconda3\\lib\\site-packages\\scipy\\optimize\\_linprog.py\u001b[0m in \u001b[0;36m_linprog_simplex\u001b[1;34m(c, A_ub, b_ub, A_eq, b_eq, bounds, maxiter, disp, callback, tol, bland, **unknown_options)\u001b[0m\n\u001b[0;32m    724\u001b[0m     \u001b[1;32mif\u001b[0m \u001b[0mstatus\u001b[0m \u001b[1;33m!=\u001b[0m \u001b[1;36m0\u001b[0m\u001b[1;33m:\u001b[0m\u001b[1;33m\u001b[0m\u001b[0m\n\u001b[0;32m    725\u001b[0m         \u001b[1;31m# Invalid inputs provided\u001b[0m\u001b[1;33m\u001b[0m\u001b[1;33m\u001b[0m\u001b[0m\n\u001b[1;32m--> 726\u001b[1;33m         \u001b[1;32mraise\u001b[0m \u001b[0mValueError\u001b[0m\u001b[1;33m(\u001b[0m\u001b[0mmessage\u001b[0m\u001b[1;33m)\u001b[0m\u001b[1;33m\u001b[0m\u001b[0m\n\u001b[0m\u001b[0;32m    727\u001b[0m \u001b[1;33m\u001b[0m\u001b[0m\n\u001b[0;32m    728\u001b[0m     \u001b[1;31m# Create the tableau\u001b[0m\u001b[1;33m\u001b[0m\u001b[1;33m\u001b[0m\u001b[0m\n",
      "\u001b[1;31mValueError\u001b[0m: Invalid input for linprog with method = 'simplex'.  Length of bounds is inconsistent with the length of c"
     ]
    }
   ],
   "source": [
    "[nPoints,nConduites,X,Y,Z,A,R,Pa,Damax,C,Pc,Dcmin,Dcmax,Pf,Pi,alpha]=readFile(\"Mini-exemple-avec-solution/Data-mini-exemple-avec-solution.txt\")\n",
    "print(Analyse(C,Pf*np.ones(len(Dcmin)),Dcmin,Dcmax,Damax))"
   ]
  },
  {
   "cell_type": "code",
   "execution_count": null,
   "metadata": {},
   "outputs": [],
   "source": []
  },
  {
   "cell_type": "markdown",
   "metadata": {},
   "source": [
    "# II. Améliorations du réseau"
   ]
  },
  {
   "cell_type": "markdown",
   "metadata": {},
   "source": [
    "# III. Conception d'un réseau optimal"
   ]
  }
 ],
 "metadata": {
  "kernelspec": {
   "display_name": "Python 3",
   "language": "python",
   "name": "python3"
  },
  "language_info": {
   "codemirror_mode": {
    "name": "ipython",
    "version": 3
   },
   "file_extension": ".py",
   "mimetype": "text/x-python",
   "name": "python",
   "nbconvert_exporter": "python",
   "pygments_lexer": "ipython3",
   "version": "3.6.5"
  }
 },
 "nbformat": 4,
 "nbformat_minor": 2
}
