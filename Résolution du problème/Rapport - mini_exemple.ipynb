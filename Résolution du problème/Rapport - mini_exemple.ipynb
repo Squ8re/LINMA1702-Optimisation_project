{
 "cells": [
  {
   "cell_type": "markdown",
   "metadata": {},
   "source": [
    "Amadéo David (44761700) - Marine Van Renterghem (31621700) - Sylvie Van Schendel (44841700)"
   ]
  },
  {
   "cell_type": "markdown",
   "metadata": {},
   "source": [
    "# LINMA1702 Optimisation d'un réseau de distribution d'eau"
   ]
  },
  {
   "cell_type": "markdown",
   "metadata": {},
   "source": [
    "## I. Analyse d'un réseau existant"
   ]
  },
  {
   "cell_type": "markdown",
   "metadata": {},
   "source": [
    "### I.1 Que représentent les expressions $A^Th$ et $Af$ ?"
   ]
  },
  {
   "cell_type": "markdown",
   "metadata": {},
   "source": [
    "Soit h le vecteur contenant les hauteurs en chaque point, f le vecteur contenant les débits circulant dans les conduites et A la matrice d'incidence.\n",
    "\n",
    "L'expression $A^Th$ est le vecteur contenant les dénivelés de chaque conduite.\n",
    "\n",
    "L'expression $Af$ est le vecteur contenant les débits nets en chaque point."
   ]
  },
  {
   "cell_type": "markdown",
   "metadata": {},
   "source": [
    "### I.2 "
   ]
  },
  {
   "cell_type": "markdown",
   "metadata": {},
   "source": [
    "### I.4 Résolution numérique du problème I.3 avec les données fournies"
   ]
  },
  {
   "cell_type": "code",
   "execution_count": 1,
   "metadata": {},
   "outputs": [],
   "source": [
    "from scipy.optimize import linprog # import du solveur d'optimisation linéaire à utiliser\n",
    "import matplotlib.pyplot as plt # pour graphiques éventuels\n",
    "import numpy as np"
   ]
  },
  {
   "cell_type": "code",
   "execution_count": 20,
   "metadata": {},
   "outputs": [],
   "source": [
    "#Fonction retournant [f,xC,xA] avec f la valeur de la fonction objectif maximale \n",
    "#xC un vecteur des valeurs optimales des débits aux points de consommation\n",
    "#xA un vecteur des valeurs optimales des débits aux points d'approvisionnement\n",
    "#Soit Pf le prix facturé\n",
    "#Soit C le cout\n",
    "#Soit DCmin et DCmax les valeurs minimales et maximales du débit aux points de consommation\n",
    "#Soit DAmax les valeurs maximales du débit extractibles aux sources\n",
    "def Analyse(nPoints,nConduites,X,Y,Z,A,R,Pa,Damax,C,Pc,Dcmin,Dcmax,Pf,Pi,alpha):\n",
    "    \"\"\"\n",
    "    Analyse renvoie un vecteur retournant, dans l'ordre :\n",
    "        ° la valeur de la fonction objectif maximale;\n",
    "        ° un vecteur des valeurs optimales des débits aux points de consommation;\n",
    "        ° un vecteur des valeurs optimales des débits aux points d'approvisionnement.\n",
    "        \n",
    "    \"\"\"\n",
    "    L=np.zeros(nConduites)\n",
    "    for i in range(nConduites): \n",
    "        p=0\n",
    "        P1=np.zeros(3)\n",
    "        P2=np.zeros(3)\n",
    "        while(A[p][i]==0): \n",
    "            p+=1\n",
    "        P1[0]=X[p]\n",
    "        P1[1]=Y[p]\n",
    "        P1[2]=Z[p]\n",
    "        for j in range(p+1,nPoints): \n",
    "            if A[j][i]==-1 or A[j][i]==1 : \n",
    "                P2[0]=X[j]\n",
    "                P2[1]=Y[j]\n",
    "                P2[2]=Z[j]\n",
    "                L[i]+=np.sqrt((P2[0]-P1[0])**2+(P2[1]-P1[1])**2+(P2[2]-P1[2])**2)\n",
    "                P1=P2.copy()\n",
    "                P2=np.zeros(3)                \n",
    "    h=A.T@Z\n",
    "    print(A[Pc])#Pourquoi ça fonctionne pas?\n",
    "    print(A[Pa])#Pourquoi ça fonctionne pas?\n",
    "    A1=np.concatenate((A[Pc],A[Pa]))\n",
    "    Debmax=np.multiply(np.outer(np.ones(len(A1)),alpha*R*R*h/L),A1)\n",
    "    A2=A[Pc]\n",
    "    Debmin=-1*np.multiply(np.outer(np.ones(len(A2)),alpha*R*R*h/L),A2)\n",
    "    Sum=np.sum(np.multiply(np.outer(np.ones(len(A1)),alpha*R*R*h/L),A1),axis=0)\n",
    "    Aub=np.concatenate((np.concatenate((Debmax,Debmin)),Sum))\n",
    "    c=np.multiply(np.multiply(np.outer(np.ones(len(A1)),alpha*R*R*h/L),A1).T,np.concatenate((Pf,C))).T\n",
    "    #c  = -1* alpha*h*R**2/L * np.concatenate((Pf, -1*np.array(C)))       # On traite un problème de maximisation\n",
    "    #A1 = np.eye(len(Dcmin)+len(Damax))\n",
    "    #A2 = -1 * np.eye(len(Dcmin))                         # Matrice identite\n",
    "    #A2Add = np.zeros((len(Dcmin),len(Damax)))            # Matrice de 0\n",
    "    #A2 = np.concatenate((A2,A2Add),axis=1)               # Ajout de 0 a la fin de la matrice\n",
    "    #A5  = np.concatenate((A1,A2))\n",
    "    #A3 = np.ones((1,len(Dcmin)+len(Damax)))\n",
    "    #A3[0,len(Dcmin):(len(Dcmin)+len(Damax))]*=-1\n",
    "    #A6  = alpha*h*R**2/L*np.concatenate((A5,A3))\n",
    "    b  = np.concatenate((np.concatenate((Dcmax,-1*np.array(Damax))),np.concatenate((-1*np.array(Dcmin),[0]))))\n",
    "    res= linprog(c, A_ub = Aub, b_ub = b)#Modifier les bounds\n",
    "    print(c)\n",
    "    return [-1*res.fun, res.x[0:len(Dcmin)],res.x[len(Dcmin):len(Dcmin)+len(Damax)]]#modifier le return"
   ]
  },
  {
   "cell_type": "code",
   "execution_count": 21,
   "metadata": {},
   "outputs": [],
   "source": [
    "def readFile(fileName): \n",
    "    with open(fileName,\"r\") as f :\n",
    "        nPoints = int(f.readline().split()[0])\n",
    "        nConduites=int(f.readline().split()[0])\n",
    "        f.readline()\n",
    "        f.readline()\n",
    "        xyz   = np.array(list(list(float(w) for w in f.readline().split()[:]) for i in range(nPoints)))\n",
    "        f.readline()\n",
    "        f.readline()\n",
    "        A = np.array(list(list(float(w) for w in f.readline().split()[:]) for i in range(nPoints)))\n",
    "        alpha=10**6\n",
    "        R=1\n",
    "        Pa=[2, 6]\n",
    "        Damax=[10000, 5000]\n",
    "        C= [0.2, 0.3]\n",
    "        Pc=[1, 4, 10, 20, 23]\n",
    "        Dcmin=[200, 200, 200, 200, 200]\n",
    "        Dcmax=[4000, 2000, 2000, 3000, 2000]\n",
    "        Pf=0.9\n",
    "        Pi=[3, 5, 7, 8, 9, 11, 12 ,13, 14, 15, 16, 17, 18, 19, 21, 22]\n",
    "        X = xyz[:,0]\n",
    "        Y = xyz[:,1]\n",
    "        Z = xyz[:,2]\n",
    "        \n",
    "    return [nPoints,nConduites,X,Y,Z,A,R,Pa,Damax,C,Pc,Dcmin,Dcmax,Pf,Pi,alpha]\n",
    "    "
   ]
  },
  {
   "cell_type": "code",
   "execution_count": 22,
   "metadata": {
    "scrolled": false
   },
   "outputs": [
    {
     "ename": "IndexError",
     "evalue": "index 23 is out of bounds for axis 0 with size 23",
     "output_type": "error",
     "traceback": [
      "\u001b[1;31m---------------------------------------------------------------------------\u001b[0m",
      "\u001b[1;31mIndexError\u001b[0m                                Traceback (most recent call last)",
      "\u001b[1;32m<ipython-input-22-36838cb30c58>\u001b[0m in \u001b[0;36m<module>\u001b[1;34m()\u001b[0m\n\u001b[0;32m      1\u001b[0m \u001b[1;33m[\u001b[0m\u001b[0mnPoints\u001b[0m\u001b[1;33m,\u001b[0m\u001b[0mnConduites\u001b[0m\u001b[1;33m,\u001b[0m\u001b[0mX\u001b[0m\u001b[1;33m,\u001b[0m\u001b[0mY\u001b[0m\u001b[1;33m,\u001b[0m\u001b[0mZ\u001b[0m\u001b[1;33m,\u001b[0m\u001b[0mA\u001b[0m\u001b[1;33m,\u001b[0m\u001b[0mR\u001b[0m\u001b[1;33m,\u001b[0m\u001b[0mPa\u001b[0m\u001b[1;33m,\u001b[0m\u001b[0mDamax\u001b[0m\u001b[1;33m,\u001b[0m\u001b[0mC\u001b[0m\u001b[1;33m,\u001b[0m\u001b[0mPc\u001b[0m\u001b[1;33m,\u001b[0m\u001b[0mDcmin\u001b[0m\u001b[1;33m,\u001b[0m\u001b[0mDcmax\u001b[0m\u001b[1;33m,\u001b[0m\u001b[0mPf\u001b[0m\u001b[1;33m,\u001b[0m\u001b[0mPi\u001b[0m\u001b[1;33m,\u001b[0m\u001b[0malpha\u001b[0m\u001b[1;33m]\u001b[0m\u001b[1;33m=\u001b[0m\u001b[0mreadFile\u001b[0m\u001b[1;33m(\u001b[0m\u001b[1;34m\"Mini-exemple-avec-solution/Data-mini-exemple-avec-solution.txt\"\u001b[0m\u001b[1;33m)\u001b[0m\u001b[1;33m\u001b[0m\u001b[0m\n\u001b[1;32m----> 2\u001b[1;33m \u001b[0mprint\u001b[0m\u001b[1;33m(\u001b[0m\u001b[0mAnalyse\u001b[0m\u001b[1;33m(\u001b[0m\u001b[0mnPoints\u001b[0m\u001b[1;33m,\u001b[0m\u001b[0mnConduites\u001b[0m\u001b[1;33m,\u001b[0m\u001b[0mX\u001b[0m\u001b[1;33m,\u001b[0m\u001b[0mY\u001b[0m\u001b[1;33m,\u001b[0m\u001b[0mZ\u001b[0m\u001b[1;33m,\u001b[0m\u001b[0mA\u001b[0m\u001b[1;33m,\u001b[0m\u001b[0mR\u001b[0m\u001b[1;33m,\u001b[0m\u001b[0mPa\u001b[0m\u001b[1;33m,\u001b[0m\u001b[0mDamax\u001b[0m\u001b[1;33m,\u001b[0m\u001b[0mC\u001b[0m\u001b[1;33m,\u001b[0m\u001b[0mPc\u001b[0m\u001b[1;33m,\u001b[0m\u001b[0mDcmin\u001b[0m\u001b[1;33m,\u001b[0m\u001b[0mDcmax\u001b[0m\u001b[1;33m,\u001b[0m\u001b[0mPf\u001b[0m\u001b[1;33m*\u001b[0m\u001b[0mnp\u001b[0m\u001b[1;33m.\u001b[0m\u001b[0mones\u001b[0m\u001b[1;33m(\u001b[0m\u001b[0mlen\u001b[0m\u001b[1;33m(\u001b[0m\u001b[0mDcmin\u001b[0m\u001b[1;33m)\u001b[0m\u001b[1;33m)\u001b[0m\u001b[1;33m,\u001b[0m\u001b[0mPi\u001b[0m\u001b[1;33m,\u001b[0m\u001b[0malpha\u001b[0m\u001b[1;33m)\u001b[0m\u001b[1;33m)\u001b[0m\u001b[1;33m\u001b[0m\u001b[0m\n\u001b[0m",
      "\u001b[1;32m<ipython-input-20-951203b538f3>\u001b[0m in \u001b[0;36mAnalyse\u001b[1;34m(nPoints, nConduites, X, Y, Z, A, R, Pa, Damax, C, Pc, Dcmin, Dcmax, Pf, Pi, alpha)\u001b[0m\n\u001b[0;32m     33\u001b[0m                 \u001b[0mP2\u001b[0m\u001b[1;33m=\u001b[0m\u001b[0mnp\u001b[0m\u001b[1;33m.\u001b[0m\u001b[0mzeros\u001b[0m\u001b[1;33m(\u001b[0m\u001b[1;36m3\u001b[0m\u001b[1;33m)\u001b[0m\u001b[1;33m\u001b[0m\u001b[0m\n\u001b[0;32m     34\u001b[0m     \u001b[0mh\u001b[0m\u001b[1;33m=\u001b[0m\u001b[0mA\u001b[0m\u001b[1;33m.\u001b[0m\u001b[0mT\u001b[0m\u001b[1;33m@\u001b[0m\u001b[0mZ\u001b[0m\u001b[1;33m\u001b[0m\u001b[0m\n\u001b[1;32m---> 35\u001b[1;33m     \u001b[0mprint\u001b[0m\u001b[1;33m(\u001b[0m\u001b[0mA\u001b[0m\u001b[1;33m[\u001b[0m\u001b[0mPc\u001b[0m\u001b[1;33m]\u001b[0m\u001b[1;33m)\u001b[0m\u001b[1;31m#Pourquoi ça fonctionne pas?\u001b[0m\u001b[1;33m\u001b[0m\u001b[0m\n\u001b[0m\u001b[0;32m     36\u001b[0m     \u001b[0mprint\u001b[0m\u001b[1;33m(\u001b[0m\u001b[0mA\u001b[0m\u001b[1;33m[\u001b[0m\u001b[0mPa\u001b[0m\u001b[1;33m]\u001b[0m\u001b[1;33m)\u001b[0m\u001b[1;31m#Pourquoi ça fonctionne pas?\u001b[0m\u001b[1;33m\u001b[0m\u001b[0m\n\u001b[0;32m     37\u001b[0m     \u001b[0mA1\u001b[0m\u001b[1;33m=\u001b[0m\u001b[0mnp\u001b[0m\u001b[1;33m.\u001b[0m\u001b[0mconcatenate\u001b[0m\u001b[1;33m(\u001b[0m\u001b[1;33m(\u001b[0m\u001b[0mA\u001b[0m\u001b[1;33m[\u001b[0m\u001b[0mPc\u001b[0m\u001b[1;33m]\u001b[0m\u001b[1;33m,\u001b[0m\u001b[0mA\u001b[0m\u001b[1;33m[\u001b[0m\u001b[0mPa\u001b[0m\u001b[1;33m]\u001b[0m\u001b[1;33m)\u001b[0m\u001b[1;33m)\u001b[0m\u001b[1;33m\u001b[0m\u001b[0m\n",
      "\u001b[1;31mIndexError\u001b[0m: index 23 is out of bounds for axis 0 with size 23"
     ]
    }
   ],
   "source": [
    "[nPoints,nConduites,X,Y,Z,A,R,Pa,Damax,C,Pc,Dcmin,Dcmax,Pf,Pi,alpha]=readFile(\"Mini-exemple-avec-solution/Data-mini-exemple-avec-solution.txt\")\n",
    "print(Analyse(nPoints,nConduites,X,Y,Z,A,R,Pa,Damax,C,Pc,Dcmin,Dcmax,Pf*np.ones(len(Dcmin)),Pi,alpha))"
   ]
  },
  {
   "cell_type": "code",
   "execution_count": null,
   "metadata": {},
   "outputs": [],
   "source": []
  },
  {
   "cell_type": "markdown",
   "metadata": {},
   "source": [
    "# II. Améliorations du réseau"
   ]
  },
  {
   "cell_type": "markdown",
   "metadata": {},
   "source": [
    "# III. Conception d'un réseau optimal"
   ]
  }
 ],
 "metadata": {
  "kernelspec": {
   "display_name": "Python 3",
   "language": "python",
   "name": "python3"
  },
  "language_info": {
   "codemirror_mode": {
    "name": "ipython",
    "version": 3
   },
   "file_extension": ".py",
   "mimetype": "text/x-python",
   "name": "python",
   "nbconvert_exporter": "python",
   "pygments_lexer": "ipython3",
   "version": "3.6.5"
  }
 },
 "nbformat": 4,
 "nbformat_minor": 2
}
