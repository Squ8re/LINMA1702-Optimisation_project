{
 "cells": [
  {
   "cell_type": "markdown",
   "metadata": {},
   "source": [
    "Amadéo David (44761700) - Marine Van Renterghem (31621700) - Sylvie Van Schendel (44841700)"
   ]
  },
  {
   "cell_type": "markdown",
   "metadata": {},
   "source": [
    "# LINMA1702 Optimisation d'un réseau de distribution d'eau"
   ]
  },
  {
   "cell_type": "markdown",
   "metadata": {},
   "source": [
    "## I. Analyse d'un réseau existant"
   ]
  },
  {
   "cell_type": "markdown",
   "metadata": {},
   "source": [
    "### I.1 Que représentent les expressions $A^Th$ et $Af$ ?"
   ]
  },
  {
   "cell_type": "markdown",
   "metadata": {},
   "source": [
    "Soit h le vecteur contenant les hauteurs en chaque point, f le vecteur contenant les débits circulant dans les conduites et A la matrice d'incidence.\n",
    "\n",
    "L'expression $A^Th$ est le vecteur contenant les dénivelés de chaque conduite.\n",
    "\n",
    "L'expression $Af$ est le vecteur contenant les débits nets en chaque point."
   ]
  },
  {
   "cell_type": "markdown",
   "metadata": {},
   "source": [
    "### I.2 "
   ]
  },
  {
   "cell_type": "markdown",
   "metadata": {},
   "source": [
    "### I.4 Résolution numérique du problème I.3 avec les données fournies"
   ]
  },
  {
   "cell_type": "code",
   "execution_count": 7,
   "metadata": {},
   "outputs": [],
   "source": [
    "from scipy.optimize import linprog # import du solveur d'optimisation linéaire à utiliser\n",
    "import matplotlib.pyplot as plt # pour graphiques éventuels\n",
    "import numpy as np"
   ]
  },
  {
   "cell_type": "code",
   "execution_count": null,
   "metadata": {},
   "outputs": [],
   "source": [
    "def readFile(file_name):\n",
    "    \"\"\"\n",
    "    Cette fonction lit un fichier formatté au type utilise dans les exemples du\n",
    "    projet\n",
    "    @pre                : Le fichier file_name est organise de la meme maniere\n",
    "                          que les exemples donnes sur Moodle.\n",
    "    \n",
    "    @param file_name    : contient un String avec le nom du fichier a lire.\n",
    "    \n",
    "    @return n_points    : Contient un 'int' avec le nombre de points\n",
    "    @return n_conduites : Contient un 'int' avec le nombre de conduites\n",
    "    @return X           : Contient un 'numpy.array' avec les abscisses des points.\n",
    "    @return Y           : Contient un 'numpy.array' avec les ordonnees des points.\n",
    "    @return Z           : Contient un 'numpy.array' avec la hauteur des points.\n",
    "    @return A           : Contient un 'numpy.array' avec la matrice d'incidence\n",
    "                          des conduites.\n",
    "    @return alpha       : Contient un 'float' avecla valeur de alpha.\n",
    "    @return R           : Contient un 'float' avec le rayon des conduites.\n",
    "    @return pa          : Contient un 'numpy.array' avec les points\n",
    "                          d'approvisionnement.\n",
    "    @return da_max      : Contient un 'numpy.array' avec les debits maximaux\n",
    "                          extractibles.\n",
    "    @return C           : Contient un 'numpy.array' avec les couts d'extraction.\n",
    "    @return pc          : Contient un 'numpy.array' avec les points de\n",
    "                          consommation.\n",
    "    @return dc_min      : Contient un 'numpy.array' avec les debits minimaux\n",
    "                          consommables.\n",
    "    @return dc_max      : Contient un 'numpy.array' avec les debits maximaux\n",
    "                          consommables.\n",
    "    @return Pf          : Contient un 'float' avec le prix facture.\n",
    "    @return pi          : Contient un 'numpy.array' avec les points\n",
    "                          intermediaires.\n",
    "    @return unit        : Contient un 'String' avec l'unite des coordonnes des\n",
    "                          points.\n",
    "    \"\"\"\n",
    "    with open(file_name,'r') as f:\n",
    "        n_points    = (int)(f.readline().split()[0])\n",
    "        n_conduites = (int)(f.readline().split()[0])\n",
    "        f.readline()\n",
    "        unit        = (f.readline().split(\" = \")[1])\n",
    "        \n",
    "        coord       = np.array(list(list(float(w) for w in f.readline().split()[:]) for i in range(n_points)))\n",
    "        X           = coord[:,0]\n",
    "        Y           = coord[:,1]\n",
    "        Z           = coord[:,2]\n",
    "        \n",
    "        f.readline()\n",
    "        f.readline()\n",
    "        A           = np.array(list(list(float(w) for w in f.readline().split()[:]) for i in range(n_points)))\n",
    "        f.readline()\n",
    "        \n",
    "        UL_alpha    = f.readline().split(\" = \")[1]\n",
    "        UL_alpha    = UL_alpha.split()[0]\n",
    "        UL2_alpha   = np.array(UL_alpha.split(\"^\"))\n",
    "        if(len(UL2_alpha) == 1):\n",
    "            alpha   = (float)(UL2_alpha)\n",
    "        else:\n",
    "            alpha   = (float)(UL2_alpha[0]) ** (float)(UL2_alpha[1])\n",
    "        \n",
    "        R           = (float)(f.readline().split()[4])\n",
    "        f.readline()\n",
    "        \n",
    "        UL_pa       = f.readline().split(\" = [\")[1]\n",
    "        UL_pa       = UL_pa.split(\"]\")[0]\n",
    "        pa          = np.array(list(int(w) for w in UL_pa.split()[:]))\n",
    "        \n",
    "        UL_da_max   = f.readline().split(\" = [\")[1]\n",
    "        UL_da_max   = UL_da_max.split(\"]\")[0]\n",
    "        da_max      = np.array(list(float(w) for w in UL_da_max.split()[:]))\n",
    "        \n",
    "        UL_C        = f.readline().split(\" = [\")[1]\n",
    "        UL_C        = UL_C.split(\"]\")[0]\n",
    "        C           = np.array(list(float(w) for w in UL_C.split()[:]))\n",
    "        \n",
    "        f.readline()\n",
    "        \n",
    "        UL_pc       = f.readline().split(\" = [\")[1]\n",
    "        UL_pc       = UL_pc.split(\"]\")[0]\n",
    "        pc          = np.array(list(int(w) for w in UL_pc.split()[:]))\n",
    "        \n",
    "        UL_dc_min   = f.readline().split(\" = [\")[1]\n",
    "        UL_dc_min   = UL_dc_min.split(\"]\")[0]\n",
    "        dc_min      = np.array(list(float(w) for w in UL_dc_min.split()[:]))\n",
    "        \n",
    "        UL_dc_max   = f.readline().split(\" = [\")[1]\n",
    "        UL_dc_max   = UL_dc_max.split(\"]\")[0]\n",
    "        dc_max      = np.array(list(float(w) for w in UL_dc_max.split()[:]))\n",
    "        \n",
    "        Pf          = (float)(f.readline().split()[3])\n",
    "        \n",
    "        f.readline()\n",
    "        \n",
    "        UL_pi       = f.readline().split(\"[\")[1]\n",
    "        UL_pi       = UL_pi.split(\"]\")[0]\n",
    "        pi          = np.array(list(float(w) for w in UL_pi.split()[:]))\n",
    "        \n",
    "    return (n_points, n_conduites, X, Y, Z, A, alpha, R, pa, da_max, C, pc, dc_min, dc_max, Pf, pi, unit)"
   ]
  },
  {
   "cell_type": "code",
   "execution_count": 47,
   "metadata": {},
   "outputs": [],
   "source": [
    "#Fonction retournant [f,xC,xA] avec f la valeur de la fonction objectif maximale \n",
    "#xC un vecteur des valeurs optimales des débits aux points de consommation\n",
    "#xA un vecteur des valeurs optimales des débits aux points d'approvisionnement\n",
    "#Soit Pf le prix facturé\n",
    "#Soit C le cout\n",
    "#Soit DCmin et DCmax les valeurs minimales et maximales du débit aux points de consommation\n",
    "#Soit DAmax les valeurs maximales du débit extractibles aux sources\n",
    "def Analyse(nPoints,nConduites,X,Y,Z,A,R,Pa,Damax,C,Pc,Dcmin,Dcmax,Pf,Pi,alpha):\n",
    "    \"\"\"\n",
    "    Analyse prend comme argument, dans l'ordre :\n",
    "        ° le cout;\n",
    "        ° le prix facturé;\n",
    "        ° la valeur minimale du débit aux points de consommation;\n",
    "        ° la valeur maximale du débit aux points de consommation;\n",
    "        ° la valeur maximale du débit aux points de productions.\n",
    "    Analyse renvoie un vecteur retournant, dans l'ordre :\n",
    "        ° la valeur de la fonction objectif maximale;\n",
    "        ° un vecteur des valeurs optimales des débits aux points de consommation;\n",
    "        ° un vecteur des valeurs optimales des débits aux points d'approvisionnement.\n",
    "        \n",
    "    \"\"\"\n",
    "    L=np.zeros(nConduites)\n",
    "    for i in range(nConduites): \n",
    "        p=0\n",
    "        P1=np.zeros(3)\n",
    "        P2=np.zeros(3)\n",
    "        while(A[p][i]==0): \n",
    "            p+=1\n",
    "        P1[0]=X[p]\n",
    "        P1[1]=Y[p]\n",
    "        P1[2]=Z[p]\n",
    "        for j in range(p+1,nPoints): \n",
    "            if A[j][i]==-1 or A[j][i]==1 : \n",
    "                P2[0]=X[j]\n",
    "                P2[1]=Y[j]\n",
    "                P2[2]=Z[j]\n",
    "                L[i]+=np.sqrt((P2[0]-P1[0])**2+(P2[1]-P1[1])**2+(P2[2]-P1[2])**2)\n",
    "                P1=P2.copy()\n",
    "                P2=np.zeros(3)\n",
    "    \n",
    "    #print(\"This is L.\")\n",
    "    #print(L)\n",
    "    \n",
    "    h=A.T@Z # le denivele de chaque conduite entre le pt de depart et d'arrivee.\n",
    "    h = -1*h # difference de hauteur positive.\n",
    "    \n",
    "    #print(\"This is h.\")\n",
    "    #print(h)\n",
    "    \n",
    "    A1=np.concatenate((A[np.array(Pc)-1],-1* A[np.array(Pa)-1]))\n",
    "    A3=np.concatenate((A[np.array(Pc)-1], A[np.array(Pa)-1]))\n",
    "    DebMax=np.multiply(np.outer(np.ones(len(A1)),alpha*R*R*h/L),A1)\n",
    "    \n",
    "    print(\"This is DebMax\")\n",
    "    #print(DebMax)\n",
    "    print()\n",
    "    \n",
    "    A2=A[np.array(Pc)-1]\n",
    "    DebMin=-1*np.multiply(np.outer(np.ones(len(A2)),alpha*R*R*h/L),A2)\n",
    "    \n",
    "    Sum=np.sum(np.multiply(np.outer(np.ones(len(A1)),alpha*R*R*h/L),A3), axis=0)\n",
    "    \n",
    "    print(\"This is the Sum\")\n",
    "    #print(Sum)\n",
    "    print()\n",
    "    \n",
    "    Aub=np.concatenate((np.concatenate((DebMax,DebMin)),np.reshape(Sum, (1,np.shape(DebMax)[1]))))\n",
    "    #Aub = np.concatenate((DebMax,DebMin))\n",
    "    print(\"This is Aub.\")\n",
    "    print()\n",
    "    \n",
    "    c=np.sum(np.multiply(np.multiply(np.outer(np.ones(len(A1)),alpha*R*R*h/L),A3).T,np.concatenate((Pf,C))).T,axis=0)\n",
    "    b  = np.concatenate((np.concatenate((Dcmax,np.array(Damax))),np.concatenate((-1*np.array(Dcmin),[0]))))\n",
    "    #b = np.concatenate((np.concatenate((Dcmax, np.array(Damax))), -1*Dcmin))\n",
    "    bounds = np.concatenate((np.zeros((nConduites,1)),np.ones((nConduites,1))),axis=1)\n",
    "    \n",
    "    print(np.shape(Aub))\n",
    "    print(np.shape(c))\n",
    "    \n",
    "    res= linprog(c, A_ub = Aub, b_ub = b,bounds=bounds)#Modifier les bounds\n",
    "    return [-1*res.fun]#modifier le return"
   ]
  },
  {
   "cell_type": "code",
   "execution_count": 48,
   "metadata": {
    "scrolled": false
   },
   "outputs": [
    {
     "name": "stdout",
     "output_type": "stream",
     "text": [
      "This is DebMax\n",
      "\n",
      "This is the Sum\n",
      "\n",
      "This is Aub.\n",
      "\n",
      "(12, 39)\n",
      "(39,)\n",
      "[2218.293249049931]\n"
     ]
    }
   ],
   "source": [
    "(nPoints,nConduites,X,Y,Z,A, alpha,R,Pa,Damax,C,Pc,Dcmin,Dcmax,Pf,Pi, unit)=readFile(\"Mini-exemple-avec-solution/Data-mini-exemple-avec-solution.txt\")\n",
    "print(Analyse(nPoints,nConduites,X,Y,Z,A,R,Pa,Damax,C,Pc,Dcmin,Dcmax,Pf*np.ones(len(Dcmin)),Pi,alpha))"
   ]
  },
  {
   "cell_type": "code",
   "execution_count": 42,
   "metadata": {},
   "outputs": [
    {
     "name": "stdout",
     "output_type": "stream",
     "text": [
      "[-1 -2 -3]\n"
     ]
    }
   ],
   "source": [
    "A = np.array([1, 2, 3])\n",
    "print(A*-1)"
   ]
  },
  {
   "cell_type": "markdown",
   "metadata": {},
   "source": [
    "# II. Améliorations du réseau"
   ]
  },
  {
   "cell_type": "markdown",
   "metadata": {},
   "source": [
    "# III. Conception d'un réseau optimal"
   ]
  }
 ],
 "metadata": {
  "kernelspec": {
   "display_name": "Python 3",
   "language": "python",
   "name": "python3"
  },
  "language_info": {
   "codemirror_mode": {
    "name": "ipython",
    "version": 3
   },
   "file_extension": ".py",
   "mimetype": "text/x-python",
   "name": "python",
   "nbconvert_exporter": "python",
   "pygments_lexer": "ipython3",
   "version": "3.7.1"
  }
 },
 "nbformat": 4,
 "nbformat_minor": 2
}
