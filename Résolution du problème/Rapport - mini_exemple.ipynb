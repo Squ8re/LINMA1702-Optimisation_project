{
 "cells": [
  {
   "cell_type": "markdown",
   "metadata": {},
   "source": [
    "Amadéo David (44761700) - Marine Van Renterghem (31621700) - Sylvie Van Schendel (44841700)"
   ]
  },
  {
   "cell_type": "markdown",
   "metadata": {},
   "source": [
    "# LINMA1702 Optimisation d'un réseau de distribution d'eau"
   ]
  },
  {
   "cell_type": "markdown",
   "metadata": {},
   "source": [
    "## I. Analyse d'un réseau existant"
   ]
  },
  {
   "cell_type": "markdown",
   "metadata": {},
   "source": [
    "### I.1 Que représentent les expressions $A^Th$ et $Af$ ?"
   ]
  },
  {
   "cell_type": "markdown",
   "metadata": {},
   "source": [
    "Soit h le vecteur contenant les hauteurs en chaque point, f le vecteur contenant les débits circulant dans les conduites et A la matrice d'incidence.\n",
    "\n",
    "L'expression $A^Th$ est le vecteur contenant les dénivelés de chaque conduite.\n",
    "\n",
    "L'expression $Af$ est le vecteur contenant les débits nets en chaque point."
   ]
  },
  {
   "cell_type": "markdown",
   "metadata": {},
   "source": [
    "### I.2 "
   ]
  },
  {
   "cell_type": "markdown",
   "metadata": {},
   "source": [
    "### I.4 Résolution numérique du problème I.3 avec les données fournies"
   ]
  },
  {
   "cell_type": "code",
   "execution_count": 6,
   "metadata": {},
   "outputs": [],
   "source": [
    "from scipy.optimize import linprog # import du solveur d'optimisation linéaire à utiliser\n",
    "import matplotlib.pyplot as plt # pour graphiques éventuels\n",
    "import numpy as np"
   ]
  },
  {
   "cell_type": "code",
   "execution_count": 19,
   "metadata": {},
   "outputs": [],
   "source": [
    "# \n",
    "def Analyse(C,Pf,Dcmin,Dcmax,Damax):\n",
    "    \"\"\"\n",
    "    Analyse prend comme argument, dans l'ordre :\n",
    "        ° le cout;\n",
    "        ° le prix facturé;\n",
    "        ° la valeur minimale du débit aux points de consommation;\n",
    "        ° la valeur maximale du débit aux points de consommation;\n",
    "        ° la valeur maximale du débit aux points de productions.\n",
    "    Analyse renvoie un vecteur retournant, dans l'ordre :\n",
    "        ° la valeur de la fonction objectif maximale;\n",
    "        ° un vecteur des valeurs optimales des débits aux points de consommation;\n",
    "        ° un vecteur des valeurs optimales des débits aux points d'approvisionnement.\n",
    "        \n",
    "    \"\"\"\n",
    "    c  = np.concatenate((-1*np.array(Pf), np.array(C)))  # On traite un problème de maximisation\n",
    "    A1 = np.eye(len(Dcmin)+len(Damax))\n",
    "    A2 = -1 * np.eye(len(Dcmin))\n",
    "    A2Add = np.zeros((len(Dcmin),len(Damax)))            # Matrice de 0\n",
    "    A2 = np.concatenate((A2,A2Add),axis=1)               # Ajout de 0 a la fin de la matrice\n",
    "    A  = np.concatenate((A1,A2))\n",
    "    A3 = np.ones((1,len(Dcmin)+len(Damax)))\n",
    "    A3[0,len(Dcmin):(len(Dcmin)+len(Damax))]*=-1\n",
    "    A  = np.concatenate((A,A3))\n",
    "    \n",
    "    b  = np.concatenate((np.concatenate((Dcmax,Damax)),np.concatenate((-1*np.array(Dcmin),[0]))))\n",
    "    #b  = np.concatenate((np.concatenate((Dcmax,Damax)),-1*np.array(Dcmin)))\n",
    "    res= linprog(c, A_ub = A, b_ub = b)\n",
    "    \n",
    "    print(\"This is A\")\n",
    "    print(A)\n",
    "    print(\"This is Damax\")\n",
    "    print(Damax)\n",
    "    print(\"This is Dcmax\")\n",
    "    print(Dcmax)\n",
    "    print(\"This is Dcmin\")\n",
    "    print(Dcmin)\n",
    "    print(\"This is b\")\n",
    "    print(b)\n",
    "    print(\"This is c\")\n",
    "    print(c)\n",
    "    return [-1*res.fun, res.x[0:len(Dcmin)],res.x[len(Dcmin):len(Dcmin)+len(Damax)]]"
   ]
  },
  {
   "cell_type": "code",
   "execution_count": 7,
   "metadata": {},
   "outputs": [],
   "source": [
    "def readFile(fileName): \n",
    "    with open(fileName,\"r\") as f :\n",
    "        nPoints = int(f.readline().split()[0])\n",
    "        nConduites=int(f.readline().split()[0])\n",
    "        f.readline()\n",
    "        f.readline()\n",
    "        xyz   = np.array(list(list(float(w) for w in f.readline().split()[:]) for i in range(nPoints)))\n",
    "        f.readline()\n",
    "        f.readline()\n",
    "        A = np.array(list(list(float(w) for w in f.readline().split()[:]) for i in range(nPoints)))\n",
    "        alpha=10**6\n",
    "        R=1\n",
    "        Pa=[2, 6]\n",
    "        Damax=[10000, 5000]\n",
    "        C= [0.2, 0.3]\n",
    "        Pc=[1, 4, 10, 20, 23]\n",
    "        Dcmin=[200, 200, 200, 200, 200]\n",
    "        Dcmax=[4000, 2000, 2000, 3000, 2000]\n",
    "        Pf=0.9\n",
    "        Pi=[3, 5, 7, 8, 9, 11, 12 ,13, 14, 15, 16, 17, 18, 19, 21, 22]\n",
    "        X = xyz[:,0]\n",
    "        Y = xyz[:,1]\n",
    "        Z = xyz[:,2]\n",
    "        \n",
    "    return [nPoints,nConduites,X,Y,Z,A,R,Pa,Damax,C,Pc,Dcmin,Dcmax,Pf,Pi,alpha]\n",
    "    "
   ]
  },
  {
   "cell_type": "code",
   "execution_count": 20,
   "metadata": {
    "scrolled": false
   },
   "outputs": [
    {
     "name": "stdout",
     "output_type": "stream",
     "text": [
      "This is A\n",
      "[[ 1.  0.  0.  0.  0.  0.  0.]\n",
      " [ 0.  1.  0.  0.  0.  0.  0.]\n",
      " [ 0.  0.  1.  0.  0.  0.  0.]\n",
      " [ 0.  0.  0.  1.  0.  0.  0.]\n",
      " [ 0.  0.  0.  0.  1.  0.  0.]\n",
      " [ 0.  0.  0.  0.  0.  1.  0.]\n",
      " [ 0.  0.  0.  0.  0.  0.  1.]\n",
      " [-1. -0. -0. -0. -0.  0.  0.]\n",
      " [-0. -1. -0. -0. -0.  0.  0.]\n",
      " [-0. -0. -1. -0. -0.  0.  0.]\n",
      " [-0. -0. -0. -1. -0.  0.  0.]\n",
      " [-0. -0. -0. -0. -1.  0.  0.]\n",
      " [ 1.  1.  1.  1.  1. -1. -1.]]\n",
      "This is Damax\n",
      "[10000, 5000]\n",
      "This is Dcmax\n",
      "[4000, 2000, 2000, 3000, 2000]\n",
      "This is Dcmin\n",
      "[200, 200, 200, 200, 200]\n",
      "This is b\n",
      "[ 4000  2000  2000  3000  2000 10000  5000  -200  -200  -200  -200  -200\n",
      "     0]\n",
      "This is c\n",
      "[-0.9 -0.9 -0.9 -0.9 -0.9  0.2  0.3]\n",
      "[8800.0, array([4000., 2000., 2000., 3000., 2000.]), array([10000.,  3000.])]\n"
     ]
    }
   ],
   "source": [
    "[nPoints,nConduites,X,Y,Z,A,R,Pa,Damax,C,Pc,Dcmin,Dcmax,Pf,Pi,alpha]=readFile(\"Mini-exemple-avec-solution/Data-mini-exemple-avec-solution.txt\")\n",
    "print(Analyse(C,Pf*np.ones(len(Dcmin)),Dcmin,Dcmax,Damax))"
   ]
  },
  {
   "cell_type": "code",
   "execution_count": 4,
   "metadata": {},
   "outputs": [
    {
     "name": "stdout",
     "output_type": "stream",
     "text": [
      "-0.0\n"
     ]
    }
   ],
   "source": []
  },
  {
   "cell_type": "markdown",
   "metadata": {},
   "source": [
    "# II. Améliorations du réseau"
   ]
  },
  {
   "cell_type": "markdown",
   "metadata": {},
   "source": [
    "# III. Conception d'un réseau optimal"
   ]
  }
 ],
 "metadata": {
  "kernelspec": {
   "display_name": "Python 3",
   "language": "python",
   "name": "python3"
  },
  "language_info": {
   "codemirror_mode": {
    "name": "ipython",
    "version": 3
   },
   "file_extension": ".py",
   "mimetype": "text/x-python",
   "name": "python",
   "nbconvert_exporter": "python",
   "pygments_lexer": "ipython3",
   "version": "3.7.1"
  }
 },
 "nbformat": 4,
 "nbformat_minor": 2
}
